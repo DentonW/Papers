{
 "cells": [
  {
   "cell_type": "markdown",
   "metadata": {},
   "source": [
    "# Dissertation Images and Calculations: $\\displaystyle \\frac{d\\sigma}{d\\Omega}$"
   ]
  },
  {
   "cell_type": "code",
   "execution_count": 1,
   "metadata": {
    "collapsed": false
   },
   "outputs": [
    {
     "name": "stdout",
     "output_type": "stream",
     "text": [
      "Populating the interactive namespace from numpy and matplotlib\n"
     ]
    }
   ],
   "source": [
    "%pylab inline\n",
    "import scipy\n",
    "StartTime = datetime.datetime.now()"
   ]
  },
  {
   "cell_type": "code",
   "execution_count": 2,
   "metadata": {
    "collapsed": false
   },
   "outputs": [],
   "source": [
    "from scipy.interpolate import interp1d\n",
    "from scipy.special import eval_legendre\n",
    "from mpl_toolkits.mplot3d import Axes3D\n",
    "import pandas as pd\n",
    "from pandasql import sqldf\n",
    "from mpl_toolkits.axes_grid1.inset_locator import zoomed_inset_axes\n",
    "from mpl_toolkits.axes_grid1.inset_locator import inset_axes\n",
    "from mpl_toolkits.axes_grid1.inset_locator import mark_inset"
   ]
  },
  {
   "cell_type": "code",
   "execution_count": 3,
   "metadata": {
    "collapsed": false
   },
   "outputs": [],
   "source": [
    "# The most common set of integration points\n",
    "quadpoints = '[\"75 40 40 40 40 25 25 25\", \"75 40 40 40 40 25 25 25\", \"100 65 45 65 45 45 45 45\", \"115 65 45 65 60 45 45 45\", \"100 65 45 65 45 45 45 45\"]'\n",
    "\n",
    "# For differential cross sections\n",
    "Ntheta = 50"
   ]
  },
  {
   "cell_type": "code",
   "execution_count": 4,
   "metadata": {
    "collapsed": false
   },
   "outputs": [],
   "source": [
    "newsteelblue = '#397BB2'\n",
    "newcoral = '#FF9670'\n",
    "#singletcolor = 'steelblue'\n",
    "#tripletcolor = 'coral'\n",
    "#combinedcolor = '#99CC66'\n",
    "singletcolor = newsteelblue\n",
    "tripletcolor = newcoral\n",
    "combinedcolor = '#52423A'\n",
    "\n",
    "#rc('font', **{'family': 'serif', 'serif': ['Computer Modern']})\n",
    "#rcParams['text.latex.preamble'] = [r'\\boldmath']  # Set for bold LaTeX symbols\n",
    "\n",
    "params = {'backend': 'ps',\n",
    "          'axes.facecolor': 'white',\n",
    "          'axes.labelsize': 19,\n",
    "          'axes.labelcolor': 'black',\n",
    "          'axes.edgecolor': '#bcbcbc',\n",
    "          'axes.unicode_minus': False,\n",
    "          'figure.figsize': [12, 8],\n",
    "          #'figure.figsize': [10, 6.7],\n",
    "          #'font.family': 'sans-serif',\n",
    "          'font.size': 18,\n",
    "          'font.family': 'serif',\n",
    "          'font.serif': ['Palatino'],\n",
    "          'grid.color': '#555555',\n",
    "          'legend.fontsize': 14,\n",
    "          'lines.linewidth': 1.5,\n",
    "          'legend.loc': 'best',\n",
    "          'legend.numpoints': 1,\n",
    "          'legend.fancybox': True,\n",
    "          'legend.shadow': True,\n",
    "          'text.usetex': True,\n",
    "          'xtick.color': 'black',\n",
    "          'xtick.labelsize': 18,\n",
    "          'xtick.major.pad': 6,\n",
    "          'ytick.color': 'black',\n",
    "          'ytick.labelsize': 18,\n",
    "          'ytick.major.pad': 6,\n",
    "         }\n",
    "pylab.rcParams.update(params)\n",
    "\n",
    "dashstyle1 = [7, 1, 3, 1]  # 7 points on, 1 point off, 3 points on, 1 point off\n",
    "dashstyle2 = [7, 1, 1, 1]  # 7 points on, 1 point off, 1 points on, 1 point off\n",
    "\n",
    "\n",
    "def FixPlot(p):\n",
    "    ax = p.gca()\n",
    "    ax.xaxis.set_minor_locator(MultipleLocator( (p.xticks()[0][1]-p.xticks()[0][0]) / 2.0 ))\n",
    "    ax.yaxis.set_minor_locator(MultipleLocator( (p.yticks()[0][1]-p.yticks()[0][0]) / 2.0 ))\n",
    "    ax.xaxis.set_ticks_position('bottom')\n",
    "    ax.yaxis.set_ticks_position('left')\n",
    "\n",
    "    p.grid(b=True, which='major', color='#999999', linestyle=':')\n",
    "    p.grid(b=True, which='minor', color='#eeeeee', linestyle=':')\n",
    "    ax.set_axisbelow(True)"
   ]
  },
  {
   "cell_type": "markdown",
   "metadata": {},
   "source": [
    "## Connecting to Database and Getting Entries"
   ]
  },
  {
   "cell_type": "code",
   "execution_count": 5,
   "metadata": {
    "collapsed": false
   },
   "outputs": [],
   "source": [
    "n1S = 1505  # S-wave singlet\n",
    "n1P = 1000  # P-wave singlet\n",
    "n1D1 = 916  # D-wave singlet\n",
    "n1D2 = 913  # D-wave singlet\n",
    "n1F1 = 385  # F-wave singlet\n",
    "n1F2 = 462  # F-wave singlet\n",
    "n1F = 462   # F-wave singlet (original set)\n",
    "n1G1 = 462   # G-wave singlet\n",
    "n1G2 = 462   # G-wave singlet\n",
    "n1H1 = 462   # H-wave singlet\n",
    "n1H2 = 462   # H-wave singlet\n",
    "\n",
    "n3S = 1633  # S-wave triplet\n",
    "n3P = 1000  # P-wave triplet\n",
    "n3D1 = 919  # D-wave triplet\n",
    "n3D2 = 913  # D-wave triplet\n",
    "n3F1 = 385  # F-wave triplet\n",
    "n3F2 = 462  # F-wave triplet\n",
    "n3F = 462   # F-wave triplet (original set)\n",
    "n3G1 = 462   # G-wave triplet\n",
    "n3G2 = 462   # G-wave triplet\n",
    "n3H1 = 462   # H-wave triplet\n",
    "n3H2 = 462   # H-wave triplet\n",
    "\n",
    "kohnmethod = \"smatrix\"  # The Kohn method that we are plotting"
   ]
  },
  {
   "cell_type": "code",
   "execution_count": 6,
   "metadata": {
    "collapsed": false
   },
   "outputs": [],
   "source": [
    "%run \"Database Functions.py\""
   ]
  },
  {
   "cell_type": "code",
   "execution_count": 7,
   "metadata": {
    "collapsed": false
   },
   "outputs": [],
   "source": [
    "# Choose all entries for each of the partial waves\n",
    "#  Singlet entries\n",
    "entries1S = GetKappaTablenames(cursor, \"lvalue=0 AND istriplet=0 AND mu=0.9 AND alpha=0.586 AND beta=0.58 AND gamma=1.093 AND omega=7 AND resorted=FALSE AND numterms=1505\", quadpoints, 0, 0.866)\n",
    "entries1P = GetKappaTablenames(cursor, \"lvalue=1 AND istriplet=0 AND mu=0.9 AND alpha=0.397 AND beta=0.376 AND gamma=0.962 AND omega=7 AND resorted=FALSE\", quadpoints, 0, 0.866)\n",
    "entries1D1 = GetKappaTablenames(cursor, \"lvalue=2 AND istriplet=0 AND mu=0.7 AND alpha=0.359 AND beta=0.368 AND gamma=0.976 AND omega=6 AND resorted=FALSE\", quadpoints, 0, 0.866)\n",
    "entries1D2 = GetKappaTablenames(cursor, \"lvalue=2 AND istriplet=0 AND mu=0.7 AND alpha=0.6 AND beta=0.368 AND gamma=0.976 AND omega=6 AND resorted=FALSE AND numterms>=913\", quadpoints, 0, 0.866)\n",
    "entries1F1 = GetKappaTablenames(cursor, \"lvalue=3 AND istriplet=0 AND mu=0.7 AND alpha=0.359 AND beta=0.368 AND gamma=0.976 AND omega=5 AND numterms=385\", quadpoints, 0, 0.866)\n",
    "entries1F2 = GetKappaTablenames(cursor, \"lvalue=3 AND istriplet=0 AND mu=0.7 AND alpha=0.5 AND beta=0.6 AND gamma=1.1 AND numterms=462\", quadpoints, 0, 0.866)\n",
    "entries1G1 = GetKappaTablenames(cursor, \"lvalue=4 AND istriplet=0 AND mu=0.7 AND alpha=0.359 AND beta=0.368 AND gamma=0.976 AND omega=5 AND numterms=462 AND shielding=9\", quadpoints, 0, 0.866)\n",
    "entries1G2 = GetKappaTablenames(cursor, \"lvalue=4 AND istriplet=0 AND mu=0.7 AND alpha=0.5 AND beta=0.6 AND gamma=1.1 AND numterms=462\", quadpoints, 0, 0.866)\n",
    "entries1H1 = GetKappaTablenames(cursor, \"lvalue=5 AND istriplet=0 AND mu=0.7 AND alpha=0.359 AND beta=0.368 AND gamma=0.976 AND omega=5 AND numterms=462\", quadpoints, 0, 0.866)\n",
    "entries1H2 = GetKappaTablenames(cursor, \"lvalue=5 AND istriplet=0 AND mu=0.7 AND alpha=0.5 AND beta=0.6 AND gamma=1.1 AND numterms=462\", quadpoints, 0, 0.866)\n",
    "#  Triplet entries\n",
    "entries3S = GetKappaTablenames(cursor, \"lvalue=0 AND istriplet=1 AND mu=0.9 AND alpha=0.323 AND beta=0.334 AND gamma=0.975 AND omega=7 AND resorted=FALSE\", quadpoints, 0, 0.866)\n",
    "entries3P = GetKappaTablenames(cursor, \"lvalue=1 AND istriplet=1 AND mu=0.9 AND alpha=0.310 AND beta=0.311 AND gamma=0.995 AND omega=7 AND resorted=FALSE\", quadpoints, 0, 0.866)\n",
    "entries3D1 = GetKappaTablenames(cursor, \"lvalue=2 AND istriplet=1 AND mu=0.7 AND alpha=0.356 AND beta=0.365 AND gamma=0.976 AND omega=6 AND resorted=FALSE\", quadpoints, 0, 0.866)\n",
    "entries3D2 = GetKappaTablenames(cursor, \"lvalue=2 AND istriplet=1 AND mu=0.7 AND alpha=0.6 AND beta=0.365 AND gamma=0.976 AND omega=6 AND resorted=FALSE AND numterms>=913\", quadpoints, 0, 0.866)\n",
    "entries3F1 = GetKappaTablenames(cursor, \"lvalue=3 AND istriplet=1 AND mu=0.7 AND alpha=0.356 AND beta=0.365 AND gamma=0.976 AND omega=5 AND numterms=385\", quadpoints, 0, 0.866)\n",
    "entries3F2 = GetKappaTablenames(cursor, \"lvalue=3 AND istriplet=1 AND mu=0.7 AND alpha=0.6 AND beta=0.365 AND gamma=0.976 AND omega=5 AND numterms=462\", quadpoints, 0, 0.866)\n",
    "entries3G1 = GetKappaTablenames(cursor, \"lvalue=4 AND istriplet=1 AND mu=0.7 AND alpha=0.356 AND beta=0.365 AND gamma=0.976 AND omega=5 AND numterms=462 AND shielding=9\", quadpoints, 0, 0.866)\n",
    "entries3G2 = GetKappaTablenames(cursor, \"lvalue=4 AND istriplet=1 AND mu=0.7 AND alpha=0.6 AND beta=0.365 AND gamma=0.976 AND omega=5 AND numterms=462\", quadpoints, 0, 0.866)\n",
    "entries3H1 = GetKappaTablenames(cursor, \"lvalue=5 AND istriplet=1 AND mu=0.7 AND alpha=0.356 AND beta=0.365 AND gamma=0.976 AND omega=5 AND numterms=462\", quadpoints, 0, 0.866)\n",
    "entries3H2 = GetKappaTablenames(cursor, \"lvalue=5 AND istriplet=1 AND mu=0.7 AND alpha=0.6 AND beta=0.365 AND gamma=0.976 AND omega=5 AND numterms=462\", quadpoints, 0, 0.866)\n",
    "\n",
    "# Now do the same for the SLS matrix elements\n",
    "#@TODO: Combine with the above?\n",
    "# Singlet entries\n",
    "sls1S, cross_sls1S = GetSLS(cursor, \"lvalue=0 AND istriplet=0 AND mu=0.9 AND alpha=0.586 AND beta=0.58 AND gamma=1.093 AND omega=7 AND resorted=FALSE AND numterms=1505\", 0, quadpoints, 0, 0.866)\n",
    "sls1P, cross_sls1P = GetSLS(cursor, \"lvalue=1 AND istriplet=0 AND mu=0.9 AND alpha=0.397 AND beta=0.376 AND gamma=0.962 AND omega=7 AND resorted=FALSE\", 1, quadpoints, 0, 0.866)\n",
    "sls1D1, cross_sls1D1 = GetSLS(cursor, \"lvalue=2 AND istriplet=0 AND mu=0.7 AND alpha=0.359 AND beta=0.368 AND gamma=0.976 AND omega=6 AND resorted=FALSE\", 2, quadpoints, 0, 0.866)\n",
    "sls1D2, cross_sls1D2 = GetSLS(cursor, \"lvalue=2 AND istriplet=0 AND mu=0.7 AND alpha=0.6 AND beta=0.368 AND gamma=0.976 AND omega=6 AND resorted=FALSE AND numterms>=913\", 2, quadpoints, 0, 0.866)\n",
    "sls1F1, cross_sls1F1 = GetSLS(cursor, \"lvalue=3 AND istriplet=0 AND mu=0.7 AND alpha=0.359 AND beta=0.368 AND gamma=0.976 AND omega=5 AND numterms=385\", 3, quadpoints, 0, 0.866)\n",
    "sls1F2, cross_sls1F2 = GetSLS(cursor, \"lvalue=3 AND istriplet=0 AND mu=0.7 AND alpha=0.5 AND beta=0.6 AND gamma=1.1 AND numterms=462\", 3, quadpoints, 0, 0.866)\n",
    "sls1G1, cross_sls1G1 = GetSLS(cursor, \"lvalue=4 AND istriplet=0 AND mu=0.7 AND alpha=0.359 AND beta=0.368 AND gamma=0.976 AND omega=5 AND numterms=462 AND shielding=9\", 3, quadpoints, 0, 0.866)\n",
    "sls1G2, cross_sls1G2 = GetSLS(cursor, \"lvalue=4 AND istriplet=0 AND mu=0.7 AND alpha=0.5 AND beta=0.6 AND gamma=1.1 AND numterms=462\", 3, quadpoints, 0, 0.866)\n",
    "sls1H1, cross_sls1H1 = GetSLS(cursor, \"lvalue=5 AND istriplet=0 AND mu=0.7 AND alpha=0.359 AND beta=0.368 AND gamma=0.976 AND omega=5 AND numterms=462\", 3, quadpoints, 0, 0.866)\n",
    "sls1H2, cross_sls1H2 = GetSLS(cursor, \"lvalue=5 AND istriplet=0 AND mu=0.7 AND alpha=0.5 AND beta=0.6 AND gamma=1.1 AND numterms=462\", 3, quadpoints, 0, 0.866)\n",
    "#  Triplet entries\n",
    "sls3S, cross_sls3S = GetSLS(cursor, \"lvalue=0 AND istriplet=1 AND mu=0.9 AND alpha=0.323 AND beta=0.334 AND gamma=0.975 AND omega=7 AND resorted=FALSE\", 1, quadpoints, 0, 0.866)\n",
    "sls3P, cross_sls3P = GetSLS(cursor, \"lvalue=1 AND istriplet=1 AND mu=0.9 AND alpha=0.310 AND beta=0.311 AND gamma=0.995 AND omega=7 AND resorted=FALSE\", 1, quadpoints, 0, 0.866)\n",
    "sls3D1, cross_sls3D1 = GetSLS(cursor, \"lvalue=2 AND istriplet=1 AND mu=0.7 AND alpha=0.356 AND beta=0.365 AND gamma=0.976 AND omega=6 AND resorted=FALSE\", 2, quadpoints, 0, 0.866)\n",
    "sls3D2, cross_sls3D2 = GetSLS(cursor, \"lvalue=2 AND istriplet=1 AND mu=0.7 AND alpha=0.356 AND beta=0.365 AND gamma=0.976 AND omega=6 AND resorted=FALSE AND numterms>=913\", 2, quadpoints, 0, 0.866)\n",
    "sls3F1, cross_sls3F1 = GetSLS(cursor, \"lvalue=3 AND istriplet=1 AND mu=0.7 AND alpha=0.356 AND beta=0.365 AND gamma=0.976 AND omega=5 AND numterms=385\", 3, quadpoints, 0, 0.866)\n",
    "sls3F2, cross_sls3F2 = GetSLS(cursor, \"lvalue=3 AND istriplet=1 AND mu=0.7 AND alpha=0.6 AND beta=0.365 AND gamma=0.976 AND omega=5 AND numterms=462\", 3, quadpoints, 0, 0.866)\n",
    "sls3G1, cross_sls3G1 = GetSLS(cursor, \"lvalue=4 AND istriplet=1 AND mu=0.7 AND alpha=0.356 AND beta=0.365 AND gamma=0.976 AND omega=5 AND numterms=462 AND shielding=9\", 3, quadpoints, 0, 0.866)\n",
    "sls3G2, cross_sls3G2 = GetSLS(cursor, \"lvalue=4 AND istriplet=1 AND mu=0.7 AND alpha=0.6 AND beta=0.365 AND gamma=0.976 AND omega=5 AND numterms=462\", 3, quadpoints, 0, 0.866)\n",
    "sls3H1, cross_sls3H1 = GetSLS(cursor, \"lvalue=5 AND istriplet=1 AND mu=0.7 AND alpha=0.356 AND beta=0.365 AND gamma=0.976 AND omega=5 AND numterms=462\", 3, quadpoints, 0, 0.866)\n",
    "sls3H2, cross_sls3H2 = GetSLS(cursor, \"lvalue=5 AND istriplet=1 AND mu=0.7 AND alpha=0.6 AND beta=0.365 AND gamma=0.976 AND omega=5 AND numterms=462\", 3, quadpoints, 0, 0.866)"
   ]
  },
  {
   "cell_type": "code",
   "execution_count": 8,
   "metadata": {
    "collapsed": false
   },
   "outputs": [
    {
     "name": "stdout",
     "output_type": "stream",
     "text": [
      "Loading singlet phase shifts\n",
      "Halfway through loading singlet phase shifts\n",
      "Loading triplet phase shifts\n",
      "Halfway through loading triplet phase shifts\n"
     ]
    }
   ],
   "source": [
    "# Obtains the phase shifts at the desired number of terms for each partial wave\n",
    "#  Singlet\n",
    "print \"Loading singlet phase shifts\"\n",
    "kappa1S, E1S, phase1S, cross1S = GetPhaseShifts(cursor, entries1S, n1S, 0, kohnmethod)\n",
    "kappa1P, E1P, phase1P, cross1P = GetPhaseShifts(cursor, entries1P, n1P, 1, kohnmethod)\n",
    "kappa1D1, E1D1, phase1D1, cross1D1 = GetPhaseShifts(cursor, entries1D1, n1D1, 2, kohnmethod)\n",
    "kappa1D2, E1D2, phase1D2, cross1D2 = GetPhaseShifts(cursor, entries1D2, n1D2, 2, kohnmethod)\n",
    "print \"Halfway through loading singlet phase shifts\"\n",
    "kappa1F1, E1F1, phase1F1, cross1F1 = GetPhaseShifts(cursor, entries1F1, n1F1, 3, kohnmethod)\n",
    "kappa1F2, E1F2, phase1F2, cross1F2 = GetPhaseShifts(cursor, entries1F2, n1F2, 3, kohnmethod)\n",
    "kappa1G1, E1G1, phase1G1, cross1G1 = GetPhaseShifts(cursor, entries1G1, n1G1, 4, kohnmethod)\n",
    "kappa1G2, E1G2, phase1G2, cross1G2 = GetPhaseShifts(cursor, entries1G2, n1G2, 4, kohnmethod)\n",
    "kappa1H1, E1H1, phase1H1, cross1H1 = GetPhaseShifts(cursor, entries1H1, n1H1, 5, kohnmethod)\n",
    "kappa1H2, E1H2, phase1H2, cross1H2 = GetPhaseShifts(cursor, entries1H2, n1H2, 5, kohnmethod)\n",
    "#kappa1FFull, E1FFull, phase1FFull, cross1FFull = GetPhaseShifts(cursor, entries1FFull, n1F, 3, kohnmethod)\n",
    "print \"Loading triplet phase shifts\"\n",
    "#  Triplet\n",
    "kappa3S, E3S, phase3S, cross3S = GetPhaseShifts(cursor, entries3S, n3S, 0, kohnmethod)\n",
    "kappa3P, E3P, phase3P, cross3P = GetPhaseShifts(cursor, entries3P, n3P, 1, kohnmethod)\n",
    "kappa3D1, E3D1, phase3D1, cross3D1 = GetPhaseShifts(cursor, entries3D1, n3D1, 2, kohnmethod)\n",
    "kappa3D2, E3D2, phase3D2, cross3D2 = GetPhaseShifts(cursor, entries3D2, n3D2, 2, kohnmethod)\n",
    "print \"Halfway through loading triplet phase shifts\"\n",
    "kappa3F1, E3F1, phase3F1, cross3F1 = GetPhaseShifts(cursor, entries3F1, n3F1, 3, kohnmethod)\n",
    "kappa3F2, E3F2, phase3F2, cross3F2 = GetPhaseShifts(cursor, entries3F2, n3F2, 3, kohnmethod)\n",
    "kappa3G1, E3G1, phase3G1, cross3G1 = GetPhaseShifts(cursor, entries3G1, n3G1, 4, kohnmethod)\n",
    "kappa3G2, E3G2, phase3G2, cross3G2 = GetPhaseShifts(cursor, entries3G2, n3G2, 4, kohnmethod)\n",
    "kappa3H1, E3H1, phase3H1, cross3H1 = GetPhaseShifts(cursor, entries3H1, n3H1, 5, kohnmethod)\n",
    "kappa3H2, E3H2, phase3H2, cross3H2 = GetPhaseShifts(cursor, entries3H2, n3H2, 5, kohnmethod)\n",
    "#kappa3FFull, E3FFull, phase3FFull, cross3FFull = GetPhaseShifts(cursor, entries3FFull, n3F, 3, kohnmethod)"
   ]
  },
  {
   "cell_type": "code",
   "execution_count": 9,
   "metadata": {
    "collapsed": false
   },
   "outputs": [],
   "source": [
    "# D-wave\n",
    "# Singlet\n",
    "kappa1D = np.concatenate((kappa1D1[kappa1D1<0.3],kappa1D2[kappa1D2>=0.3]))\n",
    "E1D = np.concatenate((E1D1[kappa1D1<0.3],E1D2[kappa1D2>=0.3]))\n",
    "phase1D = np.concatenate((phase1D1[kappa1D1<0.3],phase1D2[kappa1D2>=0.3]))\n",
    "cross1D = np.concatenate((cross1D1[kappa1D1<0.3],cross1D2[kappa1D2>=0.3]))\n",
    "sls1D = np.concatenate((sls1D1[kappa1D1<0.3],sls1D2[kappa1D2>=0.3]))\n",
    "# Triplet\n",
    "kappa3D = np.concatenate((kappa3D1[kappa3D1<0.3],kappa3D2[kappa3D2>=0.3]))\n",
    "E3D = np.concatenate((E3D1[kappa3D1<0.3],E3D2[kappa3D2>=0.3]))\n",
    "phase3D = np.concatenate((phase3D1[kappa3D1<0.3],phase3D2[kappa3D2>=0.3]))\n",
    "cross3D = np.concatenate((cross3D1[kappa3D1<0.3],cross3D2[kappa3D2>=0.3]))\n",
    "sls3D = np.concatenate((sls3D1[kappa3D1<0.3],sls3D2[kappa3D2>=0.3]))\n",
    "\n",
    "# F-wave\n",
    "# Singlet\n",
    "kappa1F = np.concatenate((kappa1F1[kappa1F1<0.4],kappa1F2[kappa1F2>=0.4]))\n",
    "E1F = np.concatenate((E1F1[kappa1F1<0.4],E1F2[kappa1F2>=0.4]))\n",
    "phase1F = np.concatenate((phase1F1[kappa1F1<0.4],phase1F2[kappa1F2>=0.4]))\n",
    "cross1F = np.concatenate((cross1F1[kappa1F1<0.4],cross1F2[kappa1F2>=0.4]))\n",
    "sls1F = np.concatenate((sls1F1[kappa1F1<0.4],sls1F2[kappa1F2>=0.4]))\n",
    "# Triplet\n",
    "kappa3F = np.concatenate((kappa3F1[kappa3F1<0.4],kappa3F2[kappa3F2>=0.4]))\n",
    "E3F = np.concatenate((E3F1[kappa3F1<0.4],E3F2[kappa3F2>=0.4]))\n",
    "phase3F = np.concatenate((phase3F1[kappa3F1<0.4],phase3F2[kappa3F2>=0.4]))\n",
    "cross3F = np.concatenate((cross3F1[kappa3F1<0.4],cross3F2[kappa3F2>=0.4]))\n",
    "sls3F = np.concatenate((sls3F1[kappa3F1<0.4],sls3F2[kappa3F2>=0.4]))\n",
    "\n",
    "# G-wave\n",
    "# Singlet\n",
    "kappa1G = np.concatenate((kappa1G1[kappa1G1<0.45],kappa1G2[kappa1G2>=0.45]))\n",
    "E1G = np.concatenate((E1G1[kappa1G1<0.45],E1G2[kappa1G2>=0.45]))\n",
    "phase1G = np.concatenate((phase1G1[kappa1G1<0.45],phase1G2[kappa1G2>=0.45]))\n",
    "cross1G = np.concatenate((cross1G1[kappa1G1<0.45],cross1G2[kappa1G2>=0.45]))\n",
    "sls1G = np.concatenate((sls1G1[kappa1G1<0.45],sls1G2[kappa1G2>=0.45]))\n",
    "# Triplet\n",
    "kappa3G = np.concatenate((kappa3G1[kappa3G1<0.45],kappa3G2[kappa3G2>=0.45]))\n",
    "E3G = np.concatenate((E3G1[kappa3G1<0.45],E3G2[kappa3G2>=0.45]))\n",
    "phase3G = np.concatenate((phase3G1[kappa3G1<0.45],phase3G2[kappa3G2>=0.45]))\n",
    "cross3G = np.concatenate((cross3G1[kappa3G1<0.45],cross3G2[kappa3G2>=0.45]))\n",
    "sls3G = np.concatenate((sls3G1[kappa3G1<0.45],sls3G2[kappa3G2>=0.45]))\n",
    "\n",
    "# H-wave\n",
    "# Singlet\n",
    "kappa1H = np.concatenate((kappa1H1[kappa1H1<0.45],kappa1H2[kappa1H2>=0.45]))\n",
    "E1H = np.concatenate((E1H1[kappa1H1<0.45],E1H2[kappa1H2>=0.45]))\n",
    "phase1H = np.concatenate((phase1H1[kappa1H1<0.45],phase1H2[kappa1H2>=0.45]))\n",
    "cross1H = np.concatenate((cross1H1[kappa1H1<0.45],cross1H2[kappa1H2>=0.45]))\n",
    "sls1H = np.concatenate((sls1H1[kappa1H1<0.45],sls1H2[kappa1H2>=0.45]))\n",
    "# Triplet\n",
    "kappa3H = np.concatenate((kappa3H1[kappa3H1<0.45],kappa3H2[kappa3H2>=0.45]))\n",
    "E3H = np.concatenate((E3H1[kappa3H1<0.45],E3H2[kappa3H2>=0.45]))\n",
    "phase3H = np.concatenate((phase3H1[kappa3H1<0.45],phase3H2[kappa3H2>=0.45]))\n",
    "cross3H = np.concatenate((cross3H1[kappa3H1<0.45],cross3H2[kappa3H2>=0.45]))\n",
    "sls3H = np.concatenate((sls3H1[kappa3H1<0.45],sls3H2[kappa3H2>=0.45]))"
   ]
  },
  {
   "cell_type": "markdown",
   "metadata": {},
   "source": [
    "For the higher partial waves, the very low $\\kappa$ runs fail, because the phase shifts are very nearly 0."
   ]
  },
  {
   "cell_type": "code",
   "execution_count": 10,
   "metadata": {
    "collapsed": false
   },
   "outputs": [
    {
     "name": "stderr",
     "output_type": "stream",
     "text": [
      "c:\\Coding\\Anaconda\\lib\\site-packages\\IPython\\kernel\\__main__.py:6: FutureWarning: comparison to `None` will result in an elementwise object comparison in the future.\n"
     ]
    }
   ],
   "source": [
    "def AddLowKappa(kappa, energy, phase, cross, sls=None):\n",
    "    kappa = np.insert(kappa, 0, 0.0)\n",
    "    energy = np.insert(energy, 0, 0.0)\n",
    "    phase = np.insert(phase, 0, 0.0)\n",
    "    cross = np.insert(cross, 0, 0.0)\n",
    "    if sls == None:\n",
    "        return [kappa, energy, phase, cross]\n",
    "    sls = np.insert(sls, 0, 0.0)\n",
    "    return [kappa, energy, phase, cross, sls]\n",
    "\n",
    "# Do I even need to do anything with the return values? Does it return by reference or a copy?\n",
    "kappa1P, E1P, phase1P, cross1P, sls1P = AddLowKappa(kappa1P, E1P, phase1P, cross1P, sls1P)\n",
    "kappa1D, E1D, phase1D, cross1D, sls1D = AddLowKappa(kappa1D, E1D, phase1D, cross1D, sls1D)\n",
    "kappa1F, E1F, phase1F, cross1F, sls1F = AddLowKappa(kappa1F, E1F, phase1F, cross1F, sls1F)\n",
    "kappa1G, E1G, phase1G, cross1G, sls1G = AddLowKappa(kappa1G, E1G, phase1G, cross1G, sls1G)\n",
    "kappa1H, E1H, phase1H, cross1H, sls1H = AddLowKappa(kappa1H, E1H, phase1H, cross1H, sls1H)\n",
    "kappa3P, E3P, phase3P, cross3P, sls3P = AddLowKappa(kappa3P, E3P, phase3P, cross3P, sls3P)\n",
    "kappa3D, E3D, phase3D, cross3D, sls3D = AddLowKappa(kappa3D, E3D, phase3D, cross3D, sls3D)\n",
    "kappa3F, E3F, phase3F, cross3F, sls3F = AddLowKappa(kappa3F, E3F, phase3F, cross3F, sls3F)\n",
    "kappa3G, E3G, phase3G, cross3G, sls3G = AddLowKappa(kappa3G, E3G, phase3G, cross3G, sls3G)\n",
    "kappa3H, E3H, phase3H, cross3H, sls3H = AddLowKappa(kappa3H, E3H, phase3H, cross3H, sls3H)\n",
    "#kappa1FFull, E1FFull, phase1FFull, cross1FFull, sls1FFull = AddLowKappa(kappa1FFull, E1FFull, phase1FFull, cross1FFull, sls1FFull)"
   ]
  },
  {
   "cell_type": "markdown",
   "metadata": {},
   "source": [
    "Are there any that still are missing the $\\kappa = 0.866$ runs?"
   ]
  },
  {
   "cell_type": "code",
   "execution_count": 11,
   "metadata": {
    "collapsed": false
   },
   "outputs": [
    {
     "name": "stderr",
     "output_type": "stream",
     "text": [
      "c:\\Coding\\Anaconda\\lib\\site-packages\\IPython\\kernel\\__main__.py:6: FutureWarning: comparison to `None` will result in an elementwise object comparison in the future.\n"
     ]
    }
   ],
   "source": [
    "def AddHighKappa(kappa, energy, phase, cross, sls=None):\n",
    "    kappa = np.append(kappa, 0.866)\n",
    "    energy = np.append(energy, 27.21138505/4.0*0.866**2)\n",
    "    phase = np.append(phase, phase[np.size(phase)-1])  # Repeat last entry\n",
    "    cross = np.append(cross, cross[np.size(cross)-1])\n",
    "    if sls == None:\n",
    "        return [kappa, energy, phase, cross]\n",
    "    sls = np.append(sls, sls[np.size(sls)-1])\n",
    "    return [kappa, energy, phase, cross, sls]\n",
    "\n",
    "kappa3D, E3D, phase3D, cross3D, sls3D = AddHighKappa(kappa3D, E3D, phase3D, cross3D, sls3D)\n",
    "kappa1F, E1F, phase1F, cross1F, sls1F = AddHighKappa(kappa1F, E1F, phase1F, cross1F, sls1F)"
   ]
  },
  {
   "cell_type": "markdown",
   "metadata": {},
   "source": [
    "## Correct the phase shifts near resonances"
   ]
  },
  {
   "cell_type": "markdown",
   "metadata": {},
   "source": [
    "The inverse trigonometric functions only return within a certain range, so we sometimes have to add or subtract $\\pi$ near the resonances."
   ]
  },
  {
   "cell_type": "code",
   "execution_count": 12,
   "metadata": {
    "collapsed": false
   },
   "outputs": [],
   "source": [
    "def swavebackground(E):\n",
    "    return -1.18940-0.36829*E+0.033049*E**2\n",
    "def pwavebackground(E):\n",
    "    return 2.19180-0.52604*E+0.06307*E**2\n",
    "def dwavebackground(E):\n",
    "    return 1.683-0.7528*E+0.10604*E**2\n",
    "\n",
    "swavebkgr = swavebackground(E1S)\n",
    "pwavebkgr = pwavebackground(E1P)\n",
    "dwavebkgr = dwavebackground(E1D)"
   ]
  },
  {
   "cell_type": "code",
   "execution_count": 13,
   "metadata": {
    "collapsed": false
   },
   "outputs": [],
   "source": [
    "def CorrectResonance(E, phase, backgroundfunc):\n",
    "    \"\"\"   \"\"\"\n",
    "    for i in range(np.size(phase)):\n",
    "        if E[i] < 3.0:\n",
    "            continue\n",
    "        if phase[i] - backgroundfunc(E[i]) > pi/2:\n",
    "            phase[i] = phase[i] - pi\n",
    "        if phase[i] - backgroundfunc(E[i]) < -pi/2:\n",
    "            phase[i] = phase[i] + pi\n",
    "    return\n",
    "\n",
    "E1Sorig = np.copy(E1S); phase1Sorig = np.copy(phase1S)\n",
    "CorrectResonance(E1S, phase1S, swavebackground)\n",
    "CorrectResonance(E1P, phase1P, pwavebackground)\n",
    "CorrectResonance(E1D, phase1D, dwavebackground)"
   ]
  },
  {
   "cell_type": "markdown",
   "metadata": {},
   "source": [
    "## Helper Functions"
   ]
  },
  {
   "cell_type": "code",
   "execution_count": 14,
   "metadata": {
    "collapsed": false
   },
   "outputs": [],
   "source": [
    "def ktoE(kappa):\n",
    "    return 27.21138505/4.0 * kappa**2\n",
    "\n",
    "def Etok(E):\n",
    "    return sqrt(E/27.21138505*4.0)"
   ]
  },
  {
   "cell_type": "code",
   "execution_count": 15,
   "metadata": {
    "collapsed": false
   },
   "outputs": [],
   "source": [
    "def PercentDiff(a, b):\n",
    "    return abs((a-b)/(a+b)*2) * 100"
   ]
  },
  {
   "cell_type": "markdown",
   "metadata": {},
   "source": [
    "## Converting to Pandas Dataframes"
   ]
  },
  {
   "cell_type": "code",
   "execution_count": 16,
   "metadata": {
    "collapsed": false
   },
   "outputs": [],
   "source": [
    "df1S = pd.DataFrame({'Kappa': kappa1S, 'E': E1S, 'Phase1S': phase1S, 'Cross1S': cross1S})\n",
    "df1P = pd.DataFrame({'Kappa': kappa1P, 'E': E1P, 'Phase1P': phase1P, 'Cross1P': cross1P})\n",
    "df1D = pd.DataFrame({'Kappa': kappa1D, 'E': E1D, 'Phase1D': phase1D, 'Cross1D': cross1D})\n",
    "df1F = pd.DataFrame({'Kappa': kappa1F, 'E': E1F, 'Phase1F': phase1F, 'Cross1F': cross1F})\n",
    "df1G = pd.DataFrame({'Kappa': kappa1G, 'E': E1G, 'Phase1G': phase1G, 'Cross1G': cross1G})\n",
    "df1H = pd.DataFrame({'Kappa': kappa1H, 'E': E1H, 'Phase1H': phase1H, 'Cross1H': cross1H})\n",
    "df3S = pd.DataFrame({'Kappa': kappa3S, 'E': E3S, 'Phase3S': phase3S, 'Cross3S': cross3S})\n",
    "df3P = pd.DataFrame({'Kappa': kappa3P, 'E': E3P, 'Phase3P': phase3P, 'Cross3P': cross3P})\n",
    "df3D = pd.DataFrame({'Kappa': kappa3D, 'E': E3D, 'Phase3D': phase3D, 'Cross3D': cross3D})\n",
    "df3F = pd.DataFrame({'Kappa': kappa3F, 'E': E3F, 'Phase3F': phase3F, 'Cross3F': cross3F})\n",
    "df3G = pd.DataFrame({'Kappa': kappa3G, 'E': E3G, 'Phase3G': phase3G, 'Cross3G': cross3G})\n",
    "df3H = pd.DataFrame({'Kappa': kappa3H, 'E': E3H, 'Phase3H': phase3H, 'Cross3H': cross3H})"
   ]
  },
  {
   "cell_type": "code",
   "execution_count": 17,
   "metadata": {
    "collapsed": false
   },
   "outputs": [
    {
     "data": {
      "text/html": [
       "<div style=\"max-height:1000px;max-width:1500px;overflow:auto;\">\n",
       "<table border=\"1\" class=\"dataframe\">\n",
       "  <thead>\n",
       "    <tr style=\"text-align: right;\">\n",
       "      <th></th>\n",
       "      <th>Cross1S</th>\n",
       "      <th>E</th>\n",
       "      <th>Kappa</th>\n",
       "      <th>Phase1S</th>\n",
       "      <th>Cross1P</th>\n",
       "      <th>Phase1P</th>\n",
       "      <th>Cross1D</th>\n",
       "      <th>Phase1D</th>\n",
       "      <th>Cross1F</th>\n",
       "      <th>Phase1F</th>\n",
       "      <th>...</th>\n",
       "      <th>Cross3P</th>\n",
       "      <th>Phase3P</th>\n",
       "      <th>Cross3D</th>\n",
       "      <th>Phase3D</th>\n",
       "      <th>Cross3F</th>\n",
       "      <th>Phase3F</th>\n",
       "      <th>Cross3G</th>\n",
       "      <th>Phase3G</th>\n",
       "      <th>Cross3H</th>\n",
       "      <th>Phase3H</th>\n",
       "    </tr>\n",
       "  </thead>\n",
       "  <tbody>\n",
       "    <tr>\n",
       "      <th>0</th>\n",
       "      <td>75.016451</td>\n",
       "      <td>6.802846e-08</td>\n",
       "      <td>0.0001</td>\n",
       "      <td>-0.000433</td>\n",
       "      <td>4.452818e-09</td>\n",
       "      <td>8.614734e-09</td>\n",
       "      <td>3.736173e-10</td>\n",
       "      <td>9.664591e-09</td>\n",
       "      <td>1.735054e-11</td>\n",
       "      <td>2.489302e-09</td>\n",
       "      <td>...</td>\n",
       "      <td>6.840653e-11</td>\n",
       "      <td>-1.307732e-09</td>\n",
       "      <td>8.850449e-11</td>\n",
       "      <td>4.703841e-09</td>\n",
       "      <td>1.400220e-11</td>\n",
       "      <td>2.236244e-09</td>\n",
       "      <td>1.618705e-14</td>\n",
       "      <td>6.705522e-11</td>\n",
       "      <td>1.024455e-09</td>\n",
       "      <td>-1.525879e-08</td>\n",
       "    </tr>\n",
       "    <tr>\n",
       "      <th>1</th>\n",
       "      <td>75.016435</td>\n",
       "      <td>2.721139e-07</td>\n",
       "      <td>0.0002</td>\n",
       "      <td>-0.000866</td>\n",
       "      <td>8.905637e-09</td>\n",
       "      <td>1.722947e-08</td>\n",
       "      <td>7.472345e-10</td>\n",
       "      <td>1.932918e-08</td>\n",
       "      <td>3.470108e-11</td>\n",
       "      <td>4.978603e-09</td>\n",
       "      <td>...</td>\n",
       "      <td>1.368131e-10</td>\n",
       "      <td>-2.615464e-09</td>\n",
       "      <td>1.770090e-10</td>\n",
       "      <td>9.407682e-09</td>\n",
       "      <td>2.800440e-11</td>\n",
       "      <td>4.472487e-09</td>\n",
       "      <td>3.237410e-14</td>\n",
       "      <td>1.341104e-10</td>\n",
       "      <td>2.048911e-09</td>\n",
       "      <td>-3.051759e-08</td>\n",
       "    </tr>\n",
       "    <tr>\n",
       "      <th>2</th>\n",
       "      <td>75.016400</td>\n",
       "      <td>6.122562e-07</td>\n",
       "      <td>0.0003</td>\n",
       "      <td>-0.001299</td>\n",
       "      <td>1.335845e-08</td>\n",
       "      <td>2.584420e-08</td>\n",
       "      <td>1.120852e-09</td>\n",
       "      <td>2.899377e-08</td>\n",
       "      <td>5.205163e-11</td>\n",
       "      <td>7.467905e-09</td>\n",
       "      <td>...</td>\n",
       "      <td>2.052196e-10</td>\n",
       "      <td>-3.923196e-09</td>\n",
       "      <td>2.655135e-10</td>\n",
       "      <td>1.411152e-08</td>\n",
       "      <td>4.200660e-11</td>\n",
       "      <td>6.708731e-09</td>\n",
       "      <td>4.856115e-14</td>\n",
       "      <td>2.011657e-10</td>\n",
       "      <td>3.073366e-09</td>\n",
       "      <td>-4.577638e-08</td>\n",
       "    </tr>\n",
       "  </tbody>\n",
       "</table>\n",
       "<p>3 rows × 26 columns</p>\n",
       "</div>"
      ],
      "text/plain": [
       "     Cross1S             E   Kappa   Phase1S       Cross1P       Phase1P  \\\n",
       "0  75.016451  6.802846e-08  0.0001 -0.000433  4.452818e-09  8.614734e-09   \n",
       "1  75.016435  2.721139e-07  0.0002 -0.000866  8.905637e-09  1.722947e-08   \n",
       "2  75.016400  6.122562e-07  0.0003 -0.001299  1.335845e-08  2.584420e-08   \n",
       "\n",
       "        Cross1D       Phase1D       Cross1F       Phase1F      ...       \\\n",
       "0  3.736173e-10  9.664591e-09  1.735054e-11  2.489302e-09      ...        \n",
       "1  7.472345e-10  1.932918e-08  3.470108e-11  4.978603e-09      ...        \n",
       "2  1.120852e-09  2.899377e-08  5.205163e-11  7.467905e-09      ...        \n",
       "\n",
       "        Cross3P       Phase3P       Cross3D       Phase3D       Cross3F  \\\n",
       "0  6.840653e-11 -1.307732e-09  8.850449e-11  4.703841e-09  1.400220e-11   \n",
       "1  1.368131e-10 -2.615464e-09  1.770090e-10  9.407682e-09  2.800440e-11   \n",
       "2  2.052196e-10 -3.923196e-09  2.655135e-10  1.411152e-08  4.200660e-11   \n",
       "\n",
       "        Phase3F       Cross3G       Phase3G       Cross3H       Phase3H  \n",
       "0  2.236244e-09  1.618705e-14  6.705522e-11  1.024455e-09 -1.525879e-08  \n",
       "1  4.472487e-09  3.237410e-14  1.341104e-10  2.048911e-09 -3.051759e-08  \n",
       "2  6.708731e-09  4.856115e-14  2.011657e-10  3.073366e-09 -4.577638e-08  \n",
       "\n",
       "[3 rows x 26 columns]"
      ]
     },
     "execution_count": 17,
     "metadata": {},
     "output_type": "execute_result"
    }
   ],
   "source": [
    "df = pd.merge(df1S, df1P, on=['Kappa','E'], how='outer')\n",
    "df = pd.merge(df, df1D, on=['Kappa','E'], how='outer')\n",
    "df = pd.merge(df, df1F, on=['Kappa','E'], how='outer')\n",
    "df = pd.merge(df, df1G, on=['Kappa','E'], how='outer')\n",
    "df = pd.merge(df, df1H, on=['Kappa','E'], how='outer')\n",
    "df = pd.merge(df, df3S, on=['Kappa','E'], how='outer')\n",
    "df = pd.merge(df, df3P, on=['Kappa','E'], how='outer')\n",
    "df = pd.merge(df, df3D, on=['Kappa','E'], how='outer')\n",
    "df = pd.merge(df, df3F, on=['Kappa','E'], how='outer')\n",
    "df = pd.merge(df, df3G, on=['Kappa','E'], how='outer')\n",
    "df = pd.merge(df, df3H, on=['Kappa','E'], how='outer')\n",
    "df = df.sort(['Kappa'], ascending=1)\n",
    "df = df.drop_duplicates(subset='Kappa')\n",
    "df.reset_index(inplace=True, drop=True)\n",
    "df.set_index('Kappa', inplace=True, drop=False, append=False)  # Needed for the interpolation\n",
    "df = df.interpolate(method='values')\n",
    "df = df[df.Kappa != 0]  # Remove the first line with 0 energy\n",
    "df.reset_index(inplace=True, drop=True) \n",
    "df[:3]\n",
    "#df.describe()"
   ]
  },
  {
   "cell_type": "code",
   "execution_count": 18,
   "metadata": {
    "collapsed": false
   },
   "outputs": [
    {
     "ename": "TypeError",
     "evalue": "reindex() got an unexpected keyword argument \"axis\"",
     "output_type": "error",
     "traceback": [
      "\u001b[1;31m---------------------------------------------------------------------------\u001b[0m",
      "\u001b[1;31mTypeError\u001b[0m                                 Traceback (most recent call last)",
      "\u001b[1;32m<ipython-input-18-bba0f6dde3ee>\u001b[0m in \u001b[0;36m<module>\u001b[1;34m()\u001b[0m\n\u001b[0;32m      4\u001b[0m \u001b[0mcols\u001b[0m\u001b[1;33m[\u001b[0m\u001b[1;36m1\u001b[0m\u001b[1;33m]\u001b[0m \u001b[1;33m=\u001b[0m \u001b[1;34m'E'\u001b[0m\u001b[1;33m\u001b[0m\u001b[0m\n\u001b[0;32m      5\u001b[0m \u001b[0mcols\u001b[0m\u001b[1;33m[\u001b[0m\u001b[1;36m2\u001b[0m\u001b[1;33m]\u001b[0m \u001b[1;33m=\u001b[0m \u001b[1;34m'Cross1S'\u001b[0m\u001b[1;33m\u001b[0m\u001b[0m\n\u001b[1;32m----> 6\u001b[1;33m \u001b[0mdf\u001b[0m \u001b[1;33m=\u001b[0m \u001b[0mdf\u001b[0m\u001b[1;33m.\u001b[0m\u001b[0mreindex\u001b[0m\u001b[1;33m(\u001b[0m\u001b[0mcolumns\u001b[0m\u001b[1;33m=\u001b[0m\u001b[0mcols\u001b[0m\u001b[1;33m,\u001b[0m \u001b[0maxis\u001b[0m\u001b[1;33m=\u001b[0m\u001b[1;36m1\u001b[0m\u001b[1;33m)\u001b[0m\u001b[1;33m\u001b[0m\u001b[0m\n\u001b[0m\u001b[0;32m      7\u001b[0m \u001b[0mdf\u001b[0m\u001b[1;33m[\u001b[0m\u001b[1;33m:\u001b[0m\u001b[1;36m3\u001b[0m\u001b[1;33m]\u001b[0m\u001b[1;33m\u001b[0m\u001b[0m\n",
      "\u001b[1;32mc:\\Coding\\Anaconda\\lib\\site-packages\\pandas\\core\\frame.pyc\u001b[0m in \u001b[0;36mreindex\u001b[1;34m(self, index, columns, **kwargs)\u001b[0m\n\u001b[0;32m   2498\u001b[0m     \u001b[1;32mdef\u001b[0m \u001b[0mreindex\u001b[0m\u001b[1;33m(\u001b[0m\u001b[0mself\u001b[0m\u001b[1;33m,\u001b[0m \u001b[0mindex\u001b[0m\u001b[1;33m=\u001b[0m\u001b[0mNone\u001b[0m\u001b[1;33m,\u001b[0m \u001b[0mcolumns\u001b[0m\u001b[1;33m=\u001b[0m\u001b[0mNone\u001b[0m\u001b[1;33m,\u001b[0m \u001b[1;33m**\u001b[0m\u001b[0mkwargs\u001b[0m\u001b[1;33m)\u001b[0m\u001b[1;33m:\u001b[0m\u001b[1;33m\u001b[0m\u001b[0m\n\u001b[0;32m   2499\u001b[0m         return super(DataFrame, self).reindex(index=index, columns=columns,\n\u001b[1;32m-> 2500\u001b[1;33m                                               **kwargs)\n\u001b[0m\u001b[0;32m   2501\u001b[0m \u001b[1;33m\u001b[0m\u001b[0m\n\u001b[0;32m   2502\u001b[0m     \u001b[1;33m@\u001b[0m\u001b[0mAppender\u001b[0m\u001b[1;33m(\u001b[0m\u001b[0m_shared_docs\u001b[0m\u001b[1;33m[\u001b[0m\u001b[1;34m'reindex_axis'\u001b[0m\u001b[1;33m]\u001b[0m \u001b[1;33m%\u001b[0m \u001b[0m_shared_doc_kwargs\u001b[0m\u001b[1;33m)\u001b[0m\u001b[1;33m\u001b[0m\u001b[0m\n",
      "\u001b[1;32mc:\\Coding\\Anaconda\\lib\\site-packages\\pandas\\core\\generic.pyc\u001b[0m in \u001b[0;36mreindex\u001b[1;34m(self, *args, **kwargs)\u001b[0m\n\u001b[0;32m   1739\u001b[0m         \u001b[1;32mif\u001b[0m \u001b[0mkwargs\u001b[0m\u001b[1;33m:\u001b[0m\u001b[1;33m\u001b[0m\u001b[0m\n\u001b[0;32m   1740\u001b[0m             raise TypeError('reindex() got an unexpected keyword '\n\u001b[1;32m-> 1741\u001b[1;33m                     'argument \"{0}\"'.format(list(kwargs.keys())[0]))\n\u001b[0m\u001b[0;32m   1742\u001b[0m \u001b[1;33m\u001b[0m\u001b[0m\n\u001b[0;32m   1743\u001b[0m         \u001b[0mself\u001b[0m\u001b[1;33m.\u001b[0m\u001b[0m_consolidate_inplace\u001b[0m\u001b[1;33m(\u001b[0m\u001b[1;33m)\u001b[0m\u001b[1;33m\u001b[0m\u001b[0m\n",
      "\u001b[1;31mTypeError\u001b[0m: reindex() got an unexpected keyword argument \"axis\""
     ]
    }
   ],
   "source": [
    "# The first few columns aren't in the desired order. We fix that here.\n",
    "cols = df.columns.tolist()\n",
    "cols[0] = 'Kappa'\n",
    "cols[1] = 'E'\n",
    "cols[2] = 'Cross1S'\n",
    "df = df.reindex(columns=cols, axis=1)\n",
    "df[:3]"
   ]
  },
  {
   "cell_type": "markdown",
   "metadata": {},
   "source": [
    "## Cross Sections"
   ]
  },
  {
   "cell_type": "code",
   "execution_count": null,
   "metadata": {
    "collapsed": false
   },
   "outputs": [],
   "source": [
    "df['Cross1'] = 0.25*(df['Cross1S'] + df['Cross1P'] + df['Cross1D'] + df['Cross1F'] + df['Cross1G'] + df['Cross1H'])\n",
    "df['Cross3'] = 0.75*(df['Cross3S'] + df['Cross3P'] + df['Cross3D'] + df['Cross3F'] + df['Cross3G'] + df['Cross3H'])\n",
    "df['Cross'] = df['Cross1'] + df['Cross3']"
   ]
  },
  {
   "cell_type": "markdown",
   "metadata": {},
   "source": [
    "## Differential Cross Sections"
   ]
  },
  {
   "cell_type": "markdown",
   "metadata": {},
   "source": [
    "From page 584 of Bransden and Joachain - equation (12.63)"
   ]
  },
  {
   "cell_type": "code",
   "execution_count": null,
   "metadata": {
    "collapsed": false
   },
   "outputs": [],
   "source": [
    "def DifferentialCrossSingle(kappa, theta, kappalist, lmax, interp_phase):\n",
    "    \"\"\" The differential cross sections for a given value of kappa also depend on theta.\n",
    "        This function returns a value with respect to kappa for a given theta. \"\"\"\n",
    "    #@TODO: Make this general for both the singlet and the triplet.\n",
    "\n",
    "    phases = []\n",
    "    for l in range(lmax+1):\n",
    "        phases = np.append(phases, GetSubset(kappalist, [kappa], interp_phase[l]))\n",
    "    #print phases\n",
    "    \n",
    "    diff_cross1 = 0.0\n",
    "    for l in range(lmax+1):\n",
    "        for lp in range(lmax+1):\n",
    "            diff_cross1 = diff_cross1 + 1/kappa**2 * (2*l+1) * (2*lp+1) * np.cos(phases[l]-phases[lp]) * np.sin(phases[l]) * np.sin(phases[lp]) * eval_legendre(l, np.cos(theta)) * eval_legendre(lp, np.cos(theta))\n",
    "            \n",
    "    return diff_cross1"
   ]
  },
  {
   "cell_type": "code",
   "execution_count": null,
   "metadata": {
    "collapsed": false
   },
   "outputs": [],
   "source": [
    "# Singlet\n",
    "interp_phasec1S = np.array(df['Phase1S'].tolist())\n",
    "interp_phasec1P = np.array(df['Phase1P'].tolist())\n",
    "interp_phasec1D = np.array(df['Phase1D'].tolist())\n",
    "interp_phasec1F = np.array(df['Phase1F'].tolist())\n",
    "interp_phasec1G = np.array(df['Phase1G'].tolist())\n",
    "interp_phasec1H = np.array(df['Phase1H'].tolist())\n",
    "interp_phase1 = [interp_phasec1S, interp_phasec1P, interp_phasec1D, interp_phasec1F, interp_phasec1G, interp_phasec1H]\n",
    "# Triplet\n",
    "interp_phasec3S = np.array(df['Phase3S'].tolist())\n",
    "interp_phasec3P = np.array(df['Phase3P'].tolist())\n",
    "interp_phasec3D = np.array(df['Phase3D'].tolist())\n",
    "interp_phasec3F = np.array(df['Phase3F'].tolist())\n",
    "interp_phasec3G = np.array(df['Phase3G'].tolist())\n",
    "interp_phasec3H = np.array(df['Phase3H'].tolist())\n",
    "interp_phase3 = [interp_phasec3S, interp_phasec3P, interp_phasec3D, interp_phasec3F, interp_phasec3G, interp_phasec3H]\n",
    "# Energy and momentum values used\n",
    "kappasub = np.array(df['Kappa'].tolist())\n",
    "Esub = np.array(df['E'].tolist())\n",
    "minK = df['Kappa'].min()\n",
    "maxK = df['Kappa'].max()"
   ]
  },
  {
   "cell_type": "markdown",
   "metadata": {},
   "source": [
    "#### Singlet"
   ]
  },
  {
   "cell_type": "code",
   "execution_count": null,
   "metadata": {
    "collapsed": false
   },
   "outputs": [],
   "source": [
    "lmax = 5\n",
    "\n",
    "theta = np.linspace(0, pi, Ntheta)\n",
    "\n",
    "fig = plt.figure(figsize=(12,8))\n",
    "ax = plt.axes(projection='3d')\n",
    "\n",
    "x = Esub\n",
    "y = theta.copy()\n",
    "X, Y = np.meshgrid(x, y)\n",
    "zs1 = np.array([DifferentialCrossSingle(np.sqrt(4.0/27.21138505*x),y,np.sqrt(4.0/27.21138505*(27.21138505/4.0*kappasub**2)),lmax,interp_phase1) for x,y in zip(np.ravel(X), np.ravel(Y))])\n",
    "zs = zs1\n",
    "Z = zs.reshape(X.shape)\n",
    "\n",
    "#ax.plot_surface(X, Y, Z, rstride=1, cstride=1, linewidth=0, antialiased=True)\n",
    "#ax.plot_surface(X, Y, Z, rstride=1, cstride=1, linewidth=0.1, antialiased=True, cmap=cm.Blues)\n",
    "ax.plot_surface(X, Y, Z, rstride=2, cstride=2, linewidth=0.2, antialiased=True, cmap=cm.Blues)\n",
    "#ax.plot_surface(X, Y, Z, rstride=2, cstride=2, linewidth=0.2, antialiased=True, cmap=cm.gray)\n",
    "#ax.plot_surface(X, Y, Z, antialiased=True, cmap=cm.Blues)\n",
    "\n",
    "ax.tick_params(axis='both', which='major', labelsize=20)\n",
    "ax.set_xlabel(r'${\\rm{E}}_\\kappa$ (eV)', fontsize=20, labelpad=20)\n",
    "ax.set_ylabel(r'$\\theta$ (radians)', fontsize=20)\n",
    "ax.set_zlabel(r\"$\\displaystyle \\frac{d\\sigma}{d\\Omega}$ ($a_0^2/$sr)\", fontsize=20)\n",
    "ax.set_xlim3d(27.21138505/4.0 * minK**2, 27.21138505/4.0 * maxK**2)\n",
    "#ax.set_ylim3d(0, 3.2)\n",
    "ax.set_ylim3d(3.2, 0)\n",
    "\n",
    "plt.tight_layout()\n",
    "plt.savefig(\"diff-cross-sections-singlet.pdf\", bbox_inches='tight')\n",
    "\n",
    "plt.show()"
   ]
  },
  {
   "cell_type": "code",
   "execution_count": null,
   "metadata": {
    "collapsed": false
   },
   "outputs": [],
   "source": [
    "Z.max()"
   ]
  },
  {
   "cell_type": "markdown",
   "metadata": {},
   "source": [
    "#### Triplet"
   ]
  },
  {
   "cell_type": "code",
   "execution_count": null,
   "metadata": {
    "collapsed": false
   },
   "outputs": [],
   "source": [
    "lmax = 5\n",
    "\n",
    "theta = np.linspace(0, pi, Ntheta)\n",
    "\n",
    "fig = plt.figure(figsize=(12,8))\n",
    "ax = plt.axes(projection='3d')\n",
    "\n",
    "x = Esub\n",
    "y = theta.copy()\n",
    "X, Y = np.meshgrid(x, y)\n",
    "zs3 = np.array([DifferentialCrossSingle(np.sqrt(4.0/27.21138505*x),y,np.sqrt(4.0/27.21138505*(27.21138505/4.0*kappasub**2)),lmax,interp_phase3) for x,y in zip(np.ravel(X), np.ravel(Y))])\n",
    "zs = zs3\n",
    "Z = zs.reshape(X.shape)\n",
    "\n",
    "#ax.plot_surface(X, Y, Z, rstride=1, cstride=1, linewidth=0, antialiased=True)\n",
    "#ax.plot_surface(X, Y, Z, rstride=1, cstride=1, linewidth=0.1, antialiased=True, cmap=cm.Blues)\n",
    "ax.plot_surface(X, Y, Z, rstride=2, cstride=2, linewidth=0.2, antialiased=True, cmap=cm.Blues)\n",
    "#ax.plot_surface(X, Y, Z, rstride=2, cstride=2, linewidth=0.2, antialiased=True, cmap=cm.gray)\n",
    "#ax.plot_surface(X, Y, Z, antialiased=True, cmap=cm.Blues)\n",
    "\n",
    "ax.tick_params(axis='both', which='major', labelsize=20)\n",
    "ax.set_xlabel(r'${\\rm{E}}_\\kappa$ (eV)', fontsize=20, labelpad=20)\n",
    "ax.set_ylabel(r'$\\theta$ (radians)', fontsize=20)\n",
    "ax.set_zlabel(r\"$\\displaystyle \\frac{d\\sigma}{d\\Omega}$ ($a_0^2/$sr)\", fontsize=20)\n",
    "ax.set_xlim3d(27.21138505/4.0 * minK**2, 27.21138505/4.0 * maxK**2)\n",
    "#ax.set_ylim3d(0, 3.2)\n",
    "ax.set_ylim3d(3.2, 0)\n",
    "\n",
    "plt.tight_layout()\n",
    "plt.savefig(\"diff-cross-sections-triplet.pdf\", bbox_inches='tight')\n",
    "\n",
    "plt.show()"
   ]
  },
  {
   "cell_type": "markdown",
   "metadata": {},
   "source": [
    "#### Singlet + Triplet"
   ]
  },
  {
   "cell_type": "code",
   "execution_count": null,
   "metadata": {
    "collapsed": false
   },
   "outputs": [],
   "source": [
    "lmax = 5\n",
    "\n",
    "theta = np.linspace(0, pi, Ntheta)\n",
    "\n",
    "fig = plt.figure(figsize=(12,8))\n",
    "ax = plt.axes(projection='3d')\n",
    "\n",
    "x = Esub\n",
    "y = theta.copy()\n",
    "X, Y = np.meshgrid(x, y)\n",
    "# Already calculated these two above\n",
    "#zs1 = np.array([DifferentialCrossSingle(np.sqrt(4.0/27.21138505*x),y,np.sqrt(4.0/27.21138505*(27.21138505/4.0*kappasub**2)),lmax,interp_phase1) for x,y in zip(np.ravel(X), np.ravel(Y))])\n",
    "#zs3 = np.array([DifferentialCrossSingle(np.sqrt(4.0/27.21138505*x),y,np.sqrt(4.0/27.21138505*(27.21138505/4.0*kappasub**2)),lmax,interp_phase3) for x,y in zip(np.ravel(X), np.ravel(Y))])\n",
    "zs = 0.25*zs1 + 0.75*zs3\n",
    "Z = zs.reshape(X.shape)\n",
    "\n",
    "#ax.plot_surface(X, Y, Z, rstride=1, cstride=1, linewidth=0, antialiased=True)\n",
    "#ax.plot_surface(X, Y, Z, rstride=1, cstride=1, linewidth=0.1, antialiased=True, cmap=cm.Blues)\n",
    "ax.plot_surface(X, Y, Z, rstride=2, cstride=2, linewidth=0.2, antialiased=True, cmap=cm.Blues)\n",
    "#ax.plot_surface(X, Y, Z, rstride=2, cstride=2, linewidth=0.2, antialiased=True, cmap=cm.gray)\n",
    "#ax.plot_surface(X, Y, Z, antialiased=True, cmap=cm.Blues)\n",
    "\n",
    "ax.tick_params(axis='both', which='major', labelsize=20)\n",
    "ax.set_xlabel(r'${\\rm{E}}_\\kappa$ (eV)', fontsize=20, labelpad=20)\n",
    "ax.set_ylabel(r'$\\theta$ (radians)', fontsize=20)\n",
    "ax.set_zlabel(r\"$\\displaystyle \\frac{d\\sigma}{d\\Omega}$ ($a_0^2/$sr)\", fontsize=20)\n",
    "ax.set_xlim3d(27.21138505/4.0 * minK**2, 27.21138505/4.0 * maxK**2)\n",
    "#ax.set_ylim3d(0, 3.2)\n",
    "ax.set_ylim3d(3.2, 0)\n",
    "\n",
    "plt.tight_layout()\n",
    "plt.savefig(\"diff-cross-sections-combined.pdf\", bbox_inches='tight')\n",
    "plt.show()"
   ]
  },
  {
   "cell_type": "code",
   "execution_count": null,
   "metadata": {
    "collapsed": false
   },
   "outputs": [],
   "source": [
    "lmax = 5\n",
    "\n",
    "theta = np.linspace(0, pi, Ntheta)\n",
    "\n",
    "fig = plt.figure(figsize=(12,8))\n",
    "ax = plt.axes(projection='3d')\n",
    "\n",
    "x = Esub\n",
    "y = theta.copy()\n",
    "X, Y = np.meshgrid(x, y)\n",
    "# Already calculated these two above\n",
    "#zs1 = np.array([DifferentialCrossSingle(np.sqrt(4.0/27.21138505*x),y,np.sqrt(4.0/27.21138505*(27.21138505/4.0*kappasub**2)),lmax,interp_phase1) for x,y in zip(np.ravel(X), np.ravel(Y))])\n",
    "#zs3 = np.array([DifferentialCrossSingle(np.sqrt(4.0/27.21138505*x),y,np.sqrt(4.0/27.21138505*(27.21138505/4.0*kappasub**2)),lmax,interp_phase3) for x,y in zip(np.ravel(X), np.ravel(Y))])\n",
    "zs = 0.25*zs1 + 0.75*zs3\n",
    "Z = zs.reshape(X.shape)\n",
    "\n",
    "#ax.plot_surface(X, Y, Z, rstride=1, cstride=1, linewidth=0, antialiased=True)\n",
    "#ax.plot_surface(X, Y, Z, rstride=1, cstride=1, linewidth=0.1, antialiased=True, cmap=cm.Blues)\n",
    "ax.plot_surface(X, Y, Z, rstride=2, cstride=2, linewidth=0.2, antialiased=True, cmap=cm.Blues)\n",
    "#ax.plot_surface(X, Y, Z, rstride=2, cstride=2, linewidth=0.2, antialiased=True, cmap=cm.gray)\n",
    "#ax.plot_surface(X, Y, Z, antialiased=True, cmap=cm.Blues)\n",
    "\n",
    "ax.tick_params(axis='both', which='major', labelsize=20)\n",
    "ax.set_ylabel(r'$\\theta$ (radians)', fontsize=20)\n",
    "ax.set_xlim3d(27.21138505/4.0 * minK**2, 27.21138505/4.0 * maxK**2)\n",
    "#ax.set_ylim3d(0, 3.2)\n",
    "ax.set_ylim3d(3.2, 0)\n",
    "ax.view_init(elev=40, azim=180)\n",
    "#ax.view_init(elev=40, azim=110)\n",
    "ax.zaxis.set_rotate_label(False)\n",
    "ax.set_zlabel(r\"$\\displaystyle \\frac{d\\sigma}{d\\Omega}$ ($a_0^2/$sr)\", fontsize=20, rotation=95)\n",
    "ax.xaxis.set_rotate_label(False)\n",
    "ax.set_xlabel(r'${\\rm{E}}_\\kappa$ (eV)', fontsize=20, labelpad=20, rotation=95)\n",
    "\n",
    "plt.tight_layout()\n",
    "plt.savefig(\"diff-cross-sections-combined-1.pdf\", bbox_inches='tight')\n",
    "\n",
    "plt.show()"
   ]
  },
  {
   "cell_type": "code",
   "execution_count": null,
   "metadata": {
    "collapsed": false
   },
   "outputs": [],
   "source": [
    "lmax = 5\n",
    "\n",
    "theta = np.linspace(0, pi, Ntheta)\n",
    "\n",
    "fig = plt.figure(figsize=(12,8))\n",
    "ax = plt.axes(projection='3d')\n",
    "\n",
    "x = Esub\n",
    "y = theta.copy()\n",
    "X, Y = np.meshgrid(x, y)\n",
    "# Already calculated these two above\n",
    "#zs1 = np.array([DifferentialCrossSingle(np.sqrt(4.0/27.21138505*x),y,np.sqrt(4.0/27.21138505*(27.21138505/4.0*kappasub**2)),lmax,interp_phase1) for x,y in zip(np.ravel(X), np.ravel(Y))])\n",
    "#zs3 = np.array([DifferentialCrossSingle(np.sqrt(4.0/27.21138505*x),y,np.sqrt(4.0/27.21138505*(27.21138505/4.0*kappasub**2)),lmax,interp_phase3) for x,y in zip(np.ravel(X), np.ravel(Y))])\n",
    "zs = 0.25*zs1 + 0.75*zs3\n",
    "Z = zs.reshape(X.shape)\n",
    "\n",
    "#ax.plot_surface(X, Y, Z, rstride=1, cstride=1, linewidth=0, antialiased=True)\n",
    "#ax.plot_surface(X, Y, Z, rstride=1, cstride=1, linewidth=0.1, antialiased=True, cmap=cm.Blues)\n",
    "ax.plot_surface(X, Y, Z, rstride=2, cstride=2, linewidth=0.2, antialiased=True, cmap=cm.Blues)\n",
    "#ax.plot_surface(X, Y, Z, rstride=2, cstride=2, linewidth=0.2, antialiased=True, cmap=cm.gray)\n",
    "#ax.plot_surface(X, Y, Z, antialiased=True, cmap=cm.Blues)\n",
    "\n",
    "ax.tick_params(axis='both', which='major', labelsize=20)\n",
    "ax.set_xlabel(r'${\\rm{E}}_\\kappa$ (eV)', fontsize=20, labelpad=20)\n",
    "ax.set_ylabel(r'$\\theta$ (radians)', fontsize=20)\n",
    "ax.set_zlabel(r\"$\\displaystyle \\frac{d\\sigma}{d\\Omega}$ ($a_0^2/$sr)\", fontsize=20)\n",
    "ax.set_xlim3d(27.21138505/4.0 * minK**2, 27.21138505/4.0 * maxK**2)\n",
    "#ax.set_ylim3d(0, 3.2)\n",
    "ax.set_ylim3d(3.2, 0)\n",
    "#ax.view_init(elev=40, azim=180)\n",
    "ax.view_init(elev=40, azim=110)\n",
    "\n",
    "plt.tight_layout()\n",
    "plt.savefig(\"diff-cross-sections-combined-2.pdf\", bbox_inches='tight')\n",
    "\n",
    "plt.show()"
   ]
  },
  {
   "cell_type": "code",
   "execution_count": null,
   "metadata": {
    "collapsed": false
   },
   "outputs": [],
   "source": [
    "theta = (0, pi/2, pi)\n",
    "#plotcol = ('steelblue', '#99CC66', 'coral')\n",
    "#plotcol = (\"#8dd3c7\", \"#377eb8\", \"#52423A\")\n",
    "plotcol = (\"#8dd3c7\", '#5F91B7', \"#52423A\")\n",
    "plotsty = ('-', '-', ':')\n",
    "\n",
    "lmax = 5  # Through the H-wave\n",
    "\n",
    "pyplot.xlabel(r\"${\\rm{E}}_{\\kappa}$ (eV)\")\n",
    "pyplot.ylabel(r\"$\\displaystyle \\frac{d\\sigma}{d\\Omega}$ ($a_0^2/$sr)\")\n",
    "\n",
    "for j, t in enumerate(theta):\n",
    "    diff_cross = []\n",
    "    for i in range(np.size(kappasub)):\n",
    "        k = kappasub[i]\n",
    "        d1 = DifferentialCrossSingle(k, t, kappasub, lmax, interp_phase1)\n",
    "        d3 = DifferentialCrossSingle(k, t, kappasub, lmax, interp_phase3)\n",
    "        diff_cross = np.append(diff_cross, 0.25*d1 + 0.75*d3)\n",
    "    kappalabel = r'$\\theta = ' + str(t*180/pi) + r'^{\\circ}$'\n",
    "    #pyplot.plot(ktoE(kappasub), diff_cross, plotsty[j], marker='.', markersize=0.01, label=kappalabel, color=plotcol[j])\n",
    "    line, = pyplot.plot(ktoE(kappasub), diff_cross, marker='.', markersize=0.01, label=kappalabel, color=plotcol[j])\n",
    "    #if j == 2:\n",
    "    #    line.set_dashes([12, 2, 4, 2]) \n",
    "\n",
    "pyplot.legend()\n",
    "pyplot.xlim([0,5.15])\n",
    "FixPlot(plt)\n",
    "#pyplot.ylabel(r\"$\\displaystyle \\frac{d\\sigma}{d\\Omega}$ ($a_0^2/$sr)\", fontsize=22)\n",
    "pyplot.savefig(\"diff-cross-section-2D-theta.pdf\", bbox_inches='tight')\n",
    "pyplot.show()"
   ]
  },
  {
   "cell_type": "code",
   "execution_count": null,
   "metadata": {
    "collapsed": false
   },
   "outputs": [],
   "source": [
    "#ki = (0.05, 0.1, 0.15, 0.2, 0.25, 0.26, 0.27, 0.28, 0.3, 0.4, 0.5, 0.6, 0.7)\n",
    "ki = (0.05,0.1,0.2,0.3,0.4,0.5,0.6,0.7)\n",
    "colors = ('#52423A', \"#8dd3c7\", '#5F91B7')\n",
    "\n",
    "lmax = 5  # Through the H-wave\n",
    "#Ntheta1 = 100\n",
    "Ntheta1 = Ntheta\n",
    "theta = np.linspace(0, pi, Ntheta1)\n",
    "#theta = np.array((1.0, 1.1))\n",
    "#Ntheta1 = np.size(theta)\n",
    "\n",
    "#pyplot.figure(1, figsize=(12,10))\n",
    "\n",
    "#pyplot.title(r\"$^1S$ versus E for $\\theta = $\" + str(theta))\n",
    "pyplot.xlabel(r\"$\\theta$ (deg)\")\n",
    "pyplot.ylabel(r\"$\\displaystyle \\frac{d\\sigma}{d\\Omega}$  ($a_0^2/$sr)\")\n",
    "#pyplot.legend(prop={'size':6})\n",
    "\n",
    "idx = 0\n",
    "for k in ki:\n",
    "    diff_cross = []\n",
    "    for i in range(Ntheta1):\n",
    "        d1 = DifferentialCrossSingle(k, theta[i], kappasub, lmax, interp_phase1)\n",
    "        d3 = DifferentialCrossSingle(k, theta[i], kappasub, lmax, interp_phase3)\n",
    "        diff_cross = np.append(diff_cross, 0.25*d1 + 0.75*d3)\n",
    "        #diff_cross = np.append(diff_cross, d3)\n",
    "    #kappalabel = r'$\\kappa = ' + str(k) + r' / E = ' + \"{0:.2f}\".format(ktoE(k)) + r'$'\n",
    "    kappalabel = r'$\\kappa = ' + str(k) + r'$'\n",
    "    if idx < 3:\n",
    "        lsty = 'solid'\n",
    "    elif idx < 6:\n",
    "        lsty = 'dashed'\n",
    "    else:\n",
    "        lsty = '-.'\n",
    "    idx += 1\n",
    "    #pyplot.plot(theta*180/pi, diff_cross, marker='.', markersize=0.01, label=kappalabel, ls=lsty, color=colors[idx%3])\n",
    "    pyplot.plot(theta*180/pi, diff_cross, label=kappalabel, ls=lsty, color=colors[idx%3])\n",
    "    #print diff_cross[0]\n",
    "\n",
    "#pyplot.legend(loc='upper right', shadow=True, prop={'size':14})\n",
    "pyplot.legend()\n",
    "FixPlot(plt)\n",
    "#pyplot.xlim([0, 3.2])\n",
    "pyplot.savefig(\"diff-cross-section-2D-kappa.pdf\", bbox_inches='tight')\n",
    "pyplot.show()"
   ]
  },
  {
   "cell_type": "markdown",
   "metadata": {},
   "source": [
    "### Maximum Percentages for $\\frac{d\\sigma}{d\\Omega}$"
   ]
  },
  {
   "cell_type": "code",
   "execution_count": null,
   "metadata": {
    "collapsed": false
   },
   "outputs": [],
   "source": [
    "#Ntheta = 50\n",
    "lmax = 5\n",
    "\n",
    "Zarrays = []\n",
    "for l in range(lmax+1):\n",
    "    theta = np.linspace(0, pi, Ntheta)\n",
    "    x = Esub\n",
    "    y = theta.copy()\n",
    "    X, Y = np.meshgrid(x, y)\n",
    "    zs1 = np.array([DifferentialCrossSingle(np.sqrt(4.0/27.21138505*x),y,np.sqrt(4.0/27.21138505*(27.21138505/4.0*kappasub**2)),l,interp_phase1) for x,y in zip(np.ravel(X), np.ravel(Y))])\n",
    "    zs3 = np.array([DifferentialCrossSingle(np.sqrt(4.0/27.21138505*x),y,np.sqrt(4.0/27.21138505*(27.21138505/4.0*kappasub**2)),l,interp_phase3) for x,y in zip(np.ravel(X), np.ravel(Y))])\n",
    "    zs = 0.25*zs1 + 0.75*zs3\n",
    "    Z = zs.reshape(X.shape)\n",
    "    #Zarrays.append(Z.ravel())\n",
    "    Zarrays.append(Z)"
   ]
  },
  {
   "cell_type": "code",
   "execution_count": null,
   "metadata": {
    "collapsed": false
   },
   "outputs": [],
   "source": [
    "print \"Maximum percent differences\"\n",
    "print \"P-wave: \", PercentDiff(Zarrays[0], Zarrays[1]).max()\n",
    "print \"D-wave: \", PercentDiff(Zarrays[1], Zarrays[2]).max()\n",
    "print \"F-wave: \", PercentDiff(Zarrays[2], Zarrays[3]).max()\n",
    "print \"G-wave: \", PercentDiff(Zarrays[3], Zarrays[4]).max()\n",
    "print \"H-wave: \", PercentDiff(Zarrays[4], Zarrays[5]).max()\n",
    "print\n",
    "print \"Average percent differences\"\n",
    "print \"P-wave: \", PercentDiff(Zarrays[0], Zarrays[1]).mean()\n",
    "print \"D-wave: \", PercentDiff(Zarrays[1], Zarrays[2]).mean()\n",
    "print \"F-wave: \", PercentDiff(Zarrays[2], Zarrays[3]).mean()\n",
    "print \"G-wave: \", PercentDiff(Zarrays[3], Zarrays[4]).mean()\n",
    "print \"H-wave: \", PercentDiff(Zarrays[4], Zarrays[5]).mean()"
   ]
  },
  {
   "cell_type": "code",
   "execution_count": null,
   "metadata": {
    "collapsed": false
   },
   "outputs": [],
   "source": [
    "df['E']"
   ]
  },
  {
   "cell_type": "code",
   "execution_count": null,
   "metadata": {
    "collapsed": false
   },
   "outputs": [],
   "source": [
    "theta"
   ]
  },
  {
   "cell_type": "markdown",
   "metadata": {},
   "source": [
    "#Zarrays[4][:,0], Zarrays[4][0]\n",
    "np.size(pd[:,0])\n",
    "pd[:,191]\n",
    "\n",
    "pyplot.plot(theta, pd[:,191])\n",
    "pyplot.show()"
   ]
  },
  {
   "cell_type": "code",
   "execution_count": null,
   "metadata": {
    "collapsed": false
   },
   "outputs": [],
   "source": [
    "pd = PercentDiff(Zarrays[3], Zarrays[4])\n",
    "fig = pyplot.figure(figsize=(18, 5.5))\n",
    "\n",
    "# Theta = 0\n",
    "pyplot.subplot(1, 3, 1)\n",
    "pyplot.xlabel(r\"${\\rm{E}}_{\\kappa}$ (eV)\")\n",
    "pyplot.ylabel(r\"Percent difference (\\%)\")\n",
    "pyplot.xlim([0,5.15])\n",
    "pyplot.plot(Esub, pd[0], color=singletcolor)\n",
    "ax = plt.gca()\n",
    "ax.text(2.0, 6, r'$\\theta = 0^\\circ$', fontsize=22)\n",
    "FixPlot(plt)\n",
    "\n",
    "# Theta \\approx 90\n",
    "pyplot.subplot(1, 3, 2)\n",
    "pyplot.xlabel(r\"${\\rm{E}}_{\\kappa}$ (eV)\")\n",
    "pyplot.xlim([0,5.15])\n",
    "pyplot.plot(Esub, pd[24], color=singletcolor)\n",
    "ax = plt.gca()\n",
    "ax.text(2.0, 4.0, r'$\\theta = 90^\\circ$', fontsize=22)\n",
    "FixPlot(plt)\n",
    "\n",
    "# Theta = 180\n",
    "pyplot.subplot(1, 3, 3)\n",
    "pyplot.xlabel(r\"${\\rm{E}}_{\\kappa}$ (eV)\")\n",
    "pyplot.xlim([0,5.15])\n",
    "pyplot.plot(Esub, pd[49], color=singletcolor)\n",
    "ax = plt.gca()\n",
    "ax.text(2.0, 12, r'$\\theta = 180^\\circ$', fontsize=22)\n",
    "FixPlot(plt)\n",
    "\n",
    "plt.savefig(\"percent-diff-cross-sections-g.pdf\", bbox_inches='tight')\n",
    "pyplot.show()"
   ]
  },
  {
   "cell_type": "code",
   "execution_count": null,
   "metadata": {
    "collapsed": false
   },
   "outputs": [],
   "source": [
    "#Ntheta = 50\n",
    "lmax = 5\n",
    "\n",
    "theta = np.linspace(0, pi, Ntheta)\n",
    "\n",
    "fig = plt.figure(figsize=(12,8))\n",
    "ax = plt.axes(projection='3d')\n",
    "\n",
    "x = Esub\n",
    "y = theta.copy()\n",
    "X, Y = np.meshgrid(x, y)\n",
    "\n",
    "ax.plot_surface(X, Y, pd, rstride=2, cstride=2, linewidth=0.2, antialiased=True, cmap=cm.Blues)\n",
    "\n",
    "ax.tick_params(axis='both', which='major', labelsize=20)\n",
    "ax.set_xlabel(r'$E_\\kappa$ (eV)', fontsize=20, labelpad=20)\n",
    "ax.set_ylabel(r'$\\theta$ (radians)', fontsize=20)\n",
    "ax.set_zlabel(r\"Percent difference $\\frac{d\\sigma}{d\\Omega}$\", fontsize=20)\n",
    "ax.set_xlim3d(27.21138505/4.0 * minK**2, 27.21138505/4.0 * maxK**2)\n",
    "#ax.set_ylim3d(3.2, 0)\n",
    "\n",
    "plt.tight_layout()\n",
    "plt.savefig(\"percent-diff-cross-sections-full-g.pdf\", bbox_inches='tight')\n",
    "\n",
    "plt.show()"
   ]
  },
  {
   "cell_type": "code",
   "execution_count": null,
   "metadata": {
    "collapsed": false
   },
   "outputs": [],
   "source": [
    "pd = PercentDiff(Zarrays[4], Zarrays[5])\n",
    "fig = pyplot.figure(figsize=(18, 5.5))\n",
    "\n",
    "# Theta = 0\n",
    "pyplot.subplot(1, 3, 1)\n",
    "pyplot.xlabel(r\"${\\rm{E}}_{\\kappa}$ (eV)\")\n",
    "pyplot.ylabel(r\"Percent difference (\\%)\")\n",
    "pyplot.xlim([0,5.15])\n",
    "pyplot.plot(Esub, pd[0], color=singletcolor)\n",
    "ax = plt.gca()\n",
    "ax.text(2.0, 1.35, r'$\\theta = 0^\\circ$', fontsize=22)\n",
    "FixPlot(plt)\n",
    "\n",
    "# Theta \\approx 90\n",
    "pyplot.subplot(1, 3, 2)\n",
    "pyplot.xlabel(r\"${\\rm{E}}_{\\kappa}$ (eV)\")\n",
    "pyplot.xlim([0,5.15])\n",
    "pyplot.plot(Esub, pd[24], color=singletcolor)\n",
    "ax = plt.gca()\n",
    "ax.text(2.0, 0.17, r'$\\theta = 90^\\circ$', fontsize=22)\n",
    "FixPlot(plt)\n",
    "\n",
    "# Theta = 180\n",
    "pyplot.subplot(1, 3, 3)\n",
    "pyplot.xlabel(r\"${\\rm{E}}_{\\kappa}$ (eV)\")\n",
    "pyplot.xlim([0,5.15])\n",
    "pyplot.plot(Esub, pd[49], color=singletcolor)\n",
    "ax = plt.gca()\n",
    "ax.text(2.0, 3.5, r'$\\theta = 180^\\circ$', fontsize=22)\n",
    "FixPlot(plt)\n",
    "\n",
    "plt.savefig(\"percent-diff-cross-sections-h.pdf\", bbox_inches='tight')\n",
    "pyplot.show()"
   ]
  },
  {
   "cell_type": "code",
   "execution_count": null,
   "metadata": {
    "collapsed": false
   },
   "outputs": [],
   "source": [
    "#Ntheta = 50\n",
    "lmax = 5\n",
    "\n",
    "theta = np.linspace(0, pi, Ntheta)\n",
    "\n",
    "fig = plt.figure(figsize=(12,8))\n",
    "ax = plt.axes(projection='3d')\n",
    "\n",
    "x = Esub\n",
    "y = theta.copy()\n",
    "X, Y = np.meshgrid(x, y)\n",
    "\n",
    "ax.plot_surface(X, Y, pd, rstride=2, cstride=2, linewidth=0.2, antialiased=True, cmap=cm.Blues)\n",
    "\n",
    "ax.tick_params(axis='both', which='major', labelsize=20)\n",
    "ax.set_xlabel(r'$E_\\kappa$ (eV)', fontsize=20, labelpad=20)\n",
    "ax.set_ylabel(r'$\\theta$ (radians)', fontsize=20)\n",
    "ax.set_zlabel(r\"Percent difference $\\frac{d\\sigma}{d\\Omega}$\", fontsize=20)\n",
    "ax.set_xlim3d(27.21138505/4.0 * minK**2, 27.21138505/4.0 * maxK**2)\n",
    "#ax.set_ylim3d(3.2, 0)\n",
    "\n",
    "plt.tight_layout()\n",
    "plt.savefig(\"percent-diff-cross-sections-full-h.pdf\", bbox_inches='tight')\n",
    "\n",
    "plt.show()"
   ]
  },
  {
   "cell_type": "markdown",
   "metadata": {},
   "source": [
    "### Maximum and Average Percentages for $\\frac{d\\sigma}{d\\Omega}$: Singlet vs. Triplet"
   ]
  },
  {
   "cell_type": "code",
   "execution_count": null,
   "metadata": {
    "collapsed": false
   },
   "outputs": [],
   "source": [
    "#Ntheta = 50\n",
    "lmax = 5\n",
    "\n",
    "Zarrays = []\n",
    "Z1arrays = []\n",
    "Z3arrays = []\n",
    "for l in range(lmax+1):\n",
    "    theta = np.linspace(0, pi, Ntheta)\n",
    "    x = Esub\n",
    "    y = theta.copy()\n",
    "    X, Y = np.meshgrid(x, y)\n",
    "    zs1 = 0.25*np.array([DifferentialCrossSingle(np.sqrt(4.0/27.21138505*x),y,np.sqrt(4.0/27.21138505*(27.21138505/4.0*kappasub**2)),l,interp_phase1) for x,y in zip(np.ravel(X), np.ravel(Y))])\n",
    "    zs3 = 0.75*np.array([DifferentialCrossSingle(np.sqrt(4.0/27.21138505*x),y,np.sqrt(4.0/27.21138505*(27.21138505/4.0*kappasub**2)),l,interp_phase3) for x,y in zip(np.ravel(X), np.ravel(Y))])\n",
    "    zs = zs1 + zs3\n",
    "    Z = zs.reshape(X.shape)\n",
    "    Z1 = zs1.reshape(X.shape)\n",
    "    Z3 = zs3.reshape(X.shape)\n",
    "    #Zarrays.append(Z.ravel())\n",
    "    Zarrays.append(Z)\n",
    "    Z1arrays.append(Z1)\n",
    "    Z3arrays.append(Z3)"
   ]
  },
  {
   "cell_type": "code",
   "execution_count": null,
   "metadata": {
    "collapsed": false
   },
   "outputs": [],
   "source": [
    "print \"Singlet\"\n",
    "for l in range(lmax+1):\n",
    "    a = PercentDiff(Zarrays[5], Z1arrays[l]+Z3arrays[5])\n",
    "    if l < lmax:\n",
    "        print l, \":\", a.max(), X.flatten()[a.argmax()], Y.flatten()[a.argmax()]\n",
    "    else:\n",
    "        print l, \":\", a.max()\n",
    "\n",
    "print\n",
    "print \"Triplet\"\n",
    "for l in range(lmax+1):\n",
    "    a = PercentDiff(Zarrays[5], Z1arrays[5]+Z3arrays[l])\n",
    "    if l < lmax:\n",
    "        print l, \":\", a.max(), X.flatten()[a.argmax()], Y.flatten()[a.argmax()]\n",
    "    else:\n",
    "        print l, \":\", a.max()"
   ]
  },
  {
   "cell_type": "code",
   "execution_count": null,
   "metadata": {
    "collapsed": false
   },
   "outputs": [],
   "source": [
    "print \"Singlet\"\n",
    "for l in range(lmax+1):\n",
    "    print l, \":\", PercentDiff(Zarrays[5], Z1arrays[l]+Z3arrays[5]).mean()\n",
    "\n",
    "print\n",
    "print \"Triplet\"\n",
    "for l in range(lmax+1):\n",
    "    print l, \":\", PercentDiff(Zarrays[5], Z1arrays[5]+Z3arrays[l]).mean()"
   ]
  },
  {
   "cell_type": "code",
   "execution_count": null,
   "metadata": {
    "collapsed": false
   },
   "outputs": [],
   "source": [
    "Z1arrays[0]"
   ]
  },
  {
   "cell_type": "markdown",
   "metadata": {},
   "source": [
    "## Scattering Amplitude"
   ]
  },
  {
   "cell_type": "markdown",
   "metadata": {},
   "source": [
    "This shows the optical theorem when $\\theta = 0$."
   ]
  },
  {
   "cell_type": "code",
   "execution_count": null,
   "metadata": {
    "collapsed": false
   },
   "outputs": [],
   "source": [
    "theta = (0, pi/2, pi)\n",
    "plotcol = ('steelblue', '#99CC66', 'coral')\n",
    "plotsty = ('-', '-', ':')\n",
    "\n",
    "lmax = 5  # Through the H-wave\n",
    "\n",
    "pyplot.xlabel(r\"${\\rm{E}}_{\\kappa}$ (eV)\")\n",
    "pyplot.ylabel(r\"$\\rm{Im }$ $f(k,\\theta=0)$ (units of $\\pi a_0$)\")\n",
    "\n",
    "scatamp1 = []\n",
    "scatamp3 = []\n",
    "for i in range(np.size(kappasub)):\n",
    "    k = kappasub[i]\n",
    "    sa1 = 0\n",
    "    sa3 = 0\n",
    "    for l in range(lmax+1):\n",
    "        sa1 += 1 / k * (2*l+1) * sin(interp_phase1[l][i])**2\n",
    "        sa3 += 1 / k * (2*l+1) * sin(interp_phase3[l][i])**2\n",
    "    scatamp1 = np.append(scatamp1, sa1)\n",
    "    scatamp3 = np.append(scatamp3, sa3)\n",
    "pyplot.plot(ktoE(kappasub), scatamp1, '-', marker='.', markersize=0.01, label=r\"Singlet\", color=singletcolor, ls='dotted')\n",
    "pyplot.plot(ktoE(kappasub), scatamp3, '-', marker='.', markersize=0.01, label=r\"Triplet\", color=tripletcolor, ls='dotted')\n",
    "\n",
    "pyplot.plot(df['E'], df['Kappa']/4*(1/0.25)*df['Cross1'], '-', marker='.', markersize=0.01, label=r'Singlet $\\kappa \\sigma^+$', color=singletcolor, ls='dashed')\n",
    "pyplot.plot(df['E'], df['Kappa']/4*(1/0.75)*df['Cross3'], '-', marker='.', markersize=0.01, label=r'Triplet $\\kappa \\sigma^-$', color=tripletcolor, ls='dashed')\n",
    "\n",
    "pyplot.legend()\n",
    "pyplot.xlim([0,5.15])\n",
    "FixPlot(plt)\n",
    "pyplot.savefig(\"scattering-amplitude-0.pdf\", bbox_inches='tight')\n",
    "pyplot.show()"
   ]
  },
  {
   "cell_type": "code",
   "execution_count": null,
   "metadata": {
    "collapsed": false
   },
   "outputs": [],
   "source": [
    "def ScatAmpSingle(kappa, theta, kappalist, lmax, interp_phase):\n",
    "    \"\"\" The differential cross sections for a given value of kappa also depend on theta.\n",
    "        This function returns a value with respect to kappa for a given theta. \"\"\"\n",
    "    #@TODO: Make this general for both the singlet and the triplet.\n",
    "\n",
    "    phases = []\n",
    "    for l in range(lmax+1):\n",
    "        phases = np.append(phases, GetSubset(kappalist, [kappa], interp_phase[l]))\n",
    "    #print phases\n",
    "    \n",
    "    sa = 0.0\n",
    "    for l in range(lmax+1):\n",
    "        sa = sa + 1/kappa * (2*l+1) * np.cos(phases[l]) * np.sin(phases[l]) * eval_legendre(l, np.cos(theta))\n",
    "            \n",
    "    return sa"
   ]
  },
  {
   "cell_type": "code",
   "execution_count": null,
   "metadata": {
    "collapsed": false
   },
   "outputs": [],
   "source": [
    "def ScatAmpSingleImag(kappa, theta, kappalist, lmax, interp_phase):\n",
    "    \"\"\" The differential cross sections for a given value of kappa also depend on theta.\n",
    "        This function returns a value with respect to kappa for a given theta. \"\"\"\n",
    "    #@TODO: Make this general for both the singlet and the triplet.\n",
    "\n",
    "    phases = []\n",
    "    for l in range(lmax+1):\n",
    "        phases = np.append(phases, GetSubset(kappalist, [kappa], interp_phase[l]))\n",
    "    #print phases\n",
    "    \n",
    "    sa = 0.0\n",
    "    for l in range(lmax+1):\n",
    "        sa = sa + 1/kappa * (2*l+1) * np.sin(phases[l]) * np.sin(phases[l]) * eval_legendre(l, np.cos(theta))\n",
    "            \n",
    "    return sa"
   ]
  },
  {
   "cell_type": "code",
   "execution_count": null,
   "metadata": {
    "collapsed": false
   },
   "outputs": [],
   "source": [
    "#Ntheta = 50\n",
    "lmax = 5\n",
    "\n",
    "theta = np.linspace(0, pi, Ntheta)\n",
    "\n",
    "fig = plt.figure(figsize=(12,8))\n",
    "ax = plt.axes(projection='3d')\n",
    "\n",
    "x = Esub\n",
    "y = theta.copy()\n",
    "X, Y = np.meshgrid(x, y)\n",
    "zs1 = np.array([ScatAmpSingle(np.sqrt(4.0/27.21138505*x),y,np.sqrt(4.0/27.21138505*(27.21138505/4.0*kappasub**2)),lmax,interp_phase1) for x,y in zip(np.ravel(X), np.ravel(Y))])\n",
    "#zs3 = np.array([DifferentialCrossSingle(np.sqrt(4.0/27.21138505*x),y,np.sqrt(4.0/27.21138505*(27.21138505/4.0*kappasub**2)),lmax,interp_phase3) for x,y in zip(np.ravel(X), np.ravel(Y))])\n",
    "#zs = 0.25*zs1 + 0.75*zs3\n",
    "zs = zs1\n",
    "Z = zs.reshape(X.shape)\n",
    "\n",
    "#ax.plot_surface(X, Y, Z, rstride=1, cstride=1, linewidth=0, antialiased=True)\n",
    "#ax.plot_surface(X, Y, Z, rstride=1, cstride=1, linewidth=0.1, antialiased=True, cmap=cm.Blues)\n",
    "ax.plot_surface(X, Y, Z, rstride=2, cstride=2, linewidth=0.2, antialiased=True, cmap=cm.Blues)\n",
    "#ax.plot_surface(X, Y, Z, rstride=2, cstride=2, linewidth=0.2, antialiased=True, cmap=cm.gray)\n",
    "#ax.plot_surface(X, Y, Z, antialiased=True, cmap=cm.Blues)\n",
    "\n",
    "ax.tick_params(axis='both', which='major', labelsize=20)\n",
    "ax.set_xlabel(r'$E$ (eV)', fontsize=20, labelpad=20)\n",
    "ax.set_ylabel(r'$\\theta$ (radians)', fontsize=20)\n",
    "ax.set_zlabel(r\"Re $f(k,\\theta)$ (units of $\\pi a_0$)\", fontsize=20)\n",
    "ax.set_xlim3d(27.21138505/4.0 * minK**2, 27.21138505/4.0 * maxK**2)\n",
    "#ax.set_ylim3d(0, 3.2)\n",
    "ax.set_ylim3d(3.2, 0)\n",
    "\n",
    "plt.tight_layout()\n",
    "plt.savefig(\"scattering-amplitude-real.pdf\", bbox_inches='tight')\n",
    "\n",
    "plt.show()"
   ]
  },
  {
   "cell_type": "code",
   "execution_count": null,
   "metadata": {
    "collapsed": false
   },
   "outputs": [],
   "source": [
    "#Ntheta = 50\n",
    "lmax = 5\n",
    "\n",
    "theta = np.linspace(0, pi, Ntheta)\n",
    "\n",
    "fig = plt.figure(figsize=(12,8))\n",
    "ax = plt.axes(projection='3d')\n",
    "\n",
    "x = Esub\n",
    "y = theta.copy()\n",
    "X, Y = np.meshgrid(x, y)\n",
    "zs1 = np.array([ScatAmpSingleImag(np.sqrt(4.0/27.21138505*x),y,np.sqrt(4.0/27.21138505*(27.21138505/4.0*kappasub**2)),lmax,interp_phase1) for x,y in zip(np.ravel(X), np.ravel(Y))])\n",
    "#zs3 = np.array([DifferentialCrossSingle(np.sqrt(4.0/27.21138505*x),y,np.sqrt(4.0/27.21138505*(27.21138505/4.0*kappasub**2)),lmax,interp_phase3) for x,y in zip(np.ravel(X), np.ravel(Y))])\n",
    "#zs = 0.25*zs1 + 0.75*zs3\n",
    "zs = zs1\n",
    "Z = zs.reshape(X.shape)\n",
    "\n",
    "#ax.plot_surface(X, Y, Z, rstride=1, cstride=1, linewidth=0, antialiased=True)\n",
    "#ax.plot_surface(X, Y, Z, rstride=1, cstride=1, linewidth=0.1, antialiased=True, cmap=cm.Blues)\n",
    "ax.plot_surface(X, Y, Z, rstride=2, cstride=2, linewidth=0.2, antialiased=True, cmap=cm.Blues)\n",
    "#ax.plot_surface(X, Y, Z, rstride=2, cstride=2, linewidth=0.2, antialiased=True, cmap=cm.gray)\n",
    "#ax.plot_surface(X, Y, Z, antialiased=True, cmap=cm.Blues)\n",
    "\n",
    "ax.tick_params(axis='both', which='major', labelsize=20)\n",
    "ax.set_xlabel(r'$E$ (eV)', fontsize=20, labelpad=20)\n",
    "ax.set_ylabel(r'$\\theta$ (radians)', fontsize=20)\n",
    "ax.set_zlabel(r\"Im $f(k,\\theta)$ (units of $\\pi a_0$)\", fontsize=20)\n",
    "ax.set_xlim3d(27.21138505/4.0 * minK**2, 27.21138505/4.0 * maxK**2)\n",
    "#ax.set_ylim3d(0, 3.2)\n",
    "ax.set_ylim3d(3.2, 0)\n",
    "\n",
    "plt.tight_layout()\n",
    "plt.savefig(\"scattering-amplitude-imag.pdf\", bbox_inches='tight')\n",
    "\n",
    "plt.show()"
   ]
  },
  {
   "cell_type": "markdown",
   "metadata": {},
   "source": [
    "## Cleanup"
   ]
  },
  {
   "cell_type": "code",
   "execution_count": null,
   "metadata": {
    "collapsed": false
   },
   "outputs": [],
   "source": [
    "db.close()"
   ]
  },
  {
   "cell_type": "code",
   "execution_count": null,
   "metadata": {
    "collapsed": false
   },
   "outputs": [],
   "source": [
    "EndTime = datetime.datetime.now()\n",
    "TimeDiff = EndTime - StartTime\n",
    "print \"Seconds: \", TimeDiff.seconds\n",
    "print \"Minutes: \", TimeDiff.seconds / 60."
   ]
  }
 ],
 "metadata": {
  "kernelspec": {
   "display_name": "Python 2",
   "language": "python",
   "name": "python2"
  },
  "language_info": {
   "codemirror_mode": {
    "name": "ipython",
    "version": 2
   },
   "file_extension": ".py",
   "mimetype": "text/x-python",
   "name": "python",
   "nbconvert_exporter": "python",
   "pygments_lexer": "ipython2",
   "version": "2.7.7"
  }
 },
 "nbformat": 4,
 "nbformat_minor": 0
}
