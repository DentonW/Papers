{
 "metadata": {
  "kernelspec": {
   "codemirror_mode": {
    "name": "ipython",
    "version": 2
   },
   "display_name": "IPython (Python 2)",
   "language": "python",
   "name": "python2"
  },
  "name": "",
  "signature": "sha256:8c980be9e2ada7390f293ab33ac3eb6f57167a67569a18f1b0a5dd73121b7fdf"
 },
 "nbformat": 3,
 "nbformat_minor": 0,
 "worksheets": [
  {
   "cells": [
    {
     "cell_type": "heading",
     "level": 1,
     "metadata": {},
     "source": [
      "Dissertation Images and Calculations"
     ]
    },
    {
     "cell_type": "code",
     "collapsed": false,
     "input": [
      "%pylab inline\n",
      "import scipy\n",
      "StartTime = datetime.datetime.now()"
     ],
     "language": "python",
     "metadata": {},
     "outputs": [
      {
       "output_type": "stream",
       "stream": "stdout",
       "text": [
        "Populating the interactive namespace from numpy and matplotlib\n"
       ]
      }
     ],
     "prompt_number": 13
    },
    {
     "cell_type": "code",
     "collapsed": false,
     "input": [
      "from scipy.interpolate import interp1d\n",
      "from scipy.special import eval_legendre\n",
      "from mpl_toolkits.mplot3d import Axes3D\n",
      "import pandas as pd\n",
      "from pandasql import sqldf\n",
      "from mpl_toolkits.axes_grid1.inset_locator import zoomed_inset_axes\n",
      "from mpl_toolkits.axes_grid1.inset_locator import inset_axes\n",
      "from mpl_toolkits.axes_grid1.inset_locator import mark_inset"
     ],
     "language": "python",
     "metadata": {},
     "outputs": [],
     "prompt_number": 14
    },
    {
     "cell_type": "code",
     "collapsed": false,
     "input": [
      "# The most common set of integration points\n",
      "quadpoints = '[\"75 40 40 40 40 25 25 25\", \"75 40 40 40 40 25 25 25\", \"100 65 45 65 45 45 45 45\", \"115 65 45 65 60 45 45 45\", \"100 65 45 65 45 45 45 45\"]'\n",
      "\n",
      "# For differential cross sections\n",
      "Ntheta = 15"
     ],
     "language": "python",
     "metadata": {},
     "outputs": [],
     "prompt_number": 15
    },
    {
     "cell_type": "code",
     "collapsed": false,
     "input": [
      "def pysqldf(q):\n",
      "    return sqldf(q, globals())"
     ],
     "language": "python",
     "metadata": {},
     "outputs": [],
     "prompt_number": 16
    },
    {
     "cell_type": "code",
     "collapsed": false,
     "input": [
      "newsteelblue = '#397BB2'\n",
      "newcoral = '#FF9670'\n",
      "#singletcolor = 'steelblue'\n",
      "#tripletcolor = 'coral'\n",
      "#combinedcolor = '#99CC66'\n",
      "singletcolor = newsteelblue\n",
      "tripletcolor = newcoral\n",
      "combinedcolor = '#52423A'\n",
      "\n",
      "#rc('font', **{'family': 'serif', 'serif': ['Computer Modern']})\n",
      "#rcParams['text.latex.preamble'] = [r'\\boldmath']  # Set for bold LaTeX symbols\n",
      "\n",
      "params = {'backend': 'ps',\n",
      "          'axes.facecolor': 'white',\n",
      "          'axes.labelsize': 19,\n",
      "          'axes.labelcolor': 'black',\n",
      "          'axes.edgecolor': '#bcbcbc',\n",
      "          'axes.unicode_minus': False,\n",
      "          'figure.figsize': [12, 8],\n",
      "          #'figure.figsize': [10, 6.7],\n",
      "          #'font.family': 'sans-serif',\n",
      "          'font.size': 18,\n",
      "          'font.family': 'serif',\n",
      "          'font.serif': ['Palatino'],\n",
      "          'grid.color': '#555555',\n",
      "          'legend.fontsize': 14,\n",
      "          'lines.linewidth': 1.5,\n",
      "          'legend.loc': 'best',\n",
      "          'legend.numpoints': 1,\n",
      "          'legend.fancybox': True,\n",
      "          'legend.shadow': True,\n",
      "          'text.usetex': True,\n",
      "          'xtick.color': 'black',\n",
      "          'xtick.labelsize': 18,\n",
      "          'xtick.major.pad': 6,\n",
      "          'ytick.color': 'black',\n",
      "          'ytick.labelsize': 18,\n",
      "          'ytick.major.pad': 6,\n",
      "         }\n",
      "pylab.rcParams.update(params)\n",
      "\n",
      "dashstyle1 = [7, 1, 3, 1]  # 7 points on, 1 point off, 3 points on, 1 point off\n",
      "dashstyle2 = [7, 1, 1, 1]  # 7 points on, 1 point off, 1 points on, 1 point off\n",
      "\n",
      "\n",
      "def FixPlot(p):\n",
      "    ax = p.gca()\n",
      "    ax.xaxis.set_minor_locator(MultipleLocator( (p.xticks()[0][1]-p.xticks()[0][0]) / 2.0 ))\n",
      "    ax.yaxis.set_minor_locator(MultipleLocator( (p.yticks()[0][1]-p.yticks()[0][0]) / 2.0 ))\n",
      "    ax.xaxis.set_ticks_position('bottom')\n",
      "    ax.yaxis.set_ticks_position('left')\n",
      "\n",
      "    p.grid(b=True, which='major', color='#999999', linestyle=':')\n",
      "    p.grid(b=True, which='minor', color='#eeeeee', linestyle=':')\n",
      "    ax.set_axisbelow(True)"
     ],
     "language": "python",
     "metadata": {},
     "outputs": [],
     "prompt_number": 17
    },
    {
     "cell_type": "heading",
     "level": 2,
     "metadata": {},
     "source": [
      "Connecting to Database and Getting Entries"
     ]
    },
    {
     "cell_type": "code",
     "collapsed": false,
     "input": [
      "n1S = 1505  # S-wave singlet\n",
      "n1P = 1000  # P-wave singlet\n",
      "n1D1 = 916  # D-wave singlet\n",
      "n1D2 = 913  # D-wave singlet\n",
      "n1F1 = 385  # F-wave singlet\n",
      "n1F2 = 462  # F-wave singlet\n",
      "n1F = 462   # F-wave singlet (original set)\n",
      "n1G1 = 462   # G-wave singlet\n",
      "n1G2 = 462   # G-wave singlet\n",
      "n1H1 = 462   # H-wave singlet\n",
      "n1H2 = 462   # H-wave singlet\n",
      "\n",
      "n3S = 1633  # S-wave triplet\n",
      "n3P = 1000  # P-wave triplet\n",
      "n3D1 = 919  # D-wave triplet\n",
      "n3D2 = 913  # D-wave triplet\n",
      "n3F1 = 385  # F-wave triplet\n",
      "n3F2 = 462  # F-wave triplet\n",
      "n3F = 462   # F-wave triplet (original set)\n",
      "n3G1 = 462   # G-wave triplet\n",
      "n3G2 = 462   # G-wave triplet\n",
      "n3H1 = 462   # H-wave triplet\n",
      "n3H2 = 462   # H-wave triplet\n",
      "\n",
      "kohnmethod = \"smatrix\"  # The Kohn method that we are plotting"
     ],
     "language": "python",
     "metadata": {},
     "outputs": [],
     "prompt_number": 18
    },
    {
     "cell_type": "code",
     "collapsed": false,
     "input": [
      "%run \"Database Functions.py\""
     ],
     "language": "python",
     "metadata": {},
     "outputs": [],
     "prompt_number": 19
    },
    {
     "cell_type": "code",
     "collapsed": false,
     "input": [
      "# Choose all entries for each of the partial waves\n",
      "#  Singlet entries\n",
      "entries1S = GetKappaTablenames(cursor, \"lvalue=0 AND istriplet=0 AND mu=0.9 AND alpha=0.586 AND beta=0.58 AND gamma=1.093 AND omega=7 AND resorted=FALSE AND numterms=1505\", quadpoints, 0, 0.866)\n",
      "entries1P = GetKappaTablenames(cursor, \"lvalue=1 AND istriplet=0 AND mu=0.9 AND alpha=0.397 AND beta=0.376 AND gamma=0.962 AND omega=7 AND resorted=FALSE\", quadpoints, 0, 0.866)\n",
      "entries1D1 = GetKappaTablenames(cursor, \"lvalue=2 AND istriplet=0 AND mu=0.7 AND alpha=0.359 AND beta=0.368 AND gamma=0.976 AND omega=6 AND resorted=FALSE\", quadpoints, 0, 0.866)\n",
      "entries1D2 = GetKappaTablenames(cursor, \"lvalue=2 AND istriplet=0 AND mu=0.7 AND alpha=0.6 AND beta=0.368 AND gamma=0.976 AND omega=6 AND resorted=FALSE AND numterms>=913\", quadpoints, 0, 0.866)\n",
      "entries1F1 = GetKappaTablenames(cursor, \"lvalue=3 AND istriplet=0 AND mu=0.7 AND alpha=0.359 AND beta=0.368 AND gamma=0.976 AND omega=5 AND numterms=385\", quadpoints, 0, 0.866)\n",
      "entries1F2 = GetKappaTablenames(cursor, \"lvalue=3 AND istriplet=0 AND mu=0.7 AND alpha=0.5 AND beta=0.6 AND gamma=1.1 AND numterms=462\", quadpoints, 0, 0.866)\n",
      "entries1G1 = GetKappaTablenames(cursor, \"lvalue=4 AND istriplet=0 AND mu=0.7 AND alpha=0.359 AND beta=0.368 AND gamma=0.976 AND omega=5 AND numterms=462 AND shielding=9\", quadpoints, 0, 0.866)\n",
      "entries1G2 = GetKappaTablenames(cursor, \"lvalue=4 AND istriplet=0 AND mu=0.7 AND alpha=0.5 AND beta=0.6 AND gamma=1.1 AND numterms=462\", quadpoints, 0, 0.866)\n",
      "entries1H1 = GetKappaTablenames(cursor, \"lvalue=5 AND istriplet=0 AND mu=0.7 AND alpha=0.359 AND beta=0.368 AND gamma=0.976 AND omega=5 AND numterms=462\", quadpoints, 0, 0.866)\n",
      "entries1H2 = GetKappaTablenames(cursor, \"lvalue=5 AND istriplet=0 AND mu=0.7 AND alpha=0.5 AND beta=0.6 AND gamma=1.1 AND numterms=462\", quadpoints, 0, 0.866)\n",
      "#  Triplet entries\n",
      "entries3S = GetKappaTablenames(cursor, \"lvalue=0 AND istriplet=1 AND mu=0.9 AND alpha=0.323 AND beta=0.334 AND gamma=0.975 AND omega=7 AND resorted=FALSE\", quadpoints, 0, 0.866)\n",
      "entries3P = GetKappaTablenames(cursor, \"lvalue=1 AND istriplet=1 AND mu=0.9 AND alpha=0.310 AND beta=0.311 AND gamma=0.995 AND omega=7 AND resorted=FALSE\", quadpoints, 0, 0.866)\n",
      "entries3D1 = GetKappaTablenames(cursor, \"lvalue=2 AND istriplet=1 AND mu=0.7 AND alpha=0.356 AND beta=0.365 AND gamma=0.976 AND omega=6 AND resorted=FALSE\", quadpoints, 0, 0.866)\n",
      "entries3D2 = GetKappaTablenames(cursor, \"lvalue=2 AND istriplet=1 AND mu=0.7 AND alpha=0.6 AND beta=0.365 AND gamma=0.976 AND omega=6 AND resorted=FALSE AND numterms>=913\", quadpoints, 0, 0.866)\n",
      "entries3F1 = GetKappaTablenames(cursor, \"lvalue=3 AND istriplet=1 AND mu=0.7 AND alpha=0.356 AND beta=0.365 AND gamma=0.976 AND omega=5 AND numterms=385\", quadpoints, 0, 0.866)\n",
      "entries3F2 = GetKappaTablenames(cursor, \"lvalue=3 AND istriplet=1 AND mu=0.7 AND alpha=0.6 AND beta=0.365 AND gamma=0.976 AND omega=5 AND numterms=462\", quadpoints, 0, 0.866)\n",
      "entries3G1 = GetKappaTablenames(cursor, \"lvalue=4 AND istriplet=1 AND mu=0.7 AND alpha=0.356 AND beta=0.365 AND gamma=0.976 AND omega=5 AND numterms=462 AND shielding=9\", quadpoints, 0, 0.866)\n",
      "entries3G2 = GetKappaTablenames(cursor, \"lvalue=4 AND istriplet=1 AND mu=0.7 AND alpha=0.6 AND beta=0.365 AND gamma=0.976 AND omega=5 AND numterms=462\", quadpoints, 0, 0.866)\n",
      "entries3H1 = GetKappaTablenames(cursor, \"lvalue=5 AND istriplet=1 AND mu=0.7 AND alpha=0.356 AND beta=0.365 AND gamma=0.976 AND omega=5 AND numterms=462\", quadpoints, 0, 0.866)\n",
      "entries3H2 = GetKappaTablenames(cursor, \"lvalue=5 AND istriplet=1 AND mu=0.7 AND alpha=0.6 AND beta=0.365 AND gamma=0.976 AND omega=5 AND numterms=462\", quadpoints, 0, 0.866)\n",
      "\n",
      "# Now do the same for the SLS matrix elements\n",
      "#@TODO: Combine with the above?\n",
      "# Singlet entries\n",
      "sls1S, cross_sls1S = GetSLS(cursor, \"lvalue=0 AND istriplet=0 AND mu=0.9 AND alpha=0.586 AND beta=0.58 AND gamma=1.093 AND omega=7 AND resorted=FALSE AND numterms=1505\", 0, quadpoints, 0, 0.866)\n",
      "sls1P, cross_sls1P = GetSLS(cursor, \"lvalue=1 AND istriplet=0 AND mu=0.9 AND alpha=0.397 AND beta=0.376 AND gamma=0.962 AND omega=7 AND resorted=FALSE\", 1, quadpoints, 0, 0.866)\n",
      "sls1D1, cross_sls1D1 = GetSLS(cursor, \"lvalue=2 AND istriplet=0 AND mu=0.7 AND alpha=0.359 AND beta=0.368 AND gamma=0.976 AND omega=6 AND resorted=FALSE\", 2, quadpoints, 0, 0.866)\n",
      "sls1D2, cross_sls1D2 = GetSLS(cursor, \"lvalue=2 AND istriplet=0 AND mu=0.7 AND alpha=0.6 AND beta=0.368 AND gamma=0.976 AND omega=6 AND resorted=FALSE AND numterms>=913\", 2, quadpoints, 0, 0.866)\n",
      "sls1F1, cross_sls1F1 = GetSLS(cursor, \"lvalue=3 AND istriplet=0 AND mu=0.7 AND alpha=0.359 AND beta=0.368 AND gamma=0.976 AND omega=5 AND numterms=385\", 3, quadpoints, 0, 0.866)\n",
      "sls1F2, cross_sls1F2 = GetSLS(cursor, \"lvalue=3 AND istriplet=0 AND mu=0.7 AND alpha=0.5 AND beta=0.6 AND gamma=1.1 AND numterms=462\", 3, quadpoints, 0, 0.866)\n",
      "sls1G1, cross_sls1G1 = GetSLS(cursor, \"lvalue=4 AND istriplet=0 AND mu=0.7 AND alpha=0.359 AND beta=0.368 AND gamma=0.976 AND omega=5 AND numterms=462 AND shielding=9\", 3, quadpoints, 0, 0.866)\n",
      "sls1G2, cross_sls1G2 = GetSLS(cursor, \"lvalue=4 AND istriplet=0 AND mu=0.7 AND alpha=0.5 AND beta=0.6 AND gamma=1.1 AND numterms=462\", 3, quadpoints, 0, 0.866)\n",
      "sls1H1, cross_sls1H1 = GetSLS(cursor, \"lvalue=5 AND istriplet=0 AND mu=0.7 AND alpha=0.359 AND beta=0.368 AND gamma=0.976 AND omega=5 AND numterms=462\", 3, quadpoints, 0, 0.866)\n",
      "sls1H2, cross_sls1H2 = GetSLS(cursor, \"lvalue=5 AND istriplet=0 AND mu=0.7 AND alpha=0.5 AND beta=0.6 AND gamma=1.1 AND numterms=462\", 3, quadpoints, 0, 0.866)\n",
      "#  Triplet entries\n",
      "sls3S, cross_sls3S = GetSLS(cursor, \"lvalue=0 AND istriplet=1 AND mu=0.9 AND alpha=0.323 AND beta=0.334 AND gamma=0.975 AND omega=7 AND resorted=FALSE\", 1, quadpoints, 0, 0.866)\n",
      "sls3P, cross_sls3P = GetSLS(cursor, \"lvalue=1 AND istriplet=1 AND mu=0.9 AND alpha=0.310 AND beta=0.311 AND gamma=0.995 AND omega=7 AND resorted=FALSE\", 1, quadpoints, 0, 0.866)\n",
      "sls3D1, cross_sls3D1 = GetSLS(cursor, \"lvalue=2 AND istriplet=1 AND mu=0.7 AND alpha=0.356 AND beta=0.365 AND gamma=0.976 AND omega=6 AND resorted=FALSE\", 2, quadpoints, 0, 0.866)\n",
      "sls3D2, cross_sls3D2 = GetSLS(cursor, \"lvalue=2 AND istriplet=1 AND mu=0.7 AND alpha=0.356 AND beta=0.365 AND gamma=0.976 AND omega=6 AND resorted=FALSE AND numterms>=913\", 2, quadpoints, 0, 0.866)\n",
      "sls3F1, cross_sls3F1 = GetSLS(cursor, \"lvalue=3 AND istriplet=1 AND mu=0.7 AND alpha=0.356 AND beta=0.365 AND gamma=0.976 AND omega=5 AND numterms=385\", 3, quadpoints, 0, 0.866)\n",
      "sls3F2, cross_sls3F2 = GetSLS(cursor, \"lvalue=3 AND istriplet=1 AND mu=0.7 AND alpha=0.6 AND beta=0.365 AND gamma=0.976 AND omega=5 AND numterms=462\", 3, quadpoints, 0, 0.866)\n",
      "sls3G1, cross_sls3G1 = GetSLS(cursor, \"lvalue=4 AND istriplet=1 AND mu=0.7 AND alpha=0.356 AND beta=0.365 AND gamma=0.976 AND omega=5 AND numterms=462 AND shielding=9\", 3, quadpoints, 0, 0.866)\n",
      "sls3G2, cross_sls3G2 = GetSLS(cursor, \"lvalue=4 AND istriplet=1 AND mu=0.7 AND alpha=0.6 AND beta=0.365 AND gamma=0.976 AND omega=5 AND numterms=462\", 3, quadpoints, 0, 0.866)\n",
      "sls3H1, cross_sls3H1 = GetSLS(cursor, \"lvalue=5 AND istriplet=1 AND mu=0.7 AND alpha=0.356 AND beta=0.365 AND gamma=0.976 AND omega=5 AND numterms=462\", 3, quadpoints, 0, 0.866)\n",
      "sls3H2, cross_sls3H2 = GetSLS(cursor, \"lvalue=5 AND istriplet=1 AND mu=0.7 AND alpha=0.6 AND beta=0.365 AND gamma=0.976 AND omega=5 AND numterms=462\", 3, quadpoints, 0, 0.866)"
     ],
     "language": "python",
     "metadata": {},
     "outputs": [],
     "prompt_number": 20
    },
    {
     "cell_type": "code",
     "collapsed": false,
     "input": [
      "# Obtains the phase shifts at the desired number of terms for each partial wave\n",
      "#  Singlet\n",
      "print \"Loading singlet phase shifts\"\n",
      "kappa1S, E1S, phase1S, cross1S = GetPhaseShifts(cursor, entries1S, n1S, 0, kohnmethod)\n",
      "kappa1P, E1P, phase1P, cross1P = GetPhaseShifts(cursor, entries1P, n1P, 1, kohnmethod)\n",
      "kappa1D1, E1D1, phase1D1, cross1D1 = GetPhaseShifts(cursor, entries1D1, n1D1, 2, kohnmethod)\n",
      "kappa1D2, E1D2, phase1D2, cross1D2 = GetPhaseShifts(cursor, entries1D2, n1D2, 2, kohnmethod)\n",
      "print \"Halfway through loading singlet phase shifts\"\n",
      "kappa1F1, E1F1, phase1F1, cross1F1 = GetPhaseShifts(cursor, entries1F1, n1F1, 3, kohnmethod)\n",
      "kappa1F2, E1F2, phase1F2, cross1F2 = GetPhaseShifts(cursor, entries1F2, n1F2, 3, kohnmethod)\n",
      "kappa1G1, E1G1, phase1G1, cross1G1 = GetPhaseShifts(cursor, entries1G1, n1G1, 4, kohnmethod)\n",
      "kappa1G2, E1G2, phase1G2, cross1G2 = GetPhaseShifts(cursor, entries1G2, n1G2, 4, kohnmethod)\n",
      "kappa1H1, E1H1, phase1H1, cross1H1 = GetPhaseShifts(cursor, entries1H1, n1H1, 5, kohnmethod)\n",
      "kappa1H2, E1H2, phase1H2, cross1H2 = GetPhaseShifts(cursor, entries1H2, n1H2, 5, kohnmethod)\n",
      "#kappa1FFull, E1FFull, phase1FFull, cross1FFull = GetPhaseShifts(cursor, entries1FFull, n1F, 3, kohnmethod)\n",
      "print \"Loading triplet phase shifts\"\n",
      "#  Triplet\n",
      "kappa3S, E3S, phase3S, cross3S = GetPhaseShifts(cursor, entries3S, n3S, 0, kohnmethod)\n",
      "kappa3P, E3P, phase3P, cross3P = GetPhaseShifts(cursor, entries3P, n3P, 1, kohnmethod)\n",
      "kappa3D1, E3D1, phase3D1, cross3D1 = GetPhaseShifts(cursor, entries3D1, n3D1, 2, kohnmethod)\n",
      "kappa3D2, E3D2, phase3D2, cross3D2 = GetPhaseShifts(cursor, entries3D2, n3D2, 2, kohnmethod)\n",
      "print \"Halfway through loading triplet phase shifts\"\n",
      "kappa3F1, E3F1, phase3F1, cross3F1 = GetPhaseShifts(cursor, entries3F1, n3F1, 3, kohnmethod)\n",
      "kappa3F2, E3F2, phase3F2, cross3F2 = GetPhaseShifts(cursor, entries3F2, n3F2, 3, kohnmethod)\n",
      "kappa3G1, E3G1, phase3G1, cross3G1 = GetPhaseShifts(cursor, entries3G1, n3G1, 4, kohnmethod)\n",
      "kappa3G2, E3G2, phase3G2, cross3G2 = GetPhaseShifts(cursor, entries3G2, n3G2, 4, kohnmethod)\n",
      "kappa3H1, E3H1, phase3H1, cross3H1 = GetPhaseShifts(cursor, entries3H1, n3H1, 5, kohnmethod)\n",
      "kappa3H2, E3H2, phase3H2, cross3H2 = GetPhaseShifts(cursor, entries3H2, n3H2, 5, kohnmethod)\n",
      "#kappa3FFull, E3FFull, phase3FFull, cross3FFull = GetPhaseShifts(cursor, entries3FFull, n3F, 3, kohnmethod)"
     ],
     "language": "python",
     "metadata": {},
     "outputs": [
      {
       "output_type": "stream",
       "stream": "stdout",
       "text": [
        "Loading singlet phase shifts\n",
        "Halfway through loading singlet phase shifts"
       ]
      },
      {
       "output_type": "stream",
       "stream": "stdout",
       "text": [
        "\n",
        "Loading triplet phase shifts"
       ]
      },
      {
       "output_type": "stream",
       "stream": "stdout",
       "text": [
        "\n",
        "Halfway through loading triplet phase shifts"
       ]
      },
      {
       "output_type": "stream",
       "stream": "stdout",
       "text": [
        "\n"
       ]
      }
     ],
     "prompt_number": 21
    },
    {
     "cell_type": "code",
     "collapsed": false,
     "input": [
      "# D-wave\n",
      "# Singlet\n",
      "kappa1D = np.concatenate((kappa1D1[kappa1D1<0.3],kappa1D2[kappa1D2>=0.3]))\n",
      "E1D = np.concatenate((E1D1[kappa1D1<0.3],E1D2[kappa1D2>=0.3]))\n",
      "phase1D = np.concatenate((phase1D1[kappa1D1<0.3],phase1D2[kappa1D2>=0.3]))\n",
      "cross1D = np.concatenate((cross1D1[kappa1D1<0.3],cross1D2[kappa1D2>=0.3]))\n",
      "sls1D = np.concatenate((sls1D1[kappa1D1<0.3],sls1D2[kappa1D2>=0.3]))\n",
      "# Triplet\n",
      "kappa3D = np.concatenate((kappa3D1[kappa3D1<0.3],kappa3D2[kappa3D2>=0.3]))\n",
      "E3D = np.concatenate((E3D1[kappa3D1<0.3],E3D2[kappa3D2>=0.3]))\n",
      "phase3D = np.concatenate((phase3D1[kappa3D1<0.3],phase3D2[kappa3D2>=0.3]))\n",
      "cross3D = np.concatenate((cross3D1[kappa3D1<0.3],cross3D2[kappa3D2>=0.3]))\n",
      "sls3D = np.concatenate((sls3D1[kappa3D1<0.3],sls3D2[kappa3D2>=0.3]))\n",
      "\n",
      "# F-wave\n",
      "# Singlet\n",
      "kappa1F = np.concatenate((kappa1F1[kappa1F1<0.4],kappa1F2[kappa1F2>=0.4]))\n",
      "E1F = np.concatenate((E1F1[kappa1F1<0.4],E1F2[kappa1F2>=0.4]))\n",
      "phase1F = np.concatenate((phase1F1[kappa1F1<0.4],phase1F2[kappa1F2>=0.4]))\n",
      "cross1F = np.concatenate((cross1F1[kappa1F1<0.4],cross1F2[kappa1F2>=0.4]))\n",
      "sls1F = np.concatenate((sls1F1[kappa1F1<0.4],sls1F2[kappa1F2>=0.4]))\n",
      "# Triplet\n",
      "kappa3F = np.concatenate((kappa3F1[kappa3F1<0.4],kappa3F2[kappa3F2>=0.4]))\n",
      "E3F = np.concatenate((E3F1[kappa3F1<0.4],E3F2[kappa3F2>=0.4]))\n",
      "phase3F = np.concatenate((phase3F1[kappa3F1<0.4],phase3F2[kappa3F2>=0.4]))\n",
      "cross3F = np.concatenate((cross3F1[kappa3F1<0.4],cross3F2[kappa3F2>=0.4]))\n",
      "sls3F = np.concatenate((sls3F1[kappa3F1<0.4],sls3F2[kappa3F2>=0.4]))\n",
      "\n",
      "# G-wave\n",
      "# Singlet\n",
      "kappa1G = np.concatenate((kappa1G1[kappa1G1<0.45],kappa1G2[kappa1G2>=0.45]))\n",
      "E1G = np.concatenate((E1G1[kappa1G1<0.45],E1G2[kappa1G2>=0.45]))\n",
      "phase1G = np.concatenate((phase1G1[kappa1G1<0.45],phase1G2[kappa1G2>=0.45]))\n",
      "cross1G = np.concatenate((cross1G1[kappa1G1<0.45],cross1G2[kappa1G2>=0.45]))\n",
      "sls1G = np.concatenate((sls1G1[kappa1G1<0.45],sls1G2[kappa1G2>=0.45]))\n",
      "# Triplet\n",
      "kappa3G = np.concatenate((kappa3G1[kappa3G1<0.45],kappa3G2[kappa3G2>=0.45]))\n",
      "E3G = np.concatenate((E3G1[kappa3G1<0.45],E3G2[kappa3G2>=0.45]))\n",
      "phase3G = np.concatenate((phase3G1[kappa3G1<0.45],phase3G2[kappa3G2>=0.45]))\n",
      "cross3G = np.concatenate((cross3G1[kappa3G1<0.45],cross3G2[kappa3G2>=0.45]))\n",
      "sls3G = np.concatenate((sls3G1[kappa3G1<0.45],sls3G2[kappa3G2>=0.45]))\n",
      "\n",
      "# H-wave\n",
      "# Singlet\n",
      "kappa1H = np.concatenate((kappa1H1[kappa1H1<0.45],kappa1H2[kappa1H2>=0.45]))\n",
      "E1H = np.concatenate((E1H1[kappa1H1<0.45],E1H2[kappa1H2>=0.45]))\n",
      "phase1H = np.concatenate((phase1H1[kappa1H1<0.45],phase1H2[kappa1H2>=0.45]))\n",
      "cross1H = np.concatenate((cross1H1[kappa1H1<0.45],cross1H2[kappa1H2>=0.45]))\n",
      "sls1H = np.concatenate((sls1H1[kappa1H1<0.45],sls1H2[kappa1H2>=0.45]))\n",
      "# Triplet\n",
      "kappa3H = np.concatenate((kappa3H1[kappa3H1<0.45],kappa3H2[kappa3H2>=0.45]))\n",
      "E3H = np.concatenate((E3H1[kappa3H1<0.45],E3H2[kappa3H2>=0.45]))\n",
      "phase3H = np.concatenate((phase3H1[kappa3H1<0.45],phase3H2[kappa3H2>=0.45]))\n",
      "cross3H = np.concatenate((cross3H1[kappa3H1<0.45],cross3H2[kappa3H2>=0.45]))\n",
      "sls3H = np.concatenate((sls3H1[kappa3H1<0.45],sls3H2[kappa3H2>=0.45]))"
     ],
     "language": "python",
     "metadata": {},
     "outputs": [],
     "prompt_number": 22
    },
    {
     "cell_type": "markdown",
     "metadata": {},
     "source": [
      "For the higher partial waves, the very low $\\kappa$ runs fail, because the phase shifts are very nearly 0."
     ]
    },
    {
     "cell_type": "code",
     "collapsed": false,
     "input": [
      "def AddLowKappa(kappa, energy, phase, cross, sls=None):\n",
      "    kappa = np.insert(kappa, 0, 0.0)\n",
      "    energy = np.insert(energy, 0, 0.0)\n",
      "    phase = np.insert(phase, 0, 0.0)\n",
      "    cross = np.insert(cross, 0, 0.0)\n",
      "    if sls == None:\n",
      "        return [kappa, energy, phase, cross]\n",
      "    sls = np.insert(sls, 0, 0.0)\n",
      "    return [kappa, energy, phase, cross, sls]\n",
      "\n",
      "# Do I even need to do anything with the return values? Does it return by reference or a copy?\n",
      "kappa1P, E1P, phase1P, cross1P, sls1P = AddLowKappa(kappa1P, E1P, phase1P, cross1P, sls1P)\n",
      "kappa1D, E1D, phase1D, cross1D, sls1D = AddLowKappa(kappa1D, E1D, phase1D, cross1D, sls1D)\n",
      "kappa1F, E1F, phase1F, cross1F, sls1F = AddLowKappa(kappa1F, E1F, phase1F, cross1F, sls1F)\n",
      "kappa1G, E1G, phase1G, cross1G, sls1G = AddLowKappa(kappa1G, E1G, phase1G, cross1G, sls1G)\n",
      "kappa1H, E1H, phase1H, cross1H, sls1H = AddLowKappa(kappa1H, E1H, phase1H, cross1H, sls1H)\n",
      "kappa3P, E3P, phase3P, cross3P, sls3P = AddLowKappa(kappa3P, E3P, phase3P, cross3P, sls3P)\n",
      "kappa3D, E3D, phase3D, cross3D, sls3D = AddLowKappa(kappa3D, E3D, phase3D, cross3D, sls3D)\n",
      "kappa3F, E3F, phase3F, cross3F, sls3F = AddLowKappa(kappa3F, E3F, phase3F, cross3F, sls3F)\n",
      "kappa3G, E3G, phase3G, cross3G, sls3G = AddLowKappa(kappa3G, E3G, phase3G, cross3G, sls3G)\n",
      "kappa3H, E3H, phase3H, cross3H, sls3H = AddLowKappa(kappa3H, E3H, phase3H, cross3H, sls3H)\n",
      "#kappa1FFull, E1FFull, phase1FFull, cross1FFull, sls1FFull = AddLowKappa(kappa1FFull, E1FFull, phase1FFull, cross1FFull, sls1FFull)"
     ],
     "language": "python",
     "metadata": {},
     "outputs": [],
     "prompt_number": 23
    },
    {
     "cell_type": "markdown",
     "metadata": {},
     "source": [
      "Are there any that still are missing the $\\kappa = 0.866$ runs?"
     ]
    },
    {
     "cell_type": "code",
     "collapsed": false,
     "input": [
      "def AddHighKappa(kappa, energy, phase, cross, sls=None):\n",
      "    kappa = np.append(kappa, 0.866)\n",
      "    energy = np.append(energy, 27.21138505/4.0*0.866**2)\n",
      "    phase = np.append(phase, phase[np.size(phase)-1])  # Repeat last entry\n",
      "    cross = np.append(cross, cross[np.size(cross)-1])\n",
      "    if sls == None:\n",
      "        return [kappa, energy, phase, cross]\n",
      "    sls = np.append(sls, sls[np.size(sls)-1])\n",
      "    return [kappa, energy, phase, cross, sls]\n",
      "\n",
      "kappa3D, E3D, phase3D, cross3D, sls3D = AddHighKappa(kappa3D, E3D, phase3D, cross3D, sls3D)\n",
      "kappa1F, E1F, phase1F, cross1F, sls1F = AddHighKappa(kappa1F, E1F, phase1F, cross1F, sls1F)"
     ],
     "language": "python",
     "metadata": {},
     "outputs": [],
     "prompt_number": 24
    },
    {
     "cell_type": "heading",
     "level": 2,
     "metadata": {},
     "source": [
      "Correct the phase shifts near resonances"
     ]
    },
    {
     "cell_type": "markdown",
     "metadata": {},
     "source": [
      "The inverse trigonometric functions only return within a certain range, so we sometimes have to add or subtract $\\pi$ near the resonances."
     ]
    },
    {
     "cell_type": "code",
     "collapsed": false,
     "input": [
      "def swavebackground(E):\n",
      "    return -1.18940-0.36829*E+0.033049*E**2\n",
      "def pwavebackground(E):\n",
      "    return 2.19180-0.52604*E+0.06307*E**2\n",
      "def dwavebackground(E):\n",
      "    return 1.683-0.7528*E+0.10604*E**2\n",
      "\n",
      "swavebkgr = swavebackground(E1S)\n",
      "pwavebkgr = pwavebackground(E1P)\n",
      "dwavebkgr = dwavebackground(E1D)"
     ],
     "language": "python",
     "metadata": {},
     "outputs": [],
     "prompt_number": 25
    },
    {
     "cell_type": "code",
     "collapsed": false,
     "input": [
      "def CorrectResonance(E, phase, backgroundfunc):\n",
      "    \"\"\"   \"\"\"\n",
      "    for i in range(np.size(phase)):\n",
      "        if E[i] < 3.0:\n",
      "            continue\n",
      "        if phase[i] - backgroundfunc(E[i]) > pi/2:\n",
      "            phase[i] = phase[i] - pi\n",
      "        if phase[i] - backgroundfunc(E[i]) < -pi/2:\n",
      "            phase[i] = phase[i] + pi\n",
      "    return\n",
      "\n",
      "E1Sorig = np.copy(E1S); phase1Sorig = np.copy(phase1S)\n",
      "CorrectResonance(E1S, phase1S, swavebackground)\n",
      "CorrectResonance(E1P, phase1P, pwavebackground)\n",
      "CorrectResonance(E1D, phase1D, dwavebackground)"
     ],
     "language": "python",
     "metadata": {},
     "outputs": [],
     "prompt_number": 26
    },
    {
     "cell_type": "code",
     "collapsed": false,
     "input": [
      "fig = pyplot.figure()\n",
      "pyplot.axvline(x=4.00658, color='black', ls='dashed', lw=1)\n",
      "pyplot.axvline(x=5.0272, color='black', ls='dashed', lw=1)\n",
      "pyplot.plot(E1Sorig, phase1Sorig, '.', ms=7, label=r'Original', color=singletcolor)\n",
      "pyplot.plot(E1S, phase1S, 'x', label=r'Corrected', color='k')\n",
      "pyplot.plot(E1S, swavebkgr, '.', ms=0.01, ls='solid', color='gray')\n",
      "#pyplot.plot(E1P, phase1P, '.', label=r'$^1P$ Complex Kohn', color=singletcolor)\n",
      "pyplot.xlabel(r\"${\\rm{E}}_{\\kappa}$ (eV)\")\n",
      "pyplot.ylabel(r\"$\\delta_0^+$ (radians)\")\n",
      "pyplot.xlim([3.5,5.11])\n",
      "pyplot.legend()\n",
      "FixPlot(plt)\n",
      "pyplot.savefig(\"swave-phases-reson-pi.pdf\", bbox_inches='tight')\n",
      "pyplot.show()"
     ],
     "language": "python",
     "metadata": {},
     "outputs": [
      {
       "metadata": {},
       "output_type": "display_data",
       "png": "[encoded data removed]",
       "text": [
        "<matplotlib.figure.Figure at 0x3e3a198>"
       ]
      }
     ],
     "prompt_number": 27
    },
    {
     "cell_type": "heading",
     "level": 2,
     "metadata": {},
     "source": [
      "Helper Functions"
     ]
    },
    {
     "cell_type": "code",
     "collapsed": false,
     "input": [
      "def ktoE(kappa):\n",
      "    return 27.21138505/4.0 * kappa**2\n",
      "\n",
      "def Etok(E):\n",
      "    return sqrt(E/27.21138505*4.0)"
     ],
     "language": "python",
     "metadata": {},
     "outputs": [],
     "prompt_number": 28
    },
    {
     "cell_type": "code",
     "collapsed": false,
     "input": [
      "def PercentDiff(a, b):\n",
      "    return abs((a-b)/(a+b)*2) * 100"
     ],
     "language": "python",
     "metadata": {},
     "outputs": [],
     "prompt_number": 29
    },
    {
     "cell_type": "heading",
     "level": 2,
     "metadata": {},
     "source": [
      "Converting to Pandas Dataframes"
     ]
    },
    {
     "cell_type": "code",
     "collapsed": false,
     "input": [
      "df1S = pd.DataFrame({'Kappa': kappa1S, 'E': E1S, 'Phase1S': phase1S, 'Cross1S': cross1S})\n",
      "df1P = pd.DataFrame({'Kappa': kappa1P, 'E': E1P, 'Phase1P': phase1P, 'Cross1P': cross1P})\n",
      "df1D = pd.DataFrame({'Kappa': kappa1D, 'E': E1D, 'Phase1D': phase1D, 'Cross1D': cross1D})\n",
      "df1F = pd.DataFrame({'Kappa': kappa1F, 'E': E1F, 'Phase1F': phase1F, 'Cross1F': cross1F})\n",
      "df1G = pd.DataFrame({'Kappa': kappa1G, 'E': E1G, 'Phase1G': phase1G, 'Cross1G': cross1G})\n",
      "df1H = pd.DataFrame({'Kappa': kappa1H, 'E': E1H, 'Phase1H': phase1H, 'Cross1H': cross1H})\n",
      "df3S = pd.DataFrame({'Kappa': kappa3S, 'E': E3S, 'Phase3S': phase3S, 'Cross3S': cross3S})\n",
      "df3P = pd.DataFrame({'Kappa': kappa3P, 'E': E3P, 'Phase3P': phase3P, 'Cross3P': cross3P})\n",
      "df3D = pd.DataFrame({'Kappa': kappa3D, 'E': E3D, 'Phase3D': phase3D, 'Cross3D': cross3D})\n",
      "df3F = pd.DataFrame({'Kappa': kappa3F, 'E': E3F, 'Phase3F': phase3F, 'Cross3F': cross3F})\n",
      "df3G = pd.DataFrame({'Kappa': kappa3G, 'E': E3G, 'Phase3G': phase3G, 'Cross3G': cross3G})\n",
      "df3H = pd.DataFrame({'Kappa': kappa3H, 'E': E3H, 'Phase3H': phase3H, 'Cross3H': cross3H})"
     ],
     "language": "python",
     "metadata": {},
     "outputs": [],
     "prompt_number": 30
    },
    {
     "cell_type": "code",
     "collapsed": false,
     "input": [
      "df = pd.merge(df1S, df1P, on=['Kappa','E'], how='outer')\n",
      "df = pd.merge(df, df1D, on=['Kappa','E'], how='outer')\n",
      "df = pd.merge(df, df1F, on=['Kappa','E'], how='outer')\n",
      "df = pd.merge(df, df1G, on=['Kappa','E'], how='outer')\n",
      "df = pd.merge(df, df1H, on=['Kappa','E'], how='outer')\n",
      "df = pd.merge(df, df3S, on=['Kappa','E'], how='outer')\n",
      "df = pd.merge(df, df3P, on=['Kappa','E'], how='outer')\n",
      "df = pd.merge(df, df3D, on=['Kappa','E'], how='outer')\n",
      "df = pd.merge(df, df3F, on=['Kappa','E'], how='outer')\n",
      "df = pd.merge(df, df3G, on=['Kappa','E'], how='outer')\n",
      "df = pd.merge(df, df3H, on=['Kappa','E'], how='outer')\n",
      "df = df.sort(['Kappa'], ascending=1)\n",
      "df = df.drop_duplicates(subset='Kappa')\n",
      "df.reset_index(inplace=True, drop=True)\n",
      "df.set_index('Kappa', inplace=True, drop=False, append=False)  # Needed for the interpolation\n",
      "df = df.interpolate(method='values')\n",
      "df = df[df.Kappa != 0]  # Remove the first line with 0 energy\n",
      "df.reset_index(inplace=True, drop=True) \n",
      "df[:3]\n",
      "#df.describe()"
     ],
     "language": "python",
     "metadata": {},
     "outputs": [
      {
       "html": [
        "<div style=\"max-height:1000px;max-width:1500px;overflow:auto;\">\n",
        "<table border=\"1\" class=\"dataframe\">\n",
        "  <thead>\n",
        "    <tr style=\"text-align: right;\">\n",
        "      <th></th>\n",
        "      <th>Cross1S</th>\n",
        "      <th>E</th>\n",
        "      <th>Kappa</th>\n",
        "      <th>Phase1S</th>\n",
        "      <th>Cross1P</th>\n",
        "      <th>Phase1P</th>\n",
        "      <th>Cross1D</th>\n",
        "      <th>Phase1D</th>\n",
        "      <th>Cross1F</th>\n",
        "      <th>Phase1F</th>\n",
        "      <th>...</th>\n",
        "      <th>Cross3P</th>\n",
        "      <th>Phase3P</th>\n",
        "      <th>Cross3D</th>\n",
        "      <th>Phase3D</th>\n",
        "      <th>Cross3F</th>\n",
        "      <th>Phase3F</th>\n",
        "      <th>Cross3G</th>\n",
        "      <th>Phase3G</th>\n",
        "      <th>Cross3H</th>\n",
        "      <th>Phase3H</th>\n",
        "    </tr>\n",
        "  </thead>\n",
        "  <tbody>\n",
        "    <tr>\n",
        "      <th>0</th>\n",
        "      <td> 75.016451</td>\n",
        "      <td> 6.802846e-08</td>\n",
        "      <td> 0.0001</td>\n",
        "      <td>-0.000433</td>\n",
        "      <td> 4.452818e-09</td>\n",
        "      <td> 8.614734e-09</td>\n",
        "      <td> 3.736173e-10</td>\n",
        "      <td> 9.664591e-09</td>\n",
        "      <td> 1.735054e-11</td>\n",
        "      <td> 2.489302e-09</td>\n",
        "      <td>...</td>\n",
        "      <td> 6.840653e-11</td>\n",
        "      <td>-1.307732e-09</td>\n",
        "      <td> 8.850449e-11</td>\n",
        "      <td> 4.703841e-09</td>\n",
        "      <td> 1.400220e-11</td>\n",
        "      <td> 2.236244e-09</td>\n",
        "      <td> 1.618705e-14</td>\n",
        "      <td> 6.705522e-11</td>\n",
        "      <td> 1.024455e-09</td>\n",
        "      <td>-1.525879e-08</td>\n",
        "    </tr>\n",
        "    <tr>\n",
        "      <th>1</th>\n",
        "      <td> 75.016435</td>\n",
        "      <td> 2.721139e-07</td>\n",
        "      <td> 0.0002</td>\n",
        "      <td>-0.000866</td>\n",
        "      <td> 8.905637e-09</td>\n",
        "      <td> 1.722947e-08</td>\n",
        "      <td> 7.472345e-10</td>\n",
        "      <td> 1.932918e-08</td>\n",
        "      <td> 3.470108e-11</td>\n",
        "      <td> 4.978603e-09</td>\n",
        "      <td>...</td>\n",
        "      <td> 1.368131e-10</td>\n",
        "      <td>-2.615464e-09</td>\n",
        "      <td> 1.770090e-10</td>\n",
        "      <td> 9.407682e-09</td>\n",
        "      <td> 2.800440e-11</td>\n",
        "      <td> 4.472487e-09</td>\n",
        "      <td> 3.237410e-14</td>\n",
        "      <td> 1.341104e-10</td>\n",
        "      <td> 2.048911e-09</td>\n",
        "      <td>-3.051759e-08</td>\n",
        "    </tr>\n",
        "    <tr>\n",
        "      <th>2</th>\n",
        "      <td> 75.016400</td>\n",
        "      <td> 6.122562e-07</td>\n",
        "      <td> 0.0003</td>\n",
        "      <td>-0.001299</td>\n",
        "      <td> 1.335845e-08</td>\n",
        "      <td> 2.584420e-08</td>\n",
        "      <td> 1.120852e-09</td>\n",
        "      <td> 2.899377e-08</td>\n",
        "      <td> 5.205163e-11</td>\n",
        "      <td> 7.467905e-09</td>\n",
        "      <td>...</td>\n",
        "      <td> 2.052196e-10</td>\n",
        "      <td>-3.923196e-09</td>\n",
        "      <td> 2.655135e-10</td>\n",
        "      <td> 1.411152e-08</td>\n",
        "      <td> 4.200660e-11</td>\n",
        "      <td> 6.708731e-09</td>\n",
        "      <td> 4.856115e-14</td>\n",
        "      <td> 2.011657e-10</td>\n",
        "      <td> 3.073366e-09</td>\n",
        "      <td>-4.577638e-08</td>\n",
        "    </tr>\n",
        "  </tbody>\n",
        "</table>\n",
        "<p>3 rows \u00d7 26 columns</p>\n",
        "</div>"
       ],
       "metadata": {},
       "output_type": "pyout",
       "prompt_number": 31,
       "text": [
        "     Cross1S             E   Kappa   Phase1S       Cross1P       Phase1P  \\\n",
        "0  75.016451  6.802846e-08  0.0001 -0.000433  4.452818e-09  8.614734e-09   \n",
        "1  75.016435  2.721139e-07  0.0002 -0.000866  8.905637e-09  1.722947e-08   \n",
        "2  75.016400  6.122562e-07  0.0003 -0.001299  1.335845e-08  2.584420e-08   \n",
        "\n",
        "        Cross1D       Phase1D       Cross1F       Phase1F      ...       \\\n",
        "0  3.736173e-10  9.664591e-09  1.735054e-11  2.489302e-09      ...        \n",
        "1  7.472345e-10  1.932918e-08  3.470108e-11  4.978603e-09      ...        \n",
        "2  1.120852e-09  2.899377e-08  5.205163e-11  7.467905e-09      ...        \n",
        "\n",
        "        Cross3P       Phase3P       Cross3D       Phase3D       Cross3F  \\\n",
        "0  6.840653e-11 -1.307732e-09  8.850449e-11  4.703841e-09  1.400220e-11   \n",
        "1  1.368131e-10 -2.615464e-09  1.770090e-10  9.407682e-09  2.800440e-11   \n",
        "2  2.052196e-10 -3.923196e-09  2.655135e-10  1.411152e-08  4.200660e-11   \n",
        "\n",
        "        Phase3F       Cross3G       Phase3G       Cross3H       Phase3H  \n",
        "0  2.236244e-09  1.618705e-14  6.705522e-11  1.024455e-09 -1.525879e-08  \n",
        "1  4.472487e-09  3.237410e-14  1.341104e-10  2.048911e-09 -3.051759e-08  \n",
        "2  6.708731e-09  4.856115e-14  2.011657e-10  3.073366e-09 -4.577638e-08  \n",
        "\n",
        "[3 rows x 26 columns]"
       ]
      }
     ],
     "prompt_number": 31
    },
    {
     "cell_type": "code",
     "collapsed": false,
     "input": [
      "# The first few columns aren't in the desired order. We fix that here.\n",
      "cols = df.columns.tolist()\n",
      "cols[0] = 'Kappa'\n",
      "cols[1] = 'E'\n",
      "cols[2] = 'Cross1S'\n",
      "df = df.reindex(columns=cols, axis=1)\n",
      "df[:3]"
     ],
     "language": "python",
     "metadata": {},
     "outputs": [
      {
       "html": [
        "<div style=\"max-height:1000px;max-width:1500px;overflow:auto;\">\n",
        "<table border=\"1\" class=\"dataframe\">\n",
        "  <thead>\n",
        "    <tr style=\"text-align: right;\">\n",
        "      <th></th>\n",
        "      <th>Kappa</th>\n",
        "      <th>E</th>\n",
        "      <th>Cross1S</th>\n",
        "      <th>Phase1S</th>\n",
        "      <th>Cross1P</th>\n",
        "      <th>Phase1P</th>\n",
        "      <th>Cross1D</th>\n",
        "      <th>Phase1D</th>\n",
        "      <th>Cross1F</th>\n",
        "      <th>Phase1F</th>\n",
        "      <th>...</th>\n",
        "      <th>Cross3P</th>\n",
        "      <th>Phase3P</th>\n",
        "      <th>Cross3D</th>\n",
        "      <th>Phase3D</th>\n",
        "      <th>Cross3F</th>\n",
        "      <th>Phase3F</th>\n",
        "      <th>Cross3G</th>\n",
        "      <th>Phase3G</th>\n",
        "      <th>Cross3H</th>\n",
        "      <th>Phase3H</th>\n",
        "    </tr>\n",
        "  </thead>\n",
        "  <tbody>\n",
        "    <tr>\n",
        "      <th>0</th>\n",
        "      <td> 0.0001</td>\n",
        "      <td> 6.802846e-08</td>\n",
        "      <td> 75.016451</td>\n",
        "      <td>-0.000433</td>\n",
        "      <td> 4.452818e-09</td>\n",
        "      <td> 8.614734e-09</td>\n",
        "      <td> 3.736173e-10</td>\n",
        "      <td> 9.664591e-09</td>\n",
        "      <td> 1.735054e-11</td>\n",
        "      <td> 2.489302e-09</td>\n",
        "      <td>...</td>\n",
        "      <td> 6.840653e-11</td>\n",
        "      <td>-1.307732e-09</td>\n",
        "      <td> 8.850449e-11</td>\n",
        "      <td> 4.703841e-09</td>\n",
        "      <td> 1.400220e-11</td>\n",
        "      <td> 2.236244e-09</td>\n",
        "      <td> 1.618705e-14</td>\n",
        "      <td> 6.705522e-11</td>\n",
        "      <td> 1.024455e-09</td>\n",
        "      <td>-1.525879e-08</td>\n",
        "    </tr>\n",
        "    <tr>\n",
        "      <th>1</th>\n",
        "      <td> 0.0002</td>\n",
        "      <td> 2.721139e-07</td>\n",
        "      <td> 75.016435</td>\n",
        "      <td>-0.000866</td>\n",
        "      <td> 8.905637e-09</td>\n",
        "      <td> 1.722947e-08</td>\n",
        "      <td> 7.472345e-10</td>\n",
        "      <td> 1.932918e-08</td>\n",
        "      <td> 3.470108e-11</td>\n",
        "      <td> 4.978603e-09</td>\n",
        "      <td>...</td>\n",
        "      <td> 1.368131e-10</td>\n",
        "      <td>-2.615464e-09</td>\n",
        "      <td> 1.770090e-10</td>\n",
        "      <td> 9.407682e-09</td>\n",
        "      <td> 2.800440e-11</td>\n",
        "      <td> 4.472487e-09</td>\n",
        "      <td> 3.237410e-14</td>\n",
        "      <td> 1.341104e-10</td>\n",
        "      <td> 2.048911e-09</td>\n",
        "      <td>-3.051759e-08</td>\n",
        "    </tr>\n",
        "    <tr>\n",
        "      <th>2</th>\n",
        "      <td> 0.0003</td>\n",
        "      <td> 6.122562e-07</td>\n",
        "      <td> 75.016400</td>\n",
        "      <td>-0.001299</td>\n",
        "      <td> 1.335845e-08</td>\n",
        "      <td> 2.584420e-08</td>\n",
        "      <td> 1.120852e-09</td>\n",
        "      <td> 2.899377e-08</td>\n",
        "      <td> 5.205163e-11</td>\n",
        "      <td> 7.467905e-09</td>\n",
        "      <td>...</td>\n",
        "      <td> 2.052196e-10</td>\n",
        "      <td>-3.923196e-09</td>\n",
        "      <td> 2.655135e-10</td>\n",
        "      <td> 1.411152e-08</td>\n",
        "      <td> 4.200660e-11</td>\n",
        "      <td> 6.708731e-09</td>\n",
        "      <td> 4.856115e-14</td>\n",
        "      <td> 2.011657e-10</td>\n",
        "      <td> 3.073366e-09</td>\n",
        "      <td>-4.577638e-08</td>\n",
        "    </tr>\n",
        "  </tbody>\n",
        "</table>\n",
        "<p>3 rows \u00d7 26 columns</p>\n",
        "</div>"
       ],
       "metadata": {},
       "output_type": "pyout",
       "prompt_number": 32,
       "text": [
        "    Kappa             E    Cross1S   Phase1S       Cross1P       Phase1P  \\\n",
        "0  0.0001  6.802846e-08  75.016451 -0.000433  4.452818e-09  8.614734e-09   \n",
        "1  0.0002  2.721139e-07  75.016435 -0.000866  8.905637e-09  1.722947e-08   \n",
        "2  0.0003  6.122562e-07  75.016400 -0.001299  1.335845e-08  2.584420e-08   \n",
        "\n",
        "        Cross1D       Phase1D       Cross1F       Phase1F      ...       \\\n",
        "0  3.736173e-10  9.664591e-09  1.735054e-11  2.489302e-09      ...        \n",
        "1  7.472345e-10  1.932918e-08  3.470108e-11  4.978603e-09      ...        \n",
        "2  1.120852e-09  2.899377e-08  5.205163e-11  7.467905e-09      ...        \n",
        "\n",
        "        Cross3P       Phase3P       Cross3D       Phase3D       Cross3F  \\\n",
        "0  6.840653e-11 -1.307732e-09  8.850449e-11  4.703841e-09  1.400220e-11   \n",
        "1  1.368131e-10 -2.615464e-09  1.770090e-10  9.407682e-09  2.800440e-11   \n",
        "2  2.052196e-10 -3.923196e-09  2.655135e-10  1.411152e-08  4.200660e-11   \n",
        "\n",
        "        Phase3F       Cross3G       Phase3G       Cross3H       Phase3H  \n",
        "0  2.236244e-09  1.618705e-14  6.705522e-11  1.024455e-09 -1.525879e-08  \n",
        "1  4.472487e-09  3.237410e-14  1.341104e-10  2.048911e-09 -3.051759e-08  \n",
        "2  6.708731e-09  4.856115e-14  2.011657e-10  3.073366e-09 -4.577638e-08  \n",
        "\n",
        "[3 rows x 26 columns]"
       ]
      }
     ],
     "prompt_number": 32
    },
    {
     "cell_type": "code",
     "collapsed": false,
     "input": [
      "# This is the \"tidy data\" way. The previous method works great for getting the data to line up properly and interpolate.\n",
      "#  Right now, I am not using this, as it makes some things more difficult (particularly the differential cross sections).\n",
      "\n",
      "dftidy = [pd.DataFrame({'Kappa': df['Kappa'], 'Phase': df['Phase1S'], 'L': 0, 'IsTriplet': False}),\n",
      "         pd.DataFrame({'Kappa': df['Kappa'], 'Phase': df['Phase1P'], 'L': 1, 'IsTriplet': False}),\n",
      "         pd.DataFrame({'Kappa': df['Kappa'], 'Phase': df['Phase1D'], 'L': 2, 'IsTriplet': False}),\n",
      "         pd.DataFrame({'Kappa': df['Kappa'], 'Phase': df['Phase1F'], 'L': 3, 'IsTriplet': False}),\n",
      "         pd.DataFrame({'Kappa': df['Kappa'], 'Phase': df['Phase1G'], 'L': 4, 'IsTriplet': False}),\n",
      "         pd.DataFrame({'Kappa': df['Kappa'], 'Phase': df['Phase1H'], 'L': 5, 'IsTriplet': False}),\n",
      "         pd.DataFrame({'Kappa': df['Kappa'], 'Phase': df['Phase3S'], 'L': 0, 'IsTriplet': True}),\n",
      "         pd.DataFrame({'Kappa': df['Kappa'], 'Phase': df['Phase3P'], 'L': 1, 'IsTriplet': True}),\n",
      "         pd.DataFrame({'Kappa': df['Kappa'], 'Phase': df['Phase3D'], 'L': 2, 'IsTriplet': True}),\n",
      "         pd.DataFrame({'Kappa': df['Kappa'], 'Phase': df['Phase3F'], 'L': 3, 'IsTriplet': True}),\n",
      "         pd.DataFrame({'Kappa': df['Kappa'], 'Phase': df['Phase3G'], 'L': 4, 'IsTriplet': True}),\n",
      "         pd.DataFrame({'Kappa': df['Kappa'], 'Phase': df['Phase3H'], 'L': 5, 'IsTriplet': True})]\n",
      "dftidy = pd.concat(dftidy)\n",
      "dftidy.reset_index(inplace=True, drop=True)\n",
      "dftidy[:3]"
     ],
     "language": "python",
     "metadata": {},
     "outputs": [
      {
       "html": [
        "<div style=\"max-height:1000px;max-width:1500px;overflow:auto;\">\n",
        "<table border=\"1\" class=\"dataframe\">\n",
        "  <thead>\n",
        "    <tr style=\"text-align: right;\">\n",
        "      <th></th>\n",
        "      <th>IsTriplet</th>\n",
        "      <th>Kappa</th>\n",
        "      <th>L</th>\n",
        "      <th>Phase</th>\n",
        "    </tr>\n",
        "  </thead>\n",
        "  <tbody>\n",
        "    <tr>\n",
        "      <th>0</th>\n",
        "      <td> False</td>\n",
        "      <td> 0.0001</td>\n",
        "      <td> 0</td>\n",
        "      <td>-0.000433</td>\n",
        "    </tr>\n",
        "    <tr>\n",
        "      <th>1</th>\n",
        "      <td> False</td>\n",
        "      <td> 0.0002</td>\n",
        "      <td> 0</td>\n",
        "      <td>-0.000866</td>\n",
        "    </tr>\n",
        "    <tr>\n",
        "      <th>2</th>\n",
        "      <td> False</td>\n",
        "      <td> 0.0003</td>\n",
        "      <td> 0</td>\n",
        "      <td>-0.001299</td>\n",
        "    </tr>\n",
        "  </tbody>\n",
        "</table>\n",
        "</div>"
       ],
       "metadata": {},
       "output_type": "pyout",
       "prompt_number": 33,
       "text": [
        "  IsTriplet   Kappa  L     Phase\n",
        "0     False  0.0001  0 -0.000433\n",
        "1     False  0.0002  0 -0.000866\n",
        "2     False  0.0003  0 -0.001299"
       ]
      }
     ],
     "prompt_number": 33
    },
    {
     "cell_type": "code",
     "collapsed": false,
     "input": [
      "# We aren't using the precomputed cross sections or energies, so we apply this to our dataframe to get a new computed column.\n",
      "\n",
      "def cross_section_df(x):\n",
      "    return 4.0 * (2*x['L'] + 1) * np.sin(x['Phase'])**2 / x['Kappa']**2\n",
      "\n",
      "def ktoE_df(x):\n",
      "    return 27.21138505/4.0 * x['Kappa']**2\n",
      "\n",
      "dftidy['Cross'] = dftidy.apply(cross_section_df, axis=1)\n",
      "dftidy['E'] = dftidy.apply(ktoE_df, axis=1)\n",
      "\n",
      "dftidy = dftidy.reindex(columns=['L', 'IsTriplet', 'Kappa', 'E', 'Phase', 'Cross'], axis=1)"
     ],
     "language": "python",
     "metadata": {},
     "outputs": [],
     "prompt_number": 34
    },
    {
     "cell_type": "code",
     "collapsed": false,
     "input": [
      "# Just a test to show how we can select the desired data\n",
      "print pysqldf(\"SELECT * from dftidy WHERE L=0 AND IsTriplet=0\")[:3]\n",
      "print dftidy[((dftidy.L == 0) & (dftidy.IsTriplet == 0))][:3]"
     ],
     "language": "python",
     "metadata": {},
     "outputs": [
      {
       "output_type": "stream",
       "stream": "stdout",
       "text": [
        "   L  IsTriplet   Kappa             E     Phase      Cross\n",
        "0  0          0  0.0001  6.802846e-08 -0.000433  75.016451\n",
        "1  0          0  0.0002  2.721139e-07 -0.000866  75.016435\n",
        "2  0          0  0.0003  6.122562e-07 -0.001299  75.016400\n",
        "   L IsTriplet   Kappa             E     Phase      Cross\n",
        "0  0     False  0.0001  6.802846e-08 -0.000433  75.016451\n",
        "1  0     False  0.0002  2.721139e-07 -0.000866  75.016435\n",
        "2  0     False  0.0003  6.122562e-07 -0.001299  75.016400\n"
       ]
      }
     ],
     "prompt_number": 35
    },
    {
     "cell_type": "code",
     "collapsed": false,
     "input": [
      "0 == False  # The SQL version does not return True or False entries."
     ],
     "language": "python",
     "metadata": {},
     "outputs": [
      {
       "metadata": {},
       "output_type": "pyout",
       "prompt_number": 36,
       "text": [
        "True"
       ]
      }
     ],
     "prompt_number": 36
    },
    {
     "cell_type": "heading",
     "level": 2,
     "metadata": {},
     "source": [
      "Plotting Phase Shifts and Cross Sections"
     ]
    },
    {
     "cell_type": "markdown",
     "metadata": {},
     "source": [
      "This section just has the phase shifts and cross sections plotted with respect to energy."
     ]
    },
    {
     "cell_type": "code",
     "collapsed": false,
     "input": [
      "WaltersE = ktoE(np.array([0.1, 0.2, 0.3, 0.4, 0.5, 0.6, 0.7]))\n",
      "Walters1S = np.array([-0.428, -0.825, -1.167, -1.453, -1.685, -1.867, -1.992])\n",
      "Walters3S = np.array([-0.206, -0.414, -0.624, -0.838, -1.037, -1.213, -1.367])\n",
      "Walters1P = np.array([0.0221, 0.183, 0.580, 0.956, 1.106, 1.134, 1.133])\n",
      "Walters3P = np.array([-0.000953, -0.0122, -0.0456, -0.104, -0.178, -0.247, -0.295])\n",
      "Walters1D = np.array([2.02e-4, 3.49e-3, 1.73e-2, 5.22e-2, 1.16e-1, 2.08e-1, 3.24e-1])\n",
      "Walters3D = np.array([8.48e-5, 1.15e-3, 2.84e-3, 2.37e-3, -4.66e-3, -1.85e-2, -3.27e-2])\n",
      "\n",
      "ZhangE = ktoE(np.array([0.1, 0.2]))\n",
      "Zhang1S = np.array([-0.42629, -0.81973])\n",
      "Zhang3S = np.array([-0.21461, -0.43145])"
     ],
     "language": "python",
     "metadata": {},
     "outputs": [],
     "prompt_number": 37
    },
    {
     "cell_type": "markdown",
     "metadata": {},
     "source": [
      "If we need to make the triplet line not solid: http://stackoverflow.com/questions/14710221/python-matplotlib-dash-dot-dot-how-to"
     ]
    },
    {
     "cell_type": "code",
     "collapsed": false,
     "input": [
      "fig = pyplot.figure()\n",
      "pyplot.axvline(x=4.0058, color='black', ls='dashed', lw=1)\n",
      "pyplot.axvline(x=4.9479, color='black', ls='dashed', lw=1)\n",
      "df.plot(x='E', y='Phase1S', marker='.', markersize=0.01, label=r'$^1S$ Complex Kohn', color=singletcolor)\n",
      "df.plot(x='E', y='Phase3S', marker='.', markersize=0.01, label=r'$^3S$ Complex Kohn', color=tripletcolor)\n",
      "#df.plot(x='E', y='Phase3S', style='--', marker='.', markersize=0.01, label=r'$^3S$ Complex Kohn', color=tripletcolor)\n",
      "#pyplot.plot(E1G, sls1G, '--', marker='o', markersize=0.01, label='$^1G$ Born', color=singletcolor)\n",
      "#dfsub1S = df[(df.L == 0) & (df.IsTriplet == 0)]\n",
      "#dfsub3S = df[(df.L == 0) & (df.IsTriplet == 1)]\n",
      "#dfsub1S.plot(x='E', y='Phase', marker='.', markersize=0.01, label=r'$^1S$ Complex Kohn', color=singletcolor)\n",
      "#dfsub3S.plot(x='E', y='Phase', marker='.', markersize=0.01, label=r'$^3S$ Complex Kohn', color=tripletcolor)\n",
      "pyplot.plot(WaltersE, Walters1S, 'x', markersize=8, mew=2, label=r'$^1S$ Close-coupling', color=singletcolor)\n",
      "pyplot.plot(WaltersE, Walters3S, 'x', markersize=8, mew=2, label=r'$^3S$ Close-coupling', color=tripletcolor)\n",
      "pyplot.plot(ZhangE, Zhang1S, 'o', markersize=4, label=r'$^1S$ Confined variational', color=singletcolor)\n",
      "pyplot.plot(ZhangE, Zhang3S, 'o', markersize=4, label=r'$^3S$ Confined variational', color=tripletcolor)\n",
      "pyplot.xlabel(r\"${\\rm{E}}_{\\kappa}$ (eV)\")\n",
      "pyplot.ylabel(r\"$\\delta_0$ (radians)\")\n",
      "pyplot.xlim([0,5.15])\n",
      "pyplot.legend()\n",
      "FixPlot(plt)\n",
      "\n",
      "ax = plt.gca()\n",
      "axins = inset_axes(ax, 3, 2, loc=9, bbox_to_anchor=(0.55, 0.45), bbox_transform=ax.figure.transFigure) # zoom = 6\n",
      "\n",
      "p1S = np.array(df['Phase1S'].tolist())\n",
      "p3S = np.array(df['Phase3S'].tolist())\n",
      "ES = np.array(df['E'].tolist())\n",
      "\n",
      "pyplot.axhline(y=0, color='black', ls='dotted', lw=1)\n",
      "pyplot.plot(ES, p1S, '-', marker='.', markersize=0.01, color=singletcolor, label='Singlet')\n",
      "pyplot.plot(ES, p3S, '-', marker='.', markersize=0.01, color=tripletcolor, label='Triplet')\n",
      "pyplot.plot(WaltersE, Walters1S, 'x', markersize=8, mew=2, color=singletcolor)\n",
      "pyplot.plot(WaltersE, Walters3S, '+', markersize=10, mew=2, color=tripletcolor)\n",
      "pyplot.plot(ZhangE, Zhang1S, 'o', markersize=4, label=r'$^1S$ Confined variational', color=singletcolor)\n",
      "pyplot.plot(ZhangE, Zhang3S, 'o', markersize=4, label=r'$^3S$ Confined variational', color=tripletcolor)\n",
      "\n",
      "axins.axis([0.0, 0.35, -0.5, -0.1])\n",
      "pyplot.xticks(fontsize = 13) # work on current fig\n",
      "pyplot.yticks(fontsize = 13) # work on current fig\n",
      "\n",
      "pyplot.savefig(\"swave-phases.pdf\", bbox_inches='tight')\n",
      "pyplot.show()"
     ],
     "language": "python",
     "metadata": {},
     "outputs": [
      {
       "metadata": {},
       "output_type": "display_data",
       "png": "[encoded data removed]",
       "text": [
        "<matplotlib.figure.Figure at 0x16977a90>"
       ]
      }
     ],
     "prompt_number": 38
    },
    {
     "cell_type": "code",
     "collapsed": false,
     "input": [
      "pyplot.axhline(y=0, color='black', ls='dotted', lw=1)\n",
      "pyplot.axvline(x=4.2858, color='black', ls='dashed', lw=1)\n",
      "pyplot.axvline(x=5.0585, color='black', ls='dashed', lw=1)\n",
      "df.plot(x='E', y='Phase1P', marker='.', markersize=0.01, label=r'$^1P$ Complex Kohn', color=singletcolor)\n",
      "df.plot(x='E', y='Phase3P', marker='.', markersize=0.01, label=r'$^3P$ Complex Kohn', color=tripletcolor)\n",
      "pyplot.plot(WaltersE, Walters1P, 'x', markersize=8, mew=2, label=r'$^1P$ Close-coupling', color='steelblue')\n",
      "pyplot.plot(WaltersE, Walters3P, 'x', markersize=8, mew=2, label=r'$^3P$ Close-coupling', color='coral')\n",
      "pyplot.xlabel(r\"${\\rm{E}}_{\\kappa}$ (eV)\")\n",
      "pyplot.ylabel(r\"$\\delta_1$ (radians)\")\n",
      "pyplot.xlim([0,5.15])\n",
      "pyplot.ylim([-0.5,2.6])\n",
      "pyplot.legend()\n",
      "FixPlot(plt)\n",
      "pyplot.savefig(\"pwave-phases.pdf\", bbox_inches='tight')\n",
      "pyplot.show()"
     ],
     "language": "python",
     "metadata": {},
     "outputs": [
      {
       "metadata": {},
       "output_type": "display_data",
       "png": "[encoded data removed]",
       "text": [
        "<matplotlib.figure.Figure at 0x1737e668>"
       ]
      }
     ],
     "prompt_number": 39
    },
    {
     "cell_type": "code",
     "collapsed": false,
     "input": [
      "pyplot.axhline(y=0, color='black', ls='dotted', lw=1)\n",
      "pyplot.axvline(x=4.7192, color='black', ls='dashed', lw=1)\n",
      "df.plot(x='E', y='Phase1D', marker='.', markersize=0.01, label=r'$^1$D Complex Kohn', color=singletcolor)\n",
      "df.plot(x='E', y='Phase3D', marker='.', markersize=0.01, label=r'$^3$D Complex Kohn', color=tripletcolor)\n",
      "pyplot.plot(WaltersE, Walters1D, 'x', markersize=8, mew=2, label=r'$^1$D Close-coupling', color=singletcolor)\n",
      "pyplot.plot(WaltersE, Walters3D, 'x', markersize=8, mew=2, label=r'$^3$D Close-coupling', color=tripletcolor)\n",
      "pyplot.xlabel(r\"${\\rm{E}}_{\\kappa}$ (eV)\")\n",
      "pyplot.ylabel(r\"$\\delta_2$ (radians)\")\n",
      "pyplot.xlim([0, 5.15])\n",
      "pyplot.ylim([-2, 2])\n",
      "pyplot.legend()\n",
      "FixPlot(plt)\n",
      "\n",
      "ax = plt.gca()\n",
      "p1D = np.array(df['Phase1D'].tolist())\n",
      "p3D = np.array(df['Phase3D'].tolist())\n",
      "ED = np.array(df['E'].tolist())\n",
      "\n",
      "axins = inset_axes(ax, 3.5, 2.4, loc=9, bbox_to_anchor=(0.4, 0.48), bbox_transform=ax.figure.transFigure) # zoom = 6\n",
      "\n",
      "pyplot.axhline(y=0, color='black', ls='dotted', lw=1)\n",
      "pyplot.plot(ED, p1D, '-', marker='.', markersize=0.01, color=singletcolor, label='Singlet')\n",
      "pyplot.plot(ED, p3D, '-', marker='.', markersize=0.01, color=tripletcolor, label='Triplet')\n",
      "pyplot.plot(WaltersE, Walters1D, 'x', markersize=8, mew=2, color=singletcolor)\n",
      "pyplot.plot(WaltersE, Walters3D, '+', markersize=10, mew=2, color=tripletcolor)\n",
      "\n",
      "axins.axis([0.0, 2.7, -0.06, 0.25])\n",
      "pyplot.xticks(fontsize = 13) # work on current fig\n",
      "pyplot.yticks(fontsize = 13) # work on current fig\n",
      "\n",
      "pyplot.savefig(\"dwave-phases.pdf\", bbox_inches='tight')\n",
      "pyplot.show()"
     ],
     "language": "python",
     "metadata": {},
     "outputs": [
      {
       "metadata": {},
       "output_type": "display_data",
       "png": "[encoded data removed]",
       "text": [
        "<matplotlib.figure.Figure at 0x14c3fb00>"
       ]
      }
     ],
     "prompt_number": 40
    },
    {
     "cell_type": "code",
     "collapsed": false,
     "input": [
      "pyplot.axhline(y=0, color='black', ls='dotted', lw=1)\n",
      "df.plot(x='E', y='Phase1S', marker='.', markersize=0.01, label='$^1S$ Complex Kohn', color=singletcolor)\n",
      "pyplot.plot(E1S, sls1S, '--', marker='o', markersize=0.01, label='$^1S$ Born', color=singletcolor)\n",
      "df.plot(x='E', y='Phase3S', marker='.', markersize=0.01, label='$^3S$ Complex Kohn', color=tripletcolor)\n",
      "pyplot.plot(E3S, sls3S, '--', marker='o', markersize=0.01, label='$^3S$ Born', color=tripletcolor)\n",
      "pyplot.xlabel(r\"${\\rm{E}}_{\\kappa}$ (eV)\")\n",
      "pyplot.ylabel(r\"$\\delta_2$ (radians)\")\n",
      "pyplot.xlim([0,5.15])\n",
      "pyplot.legend()\n",
      "FixPlot(plt)\n",
      "pyplot.savefig(\"swave-phase-born.pdf\", bbox_inches='tight')\n",
      "pyplot.show()"
     ],
     "language": "python",
     "metadata": {},
     "outputs": [
      {
       "metadata": {},
       "output_type": "display_data",
       "png": "[encoded data removed]",
       "text": [
        "<matplotlib.figure.Figure at 0x15a80b00>"
       ]
      }
     ],
     "prompt_number": 41
    },
    {
     "cell_type": "code",
     "collapsed": false,
     "input": [
      "pyplot.axhline(y=0, color='black', ls='dotted', lw=1)\n",
      "df.plot(x='E', y='Phase1P', marker='.', markersize=0.01, label='$^1P$ Complex Kohn', color=singletcolor)\n",
      "pyplot.plot(E1P, sls1P, '--', marker='o', markersize=0.01, label='$^1P$ Born', color=singletcolor)\n",
      "df.plot(x='E', y='Phase3P', marker='.', markersize=0.01, label='$^3P$ Complex Kohn', color=tripletcolor)\n",
      "pyplot.plot(E3P, sls3P, '--', marker='o', markersize=0.01, label='$^3P$ Born', color=tripletcolor)\n",
      "pyplot.xlabel(r\"${\\rm{E}}_{\\kappa}$ (eV)\")\n",
      "pyplot.ylabel(r\"$\\delta_1$ (radians)\")\n",
      "pyplot.xlim([0,5.15])\n",
      "pyplot.legend()\n",
      "FixPlot(plt)\n",
      "pyplot.savefig(\"pwave-phase-born.pdf\", bbox_inches='tight')\n",
      "pyplot.show()"
     ],
     "language": "python",
     "metadata": {},
     "outputs": [
      {
       "metadata": {},
       "output_type": "display_data",
       "png": "[encoded data removed]",
       "text": [
        "<matplotlib.figure.Figure at 0x1467c908>"
       ]
      }
     ],
     "prompt_number": 42
    },
    {
     "cell_type": "code",
     "collapsed": false,
     "input": [
      "pyplot.axhline(y=0, color='black', ls='dotted', lw=1)\n",
      "df.plot(x='E', y='Phase1D', marker='.', markersize=0.01, label='$^1D$ Complex Kohn', color=singletcolor)\n",
      "pyplot.plot(E1D, sls1D, '--', marker='o', markersize=0.01, label='$^1D$ Born', color=singletcolor)\n",
      "df.plot(x='E', y='Phase3D', marker='.', markersize=0.01, label='$^3D$ Complex Kohn', color=tripletcolor)\n",
      "pyplot.plot(E3D, sls3D, '--', marker='o', markersize=0.01, label='$^3D$ Born', color=tripletcolor)\n",
      "pyplot.xlabel(r\"${\\rm{E}}_{\\kappa}$ (eV)\")\n",
      "pyplot.ylabel(r\"$\\delta_2$ (radians)\")\n",
      "pyplot.xlim([0,5.15])\n",
      "pyplot.legend()\n",
      "FixPlot(plt)\n",
      "pyplot.savefig(\"dwave-phase-born.pdf\", bbox_inches='tight')\n",
      "pyplot.show()"
     ],
     "language": "python",
     "metadata": {},
     "outputs": [
      {
       "metadata": {},
       "output_type": "display_data",
       "png": "[encoded data removed]",
       "text": [
        "<matplotlib.figure.Figure at 0x1467c8d0>"
       ]
      }
     ],
     "prompt_number": 43
    },
    {
     "cell_type": "code",
     "collapsed": false,
     "input": [
      "pyplot.axhline(y=0, color='black', ls='dotted', lw=1)\n",
      "df.plot(x='E', y='Phase1F', marker='.', markersize=0.01, label='$^1F$ Complex Kohn', color=singletcolor)\n",
      "pyplot.plot(E1F, sls1F, '--', marker='o', markersize=0.01, label='$^1F$ Born', color=singletcolor)\n",
      "df.plot(x='E', y='Phase3F', marker='.', markersize=0.01, label='$^3F$ Complex Kohn', color=tripletcolor)\n",
      "pyplot.plot(E3F, sls3F, '--', marker='o', markersize=0.01, label='$^3F$ Born', color=tripletcolor)\n",
      "pyplot.xlabel(r\"${\\rm{E}}_{\\kappa}$ (eV)\")\n",
      "pyplot.ylabel(r\"$\\delta_3$ (radians)\")\n",
      "pyplot.xlim([0,5.15])\n",
      "pyplot.legend()\n",
      "FixPlot(plt)\n",
      "pyplot.savefig(\"fwave-phases.pdf\", bbox_inches='tight')\n",
      "pyplot.show()"
     ],
     "language": "python",
     "metadata": {},
     "outputs": [
      {
       "metadata": {},
       "output_type": "display_data",
       "png": "[encoded data removed]",
       "text": [
        "<matplotlib.figure.Figure at 0x187f9208>"
       ]
      }
     ],
     "prompt_number": 44
    },
    {
     "cell_type": "code",
     "collapsed": false,
     "input": [
      "pyplot.axhline(y=0, color='black', ls='dotted', lw=1)\n",
      "pyplot.plot(E1FFull, phase1FFull, marker='.', markersize=0.01, label='$^1$F Complex Kohn', color=singletcolor)\n",
      "pyplot.xlabel(r\"${\\rm{E}}_{\\kappa}$ (eV)\")\n",
      "pyplot.ylabel(r\"$\\delta_3^+$ (radians)\")\n",
      "pyplot.xlim([0,6])\n",
      "pyplot.ylim([-0.7,0.65])\n",
      "pyplot.axvline(x=5.101835, color='black', lw=1.3)\n",
      "pyplot.axvline(x=5.1661, color='black', ls='dashed', lw=1)\n",
      "plt.annotate('Ps(n=2)', xy=(5.16, -0.2), xytext=(4.0, -0.2),\n",
      "            arrowprops=dict(facecolor='black', shrink=0.1),\n",
      "            )\n",
      "#pyplot.legend()\n",
      "FixPlot(plt)\n",
      "pyplot.savefig(\"fwave-phases-full.pdf\", bbox_inches='tight')\n",
      "pyplot.show()"
     ],
     "language": "python",
     "metadata": {},
     "outputs": [
      {
       "ename": "NameError",
       "evalue": "name 'E1FFull' is not defined",
       "output_type": "pyerr",
       "traceback": [
        "\u001b[1;31m---------------------------------------------------------------------------\u001b[0m\n\u001b[1;31mNameError\u001b[0m                                 Traceback (most recent call last)",
        "\u001b[1;32m<ipython-input-45-4b4b04604984>\u001b[0m in \u001b[0;36m<module>\u001b[1;34m()\u001b[0m\n\u001b[0;32m      1\u001b[0m \u001b[0mpyplot\u001b[0m\u001b[1;33m.\u001b[0m\u001b[0maxhline\u001b[0m\u001b[1;33m(\u001b[0m\u001b[0my\u001b[0m\u001b[1;33m=\u001b[0m\u001b[1;36m0\u001b[0m\u001b[1;33m,\u001b[0m \u001b[0mcolor\u001b[0m\u001b[1;33m=\u001b[0m\u001b[1;34m'black'\u001b[0m\u001b[1;33m,\u001b[0m \u001b[0mls\u001b[0m\u001b[1;33m=\u001b[0m\u001b[1;34m'dotted'\u001b[0m\u001b[1;33m,\u001b[0m \u001b[0mlw\u001b[0m\u001b[1;33m=\u001b[0m\u001b[1;36m1\u001b[0m\u001b[1;33m)\u001b[0m\u001b[1;33m\u001b[0m\u001b[0m\n\u001b[1;32m----> 2\u001b[1;33m \u001b[0mpyplot\u001b[0m\u001b[1;33m.\u001b[0m\u001b[0mplot\u001b[0m\u001b[1;33m(\u001b[0m\u001b[0mE1FFull\u001b[0m\u001b[1;33m,\u001b[0m \u001b[0mphase1FFull\u001b[0m\u001b[1;33m,\u001b[0m \u001b[0mmarker\u001b[0m\u001b[1;33m=\u001b[0m\u001b[1;34m'.'\u001b[0m\u001b[1;33m,\u001b[0m \u001b[0mmarkersize\u001b[0m\u001b[1;33m=\u001b[0m\u001b[1;36m0.01\u001b[0m\u001b[1;33m,\u001b[0m \u001b[0mlabel\u001b[0m\u001b[1;33m=\u001b[0m\u001b[1;34m'$^1$F Complex Kohn'\u001b[0m\u001b[1;33m,\u001b[0m \u001b[0mcolor\u001b[0m\u001b[1;33m=\u001b[0m\u001b[0msingletcolor\u001b[0m\u001b[1;33m)\u001b[0m\u001b[1;33m\u001b[0m\u001b[0m\n\u001b[0m\u001b[0;32m      3\u001b[0m \u001b[0mpyplot\u001b[0m\u001b[1;33m.\u001b[0m\u001b[0mxlabel\u001b[0m\u001b[1;33m(\u001b[0m\u001b[1;34mr\"${\\rm{E}}_{\\kappa}$ (eV)\"\u001b[0m\u001b[1;33m)\u001b[0m\u001b[1;33m\u001b[0m\u001b[0m\n\u001b[0;32m      4\u001b[0m \u001b[0mpyplot\u001b[0m\u001b[1;33m.\u001b[0m\u001b[0mylabel\u001b[0m\u001b[1;33m(\u001b[0m\u001b[1;34mr\"$\\delta_3^+$ (radians)\"\u001b[0m\u001b[1;33m)\u001b[0m\u001b[1;33m\u001b[0m\u001b[0m\n\u001b[0;32m      5\u001b[0m \u001b[0mpyplot\u001b[0m\u001b[1;33m.\u001b[0m\u001b[0mxlim\u001b[0m\u001b[1;33m(\u001b[0m\u001b[1;33m[\u001b[0m\u001b[1;36m0\u001b[0m\u001b[1;33m,\u001b[0m\u001b[1;36m6\u001b[0m\u001b[1;33m]\u001b[0m\u001b[1;33m)\u001b[0m\u001b[1;33m\u001b[0m\u001b[0m\n",
        "\u001b[1;31mNameError\u001b[0m: name 'E1FFull' is not defined"
       ]
      },
      {
       "metadata": {},
       "output_type": "display_data",
       "png": "[encoded data removed]",
       "text": [
        "<matplotlib.figure.Figure at 0x19b929e8>"
       ]
      }
     ],
     "prompt_number": 45
    },
    {
     "cell_type": "code",
     "collapsed": false,
     "input": [
      "pyplot.axhline(y=0, color='black', ls='dotted', lw=1)\n",
      "df.plot(x='E', y='Phase1G', marker='.', markersize=0.01, label='$^1$G Complex Kohn', color=singletcolor)\n",
      "pyplot.plot(E1G, sls1G, '--', marker='o', markersize=0.01, label='$^1$G Born', color=singletcolor)\n",
      "df.plot(x='E', y='Phase3G', marker='.', markersize=0.01, label='$^3$G Complex Kohn', color=tripletcolor)\n",
      "pyplot.plot(E3G, sls3G, '--', marker='o', markersize=0.01, label='$^3$G Born', color=tripletcolor)\n",
      "pyplot.xlabel(r\"${\\rm{E}}_{\\kappa}$ (eV)\")\n",
      "pyplot.ylabel(r\"$\\delta_4$ (radians)\")\n",
      "pyplot.xlim([0,5.15])\n",
      "pyplot.legend()\n",
      "FixPlot(plt)\n",
      "pyplot.savefig(\"gwave-phases.pdf\", bbox_inches='tight')\n",
      "pyplot.show()"
     ],
     "language": "python",
     "metadata": {},
     "outputs": []
    },
    {
     "cell_type": "code",
     "collapsed": false,
     "input": [
      "pyplot.axhline(y=0, color='black', ls='dotted', lw=1)\n",
      "df.plot(x='E', y='Phase1H', marker='.', markersize=0.01, label='$^1$H Complex Kohn', color=singletcolor)\n",
      "pyplot.plot(E1H, sls1H, '--', marker='o', markersize=0.01, label='$^1$H Born', color=singletcolor)\n",
      "df.plot(x='E', y='Phase3H', marker='.', markersize=0.01, label='$^3$H Complex Kohn', color=tripletcolor)\n",
      "pyplot.plot(E3H, sls3H, '--', marker='o', markersize=0.01, label='$^3$H Born', color=tripletcolor)\n",
      "pyplot.xlabel(r\"${\\rm{E}}_{\\kappa}$ (eV)\")\n",
      "pyplot.ylabel(r\"$\\delta_5$ (radians)\")\n",
      "pyplot.xlim([0,5.15])\n",
      "pyplot.legend()\n",
      "FixPlot(plt)\n",
      "pyplot.savefig(\"hwave-phases.pdf\", bbox_inches='tight')\n",
      "pyplot.show()"
     ],
     "language": "python",
     "metadata": {},
     "outputs": []
    },
    {
     "cell_type": "heading",
     "level": 2,
     "metadata": {},
     "source": [
      "Comparisons with Other Groups"
     ]
    },
    {
     "cell_type": "heading",
     "level": 4,
     "metadata": {},
     "source": [
      "S-Wave"
     ]
    },
    {
     "cell_type": "code",
     "collapsed": false,
     "input": [
      "data = np.genfromtxt('Comparison S-Wave Singlet Results.txt', \n",
      "                     comments='#',    # skip comment lines\n",
      "                     dtype = None,    # guess dtype of each column\n",
      "                     names=True)      # use first line as column names\n",
      "\n",
      "[Blackwood1S2002, Walters1S2004, Ray1S1997, Campbell1S1998, Sinha1S1997, Adhikari1S1999, Fraser1S1961, Drachman1S1975, Chiesa1S2002,\n",
      "         Ivanov1S2002, Hara1S1975, Sinha1S2000, Ivanov1S2001, VanReeth1S2003, Zhang1S2012, Biswas1S2001, Biswas1S2003] = [data[7:14], data[14:21], data[21:28], data[28:31], data[31:38],\n",
      "                                       data[38:45], data[45:52], data[52:55], data[55:60], data[60:67], data[67:74], data[74:78], data[78:84], data[84:91], data[91:93], data[93:100], data[100:106]]"
     ],
     "language": "python",
     "metadata": {},
     "outputs": []
    },
    {
     "cell_type": "code",
     "collapsed": false,
     "input": [
      "data = np.genfromtxt('Comparison S-Wave Triplet Results.txt', \n",
      "                     comments='#',    # skip comment lines\n",
      "                     dtype = None,    # guess dtype of each column\n",
      "                     names=True)      # use first line as column names\n",
      "\n",
      "#[Blackwood3S2002, Ray3S, Campbell3S, Sinha3S1997, Adhikari3S, Drachman3S, Chiesa3S, Ivanov3S, Hara3S, Sinha3S2000] = [data[]]\n",
      "[Blackwood3S2002, Ray3S1997, Campbell3S1998, Sinha3S1997, Adhikari3S1999, Drachman3S1976, Chiesa3S2002,\n",
      "  Ivanov3S2002, Hara3S1975, Sinha3S2000, Ivanov3S2001, VanReeth3S2003, Zhang3S2012, Biswas3S2001] = [data[7:14], data[14:21], data[21:26], data[26:33], data[33:40], data[40:45], data[45:50], data[50:57], data[57:64], data[64:69], data[69:75], data[75:82], data[82:84], data[84:91]]"
     ],
     "language": "python",
     "metadata": {},
     "outputs": []
    },
    {
     "cell_type": "code",
     "collapsed": false,
     "input": [
      "fig = pyplot.figure(figsize=(10, 6.7*2))\n",
      "\n",
      "###########\n",
      "# Singlet #\n",
      "###########\n",
      "pyplot.subplot(2, 1, 1)\n",
      "\n",
      "pyplot.plot(df['Kappa'], df['Phase1S'], marker='.', markersize=0.01, color=singletcolor)\n",
      "#pyplot.plot(Zhang1S2012['kappa'], Zhang1S2012['phase'], 'bx')\n",
      "pyplot.plot(Ray1S1997['kappa'], Ray1S1997['phase'], 'g*', markersize=10, markerfacecolor='g', markeredgecolor='none')\n",
      "pyplot.plot(Walters1S2004['kappa'], Walters1S2004['phase'], 'bx', mew=1.3)\n",
      "pyplot.plot(VanReeth1S2003['kappa'], VanReeth1S2003['phase'], 'k.')\n",
      "pyplot.plot(Walters1S2004['kappa'], Walters1S2004['phase'], 'bx')\n",
      "pyplot.plot(Blackwood1S2002['kappa'], Blackwood1S2002['phase'], 'r+', mew=1.3)\n",
      "pyplot.plot(Chiesa1S2002['kappa'], Chiesa1S2002['phase'], 'k^')\n",
      "pyplot.plot(Ivanov1S2002['kappa'], Ivanov1S2002['phase'], 'kv', markerfacecolor='none', markeredgecolor='k')\n",
      "pyplot.plot(Ivanov1S2001['kappa'], Ivanov1S2001['phase'], 'ko', markerfacecolor='none')\n",
      "pyplot.plot(Sinha1S2000['kappa'], Sinha1S2000['phase'], '^', markerfacecolor='none', markeredgecolor='r')\n",
      "pyplot.plot(Adhikari1S1999['kappa'], Adhikari1S1999['phase'], 'ks')\n",
      "pyplot.plot(Campbell1S1998['kappa'], Campbell1S1998['phase'], 's', markerfacecolor='none', markeredgecolor='k')\n",
      "pyplot.plot(Sinha1S1997['kappa'], Sinha1S1997['phase'], '^', markerfacecolor='none', markeredgecolor='k')\n",
      "pyplot.plot(Drachman1S1975['kappa'], Drachman1S1975['phase'], 'rd')\n",
      "pyplot.plot(Hara1S1975['kappa'], Hara1S1975['phase'], 'd', markerfacecolor='none', markeredgecolor='b')\n",
      "pyplot.plot(Fraser1S1961['kappa'], Fraser1S1961['phase'], 'kv')\n",
      "pyplot.plot(Biswas1S2001['kappa'], Biswas1S2001['phase'], 'v', markerfacecolor='none', markeredgecolor='g')\n",
      "pyplot.plot(Biswas1S2003['kappa'], Biswas1S2003['phase'], '^', markerfacecolor='g', markeredgecolor='g')\n",
      "#pyplot.xlabel(r\"$\\kappa$ (au)\")\n",
      "pyplot.ylabel(r\"$\\delta_0^+$ (radians)\")\n",
      "\n",
      "ax = plt.gca()\n",
      "ax.set_xticklabels([])\n",
      "ax.text(0.33, -0.28, '(a)', fontsize=22)\n",
      "\n",
      "pyplot.xlim([0, 0.72])\n",
      "pyplot.ylim([-2.65, 0])\n",
      "FixPlot(plt)\n",
      "\n",
      "###########\n",
      "# Triplet #\n",
      "###########\n",
      "pyplot.subplot(2, 1, 2)\n",
      "\n",
      "df.plot(x='Kappa', y='Phase3S', marker='.', markersize=0.01, label=r'$^3S$ Complex Kohn', color=tripletcolor)\n",
      "pyplot.plot(Ray3S1997['kappa'], Ray3S1997['phase'], 'g*', markersize=10, markerfacecolor='g', markeredgecolor='none', label='Ray 1997')\n",
      "pyplot.plot(VanReeth3S2003['kappa'], VanReeth3S2003['phase'], 'k.')\n",
      "pyplot.plot(Blackwood3S2002['kappa'], Blackwood3S2002['phase'], 'r+', label='Blackwood 2002', mew=1.3)\n",
      "pyplot.plot(Chiesa3S2002['kappa'], Chiesa3S2002['phase'], 'k^', label='Chiesa 2002')\n",
      "pyplot.plot(Ivanov3S2002['kappa'], Ivanov3S2002['phase'], 'kv', markerfacecolor='none', markeredgecolor='k', label='Ivanov 2002')\n",
      "pyplot.plot(Ivanov3S2001['kappa'], Ivanov3S2001['phase'], 'ko', markerfacecolor='none')\n",
      "pyplot.plot(Sinha3S2000['kappa'], Sinha3S2000['phase'], '^', markerfacecolor='none', markeredgecolor='r', label='Sinha 2000')\n",
      "pyplot.plot(Adhikari3S1999['kappa'], Adhikari3S1999['phase'], 'ks', label='Adhikari 1999')\n",
      "pyplot.plot(Campbell3S1998['kappa'], Campbell3S1998['phase'], 's', markerfacecolor='none', markeredgecolor='k', label='Campbell 1998')\n",
      "pyplot.plot(Sinha3S1997['kappa'], Sinha3S1997['phase'], '^', markerfacecolor='none', markeredgecolor='k', label='Sinha 1997')\n",
      "#pyplot.plot(Drachman3S1976['kappa'], Drachman3S1976['phase'], 'rd', label='Drachman 1975')\n",
      "pyplot.plot(Drachman3S1976['kappa'], Drachman3S1976['phase'], 'w>', label='Drachman 1975')\n",
      "pyplot.plot(Hara3S1975['kappa'], Hara3S1975['phase'], 'd', markerfacecolor='none', markeredgecolor='b', label='Hara 1975')\n",
      "pyplot.plot(Biswas3S2001['kappa'], Biswas3S2001['phase'], 'v', markerfacecolor='none', markeredgecolor='g')\n",
      "pyplot.xlabel(r\"$\\kappa$ (au)\")\n",
      "pyplot.ylabel(r\"$\\delta_0^-$ (radians)\")\n",
      "\n",
      "ax = plt.gca()\n",
      "#ax.set_xticklabels([])\n",
      "ax.text(0.33, -0.16, '(b)', fontsize=22)\n",
      "\n",
      "pyplot.xlim([0, 0.72])\n",
      "FixPlot(plt)\n",
      "\n",
      "plt.tight_layout()\n",
      "pyplot.savefig('swave-comparisons.pdf', bbox_inches='tight')\n",
      "pyplot.show()"
     ],
     "language": "python",
     "metadata": {},
     "outputs": []
    },
    {
     "cell_type": "heading",
     "level": 4,
     "metadata": {},
     "source": [
      "P-Wave"
     ]
    },
    {
     "cell_type": "code",
     "collapsed": false,
     "input": [
      "data = np.genfromtxt('Comparison P-Wave Singlet Results.txt', \n",
      "                     comments='#',    # skip comment lines\n",
      "                     dtype = None,    # guess dtype of each column\n",
      "                     names=True)      # use first line as column names\n",
      "\n",
      "[Blackwood1P2002, Walters1P2004, Ray1P1997, Sinha1P1997, Adhikari1P1999,\n",
      "         Ivanov1P2002, Hara1P1975, Sinha1P2000] = [data[0:8], data[8:15], data[15:23], data[23:31],\n",
      "                                       data[31:39], data[39:45], data[45:52], data[52:59]]"
     ],
     "language": "python",
     "metadata": {},
     "outputs": []
    },
    {
     "cell_type": "code",
     "collapsed": false,
     "input": [
      "data = np.genfromtxt('Comparison P-Wave Triplet Results.txt', \n",
      "                     comments='#',    # skip comment lines\n",
      "                     dtype = None,    # guess dtype of each column\n",
      "                     names=True)      # use first line as column names\n",
      "\n",
      "\n",
      "[Blackwood3P2002, Ray3P1997, Sinha3P1997, Adhikari3P1999,\n",
      "         Ivanov3P2002, Hara3P1975, Sinha3P2000] = [data[0:8], data[8:16], data[16:24], data[24:32],\n",
      "                                       data[32:38], data[38:45], data[45:52]]"
     ],
     "language": "python",
     "metadata": {},
     "outputs": []
    },
    {
     "cell_type": "code",
     "collapsed": false,
     "input": [
      "fig = pyplot.figure(figsize=(10, 6.7*2))\n",
      "\n",
      "###########\n",
      "# Singlet #\n",
      "###########\n",
      "pyplot.subplot(2, 1, 1)\n",
      "\n",
      "pyplot.plot(df['Kappa'], df['Phase1P'], marker='.', markersize=0.01, color=singletcolor)\n",
      "pyplot.plot(Walters1P2004['kappa'], Walters1P2004['phase'], 'bx', mew=1.3)\n",
      "pyplot.plot(Blackwood1P2002['kappa'], Blackwood1P2002['phase'], 'r+', mew=1.3)\n",
      "pyplot.plot(Ivanov1P2002['kappa'], Ivanov1P2002['phase'], 'kv', markerfacecolor='none', markeredgecolor='k')\n",
      "pyplot.plot(Sinha1P2000['kappa'], Sinha1P2000['phase'], '^', markerfacecolor='none', markeredgecolor='r',)\n",
      "pyplot.plot(Adhikari1P1999['kappa'], Adhikari1P1999['phase'], 'ks')\n",
      "pyplot.plot(Sinha1P1997['kappa'], Sinha1P1997['phase'], '^', markerfacecolor='none', markeredgecolor='k')\n",
      "pyplot.plot(Ray1P1997['kappa'], Ray1P1997['phase'], 'g*', markersize=10, markerfacecolor='g', markeredgecolor='none')\n",
      "pyplot.plot(Hara1P1975['kappa'], Hara1P1975['phase'], 'd', markerfacecolor='none', markeredgecolor='b')\n",
      "#pyplot.xlabel(r\"$\\kappa$ (au)\")\n",
      "pyplot.ylabel(r\"$\\delta_1^+$ (radians)\")\n",
      "\n",
      "ax = plt.gca()\n",
      "ax.set_xticklabels([])\n",
      "ax.text(0.33, 1.1, '(a)', fontsize=22)\n",
      "\n",
      "pyplot.xlim([0, 0.72])\n",
      "pyplot.ylim([-0.03, 1.2])\n",
      "FixPlot(plt)\n",
      "\n",
      "###########\n",
      "# Triplet #\n",
      "###########\n",
      "pyplot.subplot(2, 1, 2)\n",
      "\n",
      "df.plot(x='Kappa', y='Phase3P', marker='.', markersize=0.01, label=r'$^3P$ Complex Kohn', color=tripletcolor)\n",
      "pyplot.plot(Adhikari3P1999['kappa'], Adhikari3P1999['phase'], 'ks', label='Adhikari 1999')\n",
      "pyplot.plot(Blackwood3P2002['kappa'], Blackwood3P2002['phase'], 'r+', label='Blackwood 2002', mew=1.3)\n",
      "pyplot.plot(Ivanov3P2002['kappa'], Ivanov3P2002['phase'], 'kv', markerfacecolor='none', markeredgecolor='k', label='Ivanov 2002')\n",
      "pyplot.plot(Sinha3P2000['kappa'], Sinha3P2000['phase'], '^', markerfacecolor='none', markeredgecolor='r',)\n",
      "pyplot.plot(Ray3P1997['kappa'], Ray3P1997['phase'], 'g*', markersize=10, markerfacecolor='g', markeredgecolor='none', label='Ray 1997')\n",
      "pyplot.plot(Hara3P1975['kappa'], Hara3P1975['phase'], 'd', markerfacecolor='none', markeredgecolor='b', label='Hara 1975')\n",
      "pyplot.plot(Sinha3P1997['kappa'], Sinha3P1997['phase'], '^', markerfacecolor='none', markeredgecolor='k', label='Sinha 1997')\n",
      "pyplot.xlabel(r\"$\\kappa$ (au)\")\n",
      "pyplot.ylabel(r\"$\\delta_1^-$ (radians)\")\n",
      "\n",
      "ax = plt.gca()\n",
      "#ax.set_xticklabels([])\n",
      "ax.text(0.33, -0.47, '(b)', fontsize=22)\n",
      "\n",
      "pyplot.xlim([0, 0.72])\n",
      "pyplot.ylim([-0.5, 0.01])\n",
      "FixPlot(plt)\n",
      "\n",
      "plt.tight_layout()\n",
      "pyplot.savefig('pwave-comparisons.pdf', bbox_inches='tight')\n",
      "pyplot.show()"
     ],
     "language": "python",
     "metadata": {},
     "outputs": []
    },
    {
     "cell_type": "heading",
     "level": 4,
     "metadata": {},
     "source": [
      "D-Wave"
     ]
    },
    {
     "cell_type": "code",
     "collapsed": false,
     "input": [
      "data = np.genfromtxt('Comparison D-Wave Singlet Results.txt', \n",
      "                     comments='#',    # skip comment lines\n",
      "                     dtype = None,    # guess dtype of each column\n",
      "                     names=True)      # use first line as column names\n",
      "\n",
      "[Blackwood1D2002, Walters1D2004, Ray1D1997, Sinha1D1997, Adhikari1D1999,\n",
      "         Hara1D1975, Sinha1D2000] = [data[0:8], data[8:15], data[15:22], data[22:29],\n",
      "                                       data[29:36], data[36:43], data[43:50]]"
     ],
     "language": "python",
     "metadata": {},
     "outputs": []
    },
    {
     "cell_type": "code",
     "collapsed": false,
     "input": [
      "data = np.genfromtxt('Comparison D-Wave Triplet Results.txt', \n",
      "                     comments='#',    # skip comment lines\n",
      "                     dtype = None,    # guess dtype of each column\n",
      "                     names=True)      # use first line as column names\n",
      "\n",
      "[Blackwood3D2002, Ray3D1997, Sinha3D1997, Adhikari3D1999,\n",
      "         Hara3D1975, Sinha3D2000] = [data[0:8], data[8:15], data[15:22], data[22:29],\n",
      "                                       data[29:36], data[36:43]]"
     ],
     "language": "python",
     "metadata": {},
     "outputs": []
    },
    {
     "cell_type": "code",
     "collapsed": false,
     "input": [
      "fig = pyplot.figure(figsize=(10, 6.7*2))\n",
      "\n",
      "###########\n",
      "# Singlet #\n",
      "###########\n",
      "pyplot.subplot(2, 1, 1)\n",
      "\n",
      "pyplot.plot(df['Kappa'], df['Phase1D'], marker='.', markersize=0.01, color=singletcolor)\n",
      "pyplot.plot(Adhikari1D1999['kappa'], Adhikari1D1999['phase'], 'ks')\n",
      "pyplot.plot(Ray1D1997['kappa'], Ray1D1997['phase'], 'g*', markersize=10, markerfacecolor='g', markeredgecolor='none')\n",
      "pyplot.plot(Walters1D2004['kappa'], Walters1D2004['phase'], 'bx', mew=1.3)\n",
      "pyplot.plot(Blackwood1D2002['kappa'], Blackwood1D2002['phase'], 'r+', mew=1.3)\n",
      "pyplot.plot(Sinha1D2000['kappa'], Sinha1D2000['phase'], '^', markerfacecolor='none', markeredgecolor='r',)\n",
      "pyplot.plot(Sinha1D1997['kappa'], Sinha1D1997['phase'], '^', markerfacecolor='none', markeredgecolor='k')\n",
      "pyplot.plot(Hara1D1975['kappa'], Hara1D1975['phase'], 'd', markerfacecolor='none', markeredgecolor='b')\n",
      "#pyplot.xlabel(r\"$\\kappa$ (au)\")\n",
      "pyplot.ylabel(r\"$\\delta_2^+$ (radians)\")\n",
      "\n",
      "ax = plt.gca()\n",
      "ax.set_xticklabels([])\n",
      "ax.text(0.33, 0.32, '(a)', fontsize=22)\n",
      "\n",
      "pyplot.xlim([0, 0.72])\n",
      "pyplot.ylim([-0.02, 0.36])\n",
      "FixPlot(plt)\n",
      "\n",
      "###########\n",
      "# Triplet #\n",
      "###########\n",
      "pyplot.subplot(2, 1, 2)\n",
      "\n",
      "df.plot(x='Kappa', y='Phase3D', marker='.', markersize=0.01, label=r'$^3D$ Complex Kohn', color=tripletcolor)\n",
      "pyplot.plot(Adhikari3D1999['kappa'], Adhikari3D1999['phase'], 'ks', label='Adhikari 1999')\n",
      "pyplot.plot(Ray3D1997['kappa'], Ray3D1997['phase'], 'g*', markersize=10, markerfacecolor='g', markeredgecolor='none', label='Ray 1997')\n",
      "pyplot.plot(Blackwood3D2002['kappa'], Blackwood3D2002['phase'], 'r+', mew=1.3, label='Blackwood 2002')\n",
      "pyplot.plot(Sinha3D2000['kappa'], Sinha3D2000['phase'], '^', markerfacecolor='none', markeredgecolor='r',)\n",
      "pyplot.plot(Hara3D1975['kappa'], Hara3D1975['phase'], 'd', markerfacecolor='none', markeredgecolor='b', label='Hara 1975')\n",
      "pyplot.plot(Sinha3D1997['kappa'], Sinha3D1997['phase'], '^', markerfacecolor='none', markeredgecolor='k', label='Sinha 1997')\n",
      "pyplot.xlabel(r\"$\\kappa$ (au)\")\n",
      "pyplot.ylabel(r\"$\\delta_2^-$ (radians)\")\n",
      "\n",
      "ax = plt.gca()\n",
      "#ax.set_xticklabels([])\n",
      "ax.text(0.33, -0.1, '(b)', fontsize=22)\n",
      "\n",
      "pyplot.xlim([0, 0.72])\n",
      "pyplot.ylim([-0.11, 0.01])\n",
      "FixPlot(plt)\n",
      "\n",
      "plt.tight_layout()\n",
      "pyplot.savefig('dwave-comparisons.pdf', bbox_inches='tight')\n",
      "pyplot.show()"
     ],
     "language": "python",
     "metadata": {},
     "outputs": []
    },
    {
     "cell_type": "heading",
     "level": 2,
     "metadata": {},
     "source": [
      "Creating Interpolated Functions and Plotting"
     ]
    },
    {
     "cell_type": "markdown",
     "metadata": {},
     "source": [
      "The partial waves all have phase shifts and cross sections calculated for different $\\kappa$. For us to calculate the total cross sections, we can choose a set of points that all three share in common, but this would drastically reduce the points, especially near the resonances. So we use Python's interp1d linear interpolation function to create a function for the 4 curves, then create lists with these functions stored in the interp_plotc lists. The total cross section plot is then found by summing these 4 lists."
     ]
    },
    {
     "cell_type": "code",
     "collapsed": false,
     "input": [
      "df['Cross1'] = 0.25*(df['Cross1S'] + df['Cross1P'] + df['Cross1D'] + df['Cross1F'] + df['Cross1G'] + df['Cross1H'])\n",
      "df['Cross3'] = 0.75*(df['Cross3S'] + df['Cross3P'] + df['Cross3D'] + df['Cross3F'] + df['Cross3G'] + df['Cross3H'])\n",
      "df['Cross'] = df['Cross1'] + df['Cross3']"
     ],
     "language": "python",
     "metadata": {},
     "outputs": []
    },
    {
     "cell_type": "markdown",
     "metadata": {},
     "source": [
      "For the total cross section, including both the singlet and the triplet states, the singlet contributes $\\frac{1}{4}$, and the triplet contributes $\\frac{3}{4}$. **Note:** Where did I find this information? Maybe look at notes from when Dr. Robicheaux met with us."
     ]
    },
    {
     "cell_type": "heading",
     "level": 3,
     "metadata": {},
     "source": [
      "Read in Walters, Hara and Blackwood Cross Sections"
     ]
    },
    {
     "cell_type": "code",
     "collapsed": false,
     "input": [
      "# These are all obtained using CurveSnap\n",
      "datanp = numpy.loadtxt('Walters Cross Section.csv', dtype=float, delimiter=',')\n",
      "datanpt = np.transpose(datanp)\n",
      "dataws = numpy.loadtxt('Walters S-Wave Singlet Cross.csv', dtype=float, delimiter=',')\n",
      "datawst = np.transpose(dataws)\n",
      "datawp = numpy.loadtxt('Walters P-Wave Singlet Cross.csv', dtype=float, delimiter=',')\n",
      "datawpt = np.transpose(datawp)\n",
      "datawd = numpy.loadtxt('Walters D-Wave Singlet Cross.csv', dtype=float, delimiter=',')\n",
      "datawdt = np.transpose(datawd)\n",
      "Walters3SCross = numpy.loadtxt('Walters S-Wave Triplet Cross.csv', dtype=float, delimiter=',')\n",
      "Walters3SCross = np.transpose(Walters3SCross)\n",
      "Walters3PCross = numpy.loadtxt('Walters P-Wave Triplet Cross.csv', dtype=float, delimiter=',')\n",
      "Walters3PCross = np.transpose(Walters3PCross)\n",
      "Walters3DCross = numpy.loadtxt('Blackwood D-Wave Triplet Cross.csv', dtype=float, delimiter=',')\n",
      "Walters3DCross = np.transpose(Walters3DCross)\n",
      "\n",
      "BlackwoodH1SCross = numpy.loadtxt('Blackwood H- S-wave Cross.csv', dtype=float, delimiter=',')\n",
      "BlackwoodH1SCross = np.transpose(BlackwoodH1SCross)\n",
      "BlackwoodH1PCross = numpy.loadtxt('Blackwood H- P-wave Cross.csv', dtype=float, delimiter=',')\n",
      "BlackwoodH1PCross = np.transpose(BlackwoodH1PCross)\n",
      "BlackwoodH1DCross = numpy.loadtxt('Blackwood H- D-wave Cross.csv', dtype=float, delimiter=',')\n",
      "BlackwoodH1DCross = np.transpose(BlackwoodH1DCross)\n",
      "\n",
      "datanphc = numpy.loadtxt('Hara - Conversion CS.csv', dtype=float, delimiter=',')\n",
      "datanpthc = np.transpose(datanphc)\n",
      "\n",
      "datanpbc = numpy.loadtxt('Blackwood Ortho-Para.csv', dtype=float, delimiter=',')\n",
      "datanptbc = np.transpose(datanpbc)\n",
      "\n",
      "datanph = numpy.loadtxt('Hara - Total CS.csv', dtype=float, delimiter=',')\n",
      "datanpth = np.transpose(datanph)\n",
      "\n",
      "datanpc = numpy.loadtxt('Campbell Ortho-Para.csv', dtype=float, delimiter=',')\n",
      "datanptc = np.transpose(datanpc)"
     ],
     "language": "python",
     "metadata": {},
     "outputs": []
    },
    {
     "cell_type": "heading",
     "level": 3,
     "metadata": {},
     "source": [
      "Plot Cross Sections"
     ]
    },
    {
     "cell_type": "code",
     "collapsed": false,
     "input": [
      "colors = ('#52423A', \"#8dd3c7\", '#5F91B7')\n",
      "pyplot.plot(df['E'], 4*df['Cross1'], marker='.', markersize=0.01, label='Total', color='black')\n",
      "df.plot(x='E', y='Cross1S', marker='.', markersize=0.01, label=r'$^1$S', color=colors[0])\n",
      "df.plot(x='E', y='Cross1P', marker='.', markersize=0.01, label=r'$^1$P', color=colors[1])\n",
      "df.plot(x='E', y='Cross1D', marker='.', markersize=0.01, label=r'$^1$D', color=colors[2])\n",
      "df.plot(x='E', y='Cross1F', marker='.', markersize=0.01, label=r'$^1$F', color=colors[0], ls='dashed')\n",
      "df.plot(x='E', y='Cross1G', marker='.', markersize=0.01, label=r'$^1$G', color=colors[1], ls='dashed')\n",
      "df.plot(x='E', y='Cross1H', marker='.', markersize=0.01, label=r'$^1$H', color=colors[2], ls='dashed')\n",
      "pyplot.legend(loc='upper right', shadow=True)\n",
      "pyplot.xlabel(r\"${\\rm{E}}_{\\kappa}$ (eV)\")\n",
      "pyplot.ylabel(r\"$\\sigma$ (units of $\\pi a_0^2$)\")\n",
      "pyplot.xlim([0,5.2])\n",
      "pyplot.savefig(\"singlet-cross-sections.pdf\", bbox_inches='tight')\n",
      "pyplot.show()"
     ],
     "language": "python",
     "metadata": {},
     "outputs": []
    },
    {
     "cell_type": "code",
     "collapsed": false,
     "input": [
      "colors = ('#52423A', \"#8dd3c7\", '#5F91B7')\n",
      "pyplot.plot(df['E'], 4/3.0*df['Cross3'], marker='.', markersize=0.01, label='Total', color='black')\n",
      "df.plot(x='E', y='Cross3S', marker='.', markersize=0.01, label=r'$^3$S', color=colors[0])\n",
      "df.plot(x='E', y='Cross3P', marker='.', markersize=0.01, label=r'$^3$P', color=colors[1])\n",
      "df.plot(x='E', y='Cross3D', marker='.', markersize=0.01, label=r'$^3$D', color=colors[2])\n",
      "df.plot(x='E', y='Cross3F', marker='.', markersize=0.01, label=r'$^3$F', color=colors[0], ls='dashed')\n",
      "df.plot(x='E', y='Cross3G', marker='.', markersize=0.01, label=r'$^3$G', color=colors[1], ls='dashed')\n",
      "df.plot(x='E', y='Cross3H', marker='.', markersize=0.01, label=r'$^3$H', color=colors[2], ls='dashed')\n",
      "pyplot.legend(loc='upper right', shadow=True)\n",
      "pyplot.xlabel(r\"${\\rm{E}}_{\\kappa}$ (eV)\")\n",
      "pyplot.ylabel(r\"$\\sigma$ (units of $\\pi a_0^2$)\")\n",
      "pyplot.xlim([0,5.2])\n",
      "pyplot.savefig(\"triplet-cross-sections.pdf\", bbox_inches='tight')\n",
      "pyplot.show()"
     ],
     "language": "python",
     "metadata": {},
     "outputs": []
    },
    {
     "cell_type": "code",
     "collapsed": false,
     "input": [
      "df.plot(x='E', y='Cross1', marker='.', markersize=0.01, label='Singlet Complex Kohn', color=singletcolor)\n",
      "df.plot(x='E', y='Cross3', marker='.', markersize=0.01, label='Triplet Complex Kohn', color=tripletcolor)\n",
      "df.plot(x='E', y='Cross', marker='.', markersize=0.01, label='Spin-Weighted Complex Kohn', color=combinedcolor)\n",
      "line, = pyplot.plot(datanpt[0], datanpt[1], label='Close Coupling', color='#99CC66')\n",
      "line.set_dashes([7, 1, 3, 1])  # 7 points on, 1 point off, 3 points on, 1 point off\n",
      "line, = pyplot.plot(ktoE(datanpth[0]), datanpth[1]/pi, label='Static Exchange', color=combinedcolor, ls = 'dashed')\n",
      "pyplot.xlabel(r\"${\\rm{E}}_{\\kappa}$ (eV)\")\n",
      "pyplot.ylabel(r\"$\\sigma$ (units of $\\pi a_0^2$)\")\n",
      "pyplot.legend(loc='upper right', shadow=True)\n",
      "pyplot.xlim([0,5.2])\n",
      "pyplot.ylim([0,35])\n",
      "pyplot.savefig(\"combined-cross-sections.pdf\", bbox_inches='tight')\n",
      "pyplot.show()"
     ],
     "language": "python",
     "metadata": {},
     "outputs": []
    },
    {
     "cell_type": "code",
     "collapsed": false,
     "input": [
      "colors = ('#52423A', \"#8dd3c7\", '#5F91B7')\n",
      "df.plot(x='E', y='Cross1S', marker='.', markersize=0.01, label=r'$^1$S Complex Kohn', color=colors[0])\n",
      "pyplot.plot(datawst[0], datawst[1], label=r'$^1$S CC 9Ps9H + H$^-$', color=colors[1])\n",
      "pyplot.plot(BlackwoodH1SCross[0], BlackwoodH1SCross[1], label=r'$^1$S CC 22Ps1H + H$^-$', color=colors[2], ls='dashed')\n",
      "pyplot.legend(loc='best', shadow=True)\n",
      "pyplot.xlabel(r\"${\\rm{E}}_{\\kappa}$ (eV)\")\n",
      "pyplot.ylabel(r\"$\\sigma$ (units of $\\pi a_0^2$)\")\n",
      "pyplot.xlim([0,5.2])\n",
      "pyplot.savefig(\"swave-singlet-cross-sections.pdf\", bbox_inches='tight')\n",
      "pyplot.show()"
     ],
     "language": "python",
     "metadata": {},
     "outputs": []
    },
    {
     "cell_type": "code",
     "collapsed": false,
     "input": [
      "colors = ('#52423A', \"#8dd3c7\", '#5F91B7')\n",
      "df.plot(x='E', y='Cross1P', marker='.', markersize=0.01, label=r'$^1$P Complex Kohn', color=colors[0])\n",
      "pyplot.plot(datawpt[0], datawpt[1], label=r'$^1$P CC 9Ps9H + H$^-$', color=colors[1])\n",
      "pyplot.plot(BlackwoodH1PCross[0], BlackwoodH1PCross[1], label=r'$^1$P CC 22Ps1H + H$^-$', color=colors[2], ls='dashed')\n",
      "pyplot.legend(loc='best', shadow=True)\n",
      "pyplot.xlabel(r\"${\\rm{E}}_{\\kappa}$ (eV)\")\n",
      "pyplot.ylabel(r\"$\\sigma$ (units of $\\pi a_0^2$)\")\n",
      "pyplot.xlim([0,5.2])\n",
      "pyplot.savefig(\"pwave-singlet-cross-sections.pdf\", bbox_inches='tight')\n",
      "pyplot.show()"
     ],
     "language": "python",
     "metadata": {},
     "outputs": []
    },
    {
     "cell_type": "code",
     "collapsed": false,
     "input": [
      "colors = ('#52423A', \"#8dd3c7\", '#5F91B7')\n",
      "df.plot(x='E', y='Cross1D', marker='.', markersize=0.01, label=r'$^1$D Complex Kohn', color=colors[0])\n",
      "pyplot.plot(datawdt[0], datawdt[1], label=r'$^1$D CC 9Ps9H + H$^-$', color=colors[1])\n",
      "pyplot.plot(BlackwoodH1DCross[0], BlackwoodH1DCross[1], label=r'$^1$D CC 22Ps1H + H$^-$', color=colors[2], ls='dashed')\n",
      "pyplot.legend(loc='best', shadow=True)\n",
      "pyplot.xlabel(r\"${\\rm{E}}_{\\kappa}$ (eV)\")\n",
      "pyplot.ylabel(r\"$\\sigma$ (units of $\\pi a_0^2$)\")\n",
      "pyplot.xlim([0,5.2])\n",
      "pyplot.savefig(\"dwave-singlet-cross-sections.pdf\", bbox_inches='tight')\n",
      "pyplot.show()"
     ],
     "language": "python",
     "metadata": {},
     "outputs": []
    },
    {
     "cell_type": "code",
     "collapsed": false,
     "input": [
      "colors = ('#52423A', \"#8dd3c7\", '#5F91B7')\n",
      "df.plot(x='E', y='Cross3S', marker='.', markersize=0.01, label=r'$^3$S Complex Kohn', color=colors[0])\n",
      "pyplot.plot(Walters3SCross[0], Walters3SCross[1], label=r'$^3$S Close Coupling', color=colors[1])\n",
      "pyplot.legend(loc='best', shadow=True)\n",
      "pyplot.xlabel(r\"${\\rm{E}}_{\\kappa}$ (eV)\")\n",
      "pyplot.ylabel(r\"$\\sigma$ (units of $\\pi a_0^2$)\")\n",
      "pyplot.xlim([0,5.2])\n",
      "pyplot.savefig(\"swave-triplet-cross-sections.pdf\", bbox_inches='tight')\n",
      "pyplot.show()"
     ],
     "language": "python",
     "metadata": {},
     "outputs": []
    },
    {
     "cell_type": "code",
     "collapsed": false,
     "input": [
      "colors = ('#52423A', \"#8dd3c7\", '#5F91B7')\n",
      "df.plot(x='E', y='Cross3P', marker='.', markersize=0.01, label=r'$^3$P Complex Kohn', color=colors[0])\n",
      "pyplot.plot(Walters3PCross[0], Walters3PCross[1], label=r'$^3$P Close Coupling', color=colors[1])\n",
      "pyplot.legend(loc='best', shadow=True)\n",
      "pyplot.xlabel(r\"${\\rm{E}}_{\\kappa}$ (eV)\")\n",
      "pyplot.ylabel(r\"$\\sigma$ (units of $\\pi a_0^2$)\")\n",
      "pyplot.xlim([0,5.2])\n",
      "FixPlot(plt)\n",
      "pyplot.savefig(\"pwave-triplet-cross-sections.pdf\", bbox_inches='tight')\n",
      "pyplot.show()"
     ],
     "language": "python",
     "metadata": {},
     "outputs": []
    },
    {
     "cell_type": "code",
     "collapsed": false,
     "input": [
      "fig = pyplot.figure(figsize=(18, 5.5))\n",
      "colors = ('#52423A', \"#8dd3c7\", '#5F91B7')\n",
      "\n",
      "##########\n",
      "# S-Wave #\n",
      "##########\n",
      "pyplot.subplot(1, 3, 1)\n",
      "\n",
      "df.plot(x='E', y='Cross1S', marker='.', markersize=0.01, label=r'$^1$S Complex Kohn', color=colors[0])\n",
      "pyplot.plot(datawst[0], datawst[1], label=r'$^1$S CC 9Ps9H + H$^-$', color=colors[1])\n",
      "pyplot.plot(BlackwoodH1SCross[0], BlackwoodH1SCross[1], label=r'$^1$S CC 22Ps1H + H$^-$', color=colors[2], ls='dashed')\n",
      "pyplot.legend(loc='best', shadow=True)\n",
      "pyplot.xlabel(r\"${\\rm{E}}_{\\kappa}$ (eV)\")\n",
      "pyplot.ylabel(r\"$\\sigma$ (units of $\\pi a_0^2$)\")\n",
      "pyplot.xlim([0,5.2])\n",
      "ax = plt.gca()\n",
      "ax.text(2.4, 57, '(a)', fontsize=22)\n",
      "FixPlot(plt)\n",
      "\n",
      "##########\n",
      "# P-Wave #\n",
      "##########\n",
      "pyplot.subplot(1, 3, 2)\n",
      "\n",
      "df.plot(x='E', y='Cross1P', marker='.', markersize=0.01, label=r'$^1$P Complex Kohn', color=colors[0])\n",
      "pyplot.plot(datawpt[0], datawpt[1], label=r'$^1$P CC 9Ps9H + H$^-$', color=colors[1])\n",
      "pyplot.plot(BlackwoodH1PCross[0], BlackwoodH1PCross[1], label=r'$^1$P CC 22Ps1H + H$^-$', color=colors[2], ls='dashed')\n",
      "pyplot.legend(loc='best', shadow=True)\n",
      "pyplot.xlabel(r\"${\\rm{E}}_{\\kappa}$ (eV)\")\n",
      "pyplot.xlim([0,5.2])\n",
      "ax = plt.gca()\n",
      "ax.text(2.4, 38, '(b)', fontsize=22)\n",
      "FixPlot(plt)\n",
      "\n",
      "##########\n",
      "# D-Wave #\n",
      "##########\n",
      "pyplot.subplot(1, 3, 3)\n",
      "\n",
      "df.plot(x='E', y='Cross1D', marker='.', markersize=0.01, label=r'$^1$D Complex Kohn', color=colors[0])\n",
      "pyplot.plot(datawdt[0], datawdt[1], label=r'$^1$D CC 9Ps9H + H$^-$', color=colors[1])\n",
      "pyplot.plot(BlackwoodH1DCross[0], BlackwoodH1DCross[1], label=r'$^1$D CC 22Ps1H + H$^-$', color=colors[2], ls='dashed')\n",
      "pyplot.legend(loc='best', shadow=True)\n",
      "pyplot.xlabel(r\"${\\rm{E}}_{\\kappa}$ (eV)\")\n",
      "pyplot.xlim([0,5.2])\n",
      "ax = plt.gca()\n",
      "ax.text(2.4, 17, '(c)', fontsize=22)\n",
      "FixPlot(plt)\n",
      "\n",
      "pyplot.savefig(\"spd-singlet-cross-sections.pdf\", bbox_inches='tight')\n",
      "pyplot.show()"
     ],
     "language": "python",
     "metadata": {},
     "outputs": []
    },
    {
     "cell_type": "code",
     "collapsed": false,
     "input": [
      "fig = pyplot.figure(figsize=(18, 5.5))\n",
      "colors = ('#52423A', \"#8dd3c7\", '#5F91B7')\n",
      "\n",
      "##########\n",
      "# S-Wave #\n",
      "##########\n",
      "pyplot.subplot(1, 3, 1)\n",
      "\n",
      "df.plot(x='E', y='Cross3S', marker='.', markersize=0.01, label=r'$^3$S Complex Kohn', color=colors[0])\n",
      "pyplot.plot(Walters3SCross[0], Walters3SCross[1], label=r'$^3$S Close Coupling', color=colors[1])\n",
      "pyplot.legend(loc='best', shadow=True)\n",
      "pyplot.xlabel(r\"${\\rm{E}}_{\\kappa}$ (eV)\")\n",
      "pyplot.ylabel(r\"$\\sigma$ (units of $\\pi a_0^2$)\")\n",
      "ax = plt.gca()\n",
      "ax.text(2.4, 14, '(a)', fontsize=22)\n",
      "FixPlot(plt)\n",
      "#pyplot.xlim([0,5.2])\n",
      "\n",
      "##########\n",
      "# P-Wave #\n",
      "##########\n",
      "pyplot.subplot(1, 3, 2)\n",
      "\n",
      "df.plot(x='E', y='Cross3P', marker='.', markersize=0.01, label=r'$^3$P Complex Kohn', color=colors[0])\n",
      "pyplot.plot(Walters3PCross[0], Walters3PCross[1], label=r'$^3$P Close Coupling', color=colors[1])\n",
      "pyplot.legend(loc='best', shadow=True)\n",
      "pyplot.xlabel(r\"${\\rm{E}}_{\\kappa}$ (eV)\")\n",
      "#pyplot.ylabel(r\"$\\sigma$ (units of $\\pi a_0^2$)\")\n",
      "pyplot.xlim([0,5.2])\n",
      "ax = plt.gca()\n",
      "ax.text(2.4, 1.5, '(b)', fontsize=22)\n",
      "FixPlot(plt)\n",
      "\n",
      "\n",
      "##########\n",
      "# D-Wave #\n",
      "##########\n",
      "pyplot.subplot(1, 3, 3)\n",
      "\n",
      "df.plot(x='E', y='Cross3D', marker='.', markersize=0.01, label=r'$^3$D Complex Kohn', color=colors[0])\n",
      "pyplot.plot(Walters3DCross[0], Walters3DCross[1], label=r'$^3$D Close Coupling', color=colors[1])\n",
      "pyplot.legend(loc='best', shadow=True)\n",
      "pyplot.xlabel(r\"${\\rm{E}}_{\\kappa}$ (eV)\")\n",
      "#pyplot.ylabel(r\"$\\sigma$ (units of $\\pi a_0^2$)\")\n",
      "pyplot.xlim([0,5.2])\n",
      "ax = plt.gca()\n",
      "ax.text(2.4, 0.08, '(c)', fontsize=22)\n",
      "FixPlot(plt)\n",
      "\n",
      "pyplot.savefig(\"spd-triplet-cross-sections.pdf\", bbox_inches='tight')\n",
      "pyplot.show()"
     ],
     "language": "python",
     "metadata": {},
     "outputs": []
    },
    {
     "cell_type": "code",
     "collapsed": false,
     "input": [
      "fig = pyplot.figure(figsize=(14, 5.5))\n",
      "colors = ('#52423A', \"#8dd3c7\", '#5F91B7')\n",
      "\n",
      "##########\n",
      "# S-Wave #\n",
      "##########\n",
      "pyplot.subplot(1, 2, 1)\n",
      "\n",
      "df.plot(x='E', y='Cross3S', marker='.', markersize=0.01, label=r'$^3$S Complex Kohn', color=colors[0])\n",
      "pyplot.plot(Walters3SCross[0], Walters3SCross[1], label=r'$^3$S Close Coupling', color=colors[1])\n",
      "pyplot.legend(loc='best', shadow=True)\n",
      "pyplot.xlabel(r\"${\\rm{E}}_{\\kappa}$ (eV)\")\n",
      "pyplot.ylabel(r\"$\\sigma$ (units of $\\pi a_0^2$)\")\n",
      "ax = plt.gca()\n",
      "ax.text(2.4, 14, '(a)', fontsize=22)\n",
      "FixPlot(plt)\n",
      "#pyplot.xlim([0,5.2])\n",
      "\n",
      "##########\n",
      "# P-Wave #\n",
      "##########\n",
      "pyplot.subplot(1, 2, 2)\n",
      "\n",
      "df.plot(x='E', y='Cross3P', marker='.', markersize=0.01, label=r'$^3$P Complex Kohn', color=colors[0])\n",
      "pyplot.plot(Walters3PCross[0], Walters3PCross[1], label=r'$^3$P Close Coupling', color=colors[1])\n",
      "pyplot.legend(loc='best', shadow=True)\n",
      "pyplot.xlabel(r\"${\\rm{E}}_{\\kappa}$ (eV)\")\n",
      "#pyplot.ylabel(r\"$\\sigma$ (units of $\\pi a_0^2$)\")\n",
      "pyplot.xlim([0,5.2])\n",
      "ax = plt.gca()\n",
      "ax.text(2.4, 1.5, '(b)', fontsize=22)\n",
      "FixPlot(plt)\n",
      "\n",
      "pyplot.savefig(\"sp-triplet-cross-sections.pdf\", bbox_inches='tight')\n",
      "pyplot.show()"
     ],
     "language": "python",
     "metadata": {},
     "outputs": []
    },
    {
     "cell_type": "heading",
     "level": 3,
     "metadata": {},
     "source": [
      "Born Approximation Cross Sections"
     ]
    },
    {
     "cell_type": "code",
     "collapsed": false,
     "input": [
      "fig = pyplot.figure(figsize=(18, 5.5))\n",
      "colors = ('#52423A', \"#8dd3c7\", '#5F91B7')\n",
      "\n",
      "##########\n",
      "# F-Wave #\n",
      "##########\n",
      "pyplot.subplot(1, 3, 1)\n",
      "\n",
      "pyplot.plot(df['E'], CrossSection(df['Kappa'], df['Phase1F'], 1), label=r'$^1$F Complex Kohn', color=colors[2])\n",
      "pyplot.plot(df['E'], CrossSection(df['Kappa'], df['Phase3F'], 1), label=r'$^3$F Complex Kohn', color=colors[1])\n",
      "pyplot.plot(E1F, CrossSection(kappa1F, sls1F, 1), label=r'Born approximation', color=colors[0])\n",
      "pyplot.legend(loc='upper left', shadow=True)\n",
      "pyplot.xlabel(r\"${\\rm{E}}_{\\kappa}$ (eV)\")\n",
      "pyplot.ylabel(r\"$\\sigma$ (units of $\\pi a_0^2$)\")\n",
      "pyplot.xlim([0,5.2])\n",
      "pyplot.ylim([0,0.3])\n",
      "ax = plt.gca()\n",
      "ax.text(2.4, 0.18, '(a)', fontsize=22)\n",
      "FixPlot(plt)\n",
      "\n",
      "##########\n",
      "# G-Wave #\n",
      "##########\n",
      "pyplot.subplot(1, 3, 2)\n",
      "\n",
      "pyplot.plot(df['E'], CrossSection(df['Kappa'], df['Phase1G'], 1), label=r'$^1$G Complex Kohn', color=colors[2])\n",
      "pyplot.plot(df['E'], CrossSection(df['Kappa'], df['Phase3G'], 1), label=r'$^3$G Complex Kohn', color=colors[1])\n",
      "pyplot.plot(E1G, CrossSection(kappa1G, sls1G, 1), label=r'Born approximation', color=colors[0])\n",
      "pyplot.legend(loc='best', shadow=True)\n",
      "pyplot.xlabel(r\"${\\rm{E}}_{\\kappa}$ (eV)\")\n",
      "#pyplot.ylabel(r\"$\\sigma$ (units of $\\pi a_0^2$)\")\n",
      "pyplot.xlim([0,5.2])\n",
      "pyplot.ylim([0,0.008])\n",
      "ax = plt.gca()\n",
      "ax.text(2.4, 0.0048, '(b)', fontsize=22)\n",
      "FixPlot(plt)\n",
      "\n",
      "\n",
      "##########\n",
      "# H-Wave #\n",
      "##########\n",
      "pyplot.subplot(1, 3, 3)\n",
      "\n",
      "pyplot.plot(df['E'], CrossSection(df['Kappa'], df['Phase1H'], 1), label=r'$^1$H Complex Kohn', color=colors[2])\n",
      "pyplot.plot(df['E'], CrossSection(df['Kappa'], df['Phase3H'], 1), label=r'$^3$H Complex Kohn', color=colors[1])\n",
      "pyplot.plot(E1H, CrossSection(kappa1H, sls1H, 1), label=r'Born approximation', color=colors[0])\n",
      "pyplot.legend(loc='best', shadow=True)\n",
      "pyplot.xlabel(r\"${\\rm{E}}_{\\kappa}$ (eV)\")\n",
      "#pyplot.ylabel(r\"$\\sigma$ (units of $\\pi a_0^2$)\")\n",
      "pyplot.xlim([0,5.2])\n",
      "ax = plt.gca()\n",
      "ax.text(2.4, 0.00027, '(c)', fontsize=22)\n",
      "FixPlot(plt)\n",
      "ax.yaxis.tick_right()\n",
      "\n",
      "pyplot.savefig(\"fgh-born-cross-sections.pdf\", bbox_inches='tight')\n",
      "pyplot.show()"
     ],
     "language": "python",
     "metadata": {},
     "outputs": []
    },
    {
     "cell_type": "heading",
     "level": 3,
     "metadata": {},
     "source": [
      "Maximum Percentage for $\\sigma$"
     ]
    },
    {
     "cell_type": "code",
     "collapsed": false,
     "input": [
      "print \"S-wave: \", ((1/4.0*df['Cross1S'].values + 3/4.0*df['Cross3S'].values) / df['Cross'].values * 100).max()\n",
      "print \"P-wave: \", ((1/4.0*df['Cross1P'].values + 3/4.0*df['Cross3P'].values) / df['Cross'].values * 100).max()\n",
      "print \"D-wave: \", ((1/4.0*df['Cross1D'].values + 3/4.0*df['Cross3D'].values) / df['Cross'].values * 100).max()\n",
      "print \"F-wave: \", ((1/4.0*df['Cross1F'].values + 3/4.0*df['Cross3F'].values) / df['Cross'].values * 100).max()\n",
      "print \"G-wave: \", ((1/4.0*df['Cross1G'].values + 3/4.0*df['Cross3G'].values) / df['Cross'].values * 100).max()\n",
      "print \"H-wave: \", ((1/4.0*df['Cross1H'].values + 3/4.0*df['Cross3H'].values) / df['Cross'].values * 100).max()"
     ],
     "language": "python",
     "metadata": {},
     "outputs": []
    },
    {
     "cell_type": "code",
     "collapsed": false,
     "input": [
      "print \"Maximum percent contributions\"\n",
      "print \"D-wave singlet: \", ((1/4.0*df['Cross1D'].values) / df['Cross'].values * 100).max()\n",
      "print \"D-wave triplet: \", ((1/4.0*df['Cross3D'].values) / df['Cross'].values * 100).max()\n",
      "print \"F-wave singlet: \", ((1/4.0*df['Cross1F'].values) / df['Cross'].values * 100).max()\n",
      "print \"F-wave triplet: \", ((1/4.0*df['Cross3F'].values) / df['Cross'].values * 100).max()\n",
      "print \"G-wave singlet: \", ((1/4.0*df['Cross1G'].values) / df['Cross'].values * 100).max()\n",
      "print \"G-wave triplet: \", ((1/4.0*df['Cross3G'].values) / df['Cross'].values * 100).max()\n",
      "print \"H-wave singlet: \", ((1/4.0*df['Cross1H'].values) / df['Cross'].values * 100).max()\n",
      "print \"H-wave triplet: \", ((1/4.0*df['Cross3H'].values) / df['Cross'].values * 100).max()\n",
      "print\n",
      "print \"Average percent contributions\"\n",
      "print \"D-wave singlet: \", ((1/4.0*df['Cross1D'].values) / df['Cross'].values * 100).mean()\n",
      "print \"D-wave triplet: \", ((1/4.0*df['Cross3D'].values) / df['Cross'].values * 100).mean()\n",
      "print \"F-wave singlet: \", ((1/4.0*df['Cross1F'].values) / df['Cross'].values * 100).mean()\n",
      "print \"F-wave triplet: \", ((1/4.0*df['Cross3F'].values) / df['Cross'].values * 100).mean()\n",
      "print \"G-wave singlet: \", ((1/4.0*df['Cross1G'].values) / df['Cross'].values * 100).mean()\n",
      "print \"G-wave triplet: \", ((1/4.0*df['Cross3G'].values) / df['Cross'].values * 100).mean()\n",
      "print \"H-wave singlet: \", ((1/4.0*df['Cross1H'].values) / df['Cross'].values * 100).mean()\n",
      "print \"H-wave triplet: \", ((1/4.0*df['Cross3H'].values) / df['Cross'].values * 100).mean()"
     ],
     "language": "python",
     "metadata": {},
     "outputs": []
    },
    {
     "cell_type": "heading",
     "level": 3,
     "metadata": {},
     "source": [
      "Percentage Contributions to the Total Cross Section"
     ]
    },
    {
     "cell_type": "code",
     "collapsed": false,
     "input": [
      "# This selects the subset of the cross section lists for only the values of kappa listed.\n",
      "points1 = np.array([0.1, 0.2, 0.3, 0.4, 0.5, 0.6, 0.7])\n",
      "contrib1S = GetSubset(df['Kappa'], points1, df['Cross1S'])\n",
      "contrib1P = GetSubset(df['Kappa'], points1, df['Cross1P'])\n",
      "contrib1D = GetSubset(df['Kappa'], points1, df['Cross1D'])\n",
      "contrib1F = GetSubset(df['Kappa'], points1, df['Cross1F'])\n",
      "contrib1G = GetSubset(df['Kappa'], points1, df['Cross1G'])\n",
      "contrib1H = GetSubset(df['Kappa'], points1, df['Cross1H'])\n",
      "contrib1_tot = GetSubset(df['Kappa'], points1, df['Cross1']) * 4\n",
      "\n",
      "# Find the percentages\n",
      "percent1S = contrib1S / contrib1_tot * 100\n",
      "percent1P = contrib1P / contrib1_tot * 100\n",
      "percent1D = contrib1D / contrib1_tot * 100\n",
      "percent1F = contrib1F / contrib1_tot * 100\n",
      "percent1G = contrib1G / contrib1_tot * 100\n",
      "percent1H = contrib1H / contrib1_tot * 100"
     ],
     "language": "python",
     "metadata": {},
     "outputs": []
    },
    {
     "cell_type": "code",
     "collapsed": false,
     "input": [
      "# This selects the subset of the cross section lists for only the values of kappa listed.\n",
      "points3 = np.array([0.1, 0.2, 0.3, 0.4, 0.5, 0.6, 0.7])\n",
      "contrib3S = GetSubset(df['Kappa'], points3, df['Cross3S'])\n",
      "contrib3P = GetSubset(df['Kappa'], points3, df['Cross3P'])\n",
      "contrib3D = GetSubset(df['Kappa'], points3, df['Cross3D'])\n",
      "contrib3F = GetSubset(df['Kappa'], points3, df['Cross3F'])\n",
      "contrib3G = GetSubset(df['Kappa'], points3, df['Cross3G'])\n",
      "contrib3H = GetSubset(df['Kappa'], points3, df['Cross3H'])\n",
      "contrib3_tot = GetSubset(df['Kappa'], points3, df['Cross3']) * 4 / 3.0\n",
      "\n",
      "# Find the percentages\n",
      "percent3S = contrib3S / contrib3_tot * 100\n",
      "percent3P = contrib3P / contrib3_tot * 100\n",
      "percent3D = contrib3D / contrib3_tot * 100\n",
      "percent3F = contrib3F / contrib3_tot * 100\n",
      "percent3G = contrib3G / contrib3_tot * 100\n",
      "percent3H = contrib3H / contrib3_tot * 100"
     ],
     "language": "python",
     "metadata": {},
     "outputs": []
    },
    {
     "cell_type": "code",
     "collapsed": false,
     "input": [
      "fig = pyplot.figure(figsize=(14, 5.5))\n",
      "\n",
      "###########\n",
      "# Singlet #\n",
      "###########\n",
      "pyplot.subplot(1, 2, 1)\n",
      "pyplot.xlabel(r\"$\\kappa$\")\n",
      "pyplot.ylabel(r\"Percent (\\%)\")\n",
      "pyplot.bar(np.array(points1)-0.045, percent1S, 0.09, color='b', bottom=percent1F+percent1D+percent1P, label='$^1$S')\n",
      "pyplot.bar(np.array(points1)-0.045, percent1P, 0.09, color='g', bottom=percent1F+percent1D, label='$^1$P')\n",
      "pyplot.bar(np.array(points1)-0.045, percent1D, 0.09, color='r', bottom=percent1F, label='$^1$D')\n",
      "pyplot.bar(np.array(points1)-0.045, percent1F, 0.09, color='c', label='$^1$F')\n",
      "pyplot.ylim([0,100])\n",
      "pyplot.legend(loc='upper left', shadow=True)\n",
      "ax = plt.gca()\n",
      "ax.text(0.375, 80, '(a)', fontsize=22, color='white')\n",
      "\n",
      "###########\n",
      "# Triplet #\n",
      "###########\n",
      "pyplot.subplot(1, 2, 2)\n",
      "pyplot.xlabel(r\"$\\kappa$\")\n",
      "pyplot.bar(np.array(points3)-0.045, percent3S, 0.09, color='b', bottom=percent3F+percent3D+percent3P, label='$^3$S')\n",
      "pyplot.bar(np.array(points3)-0.045, percent3P, 0.09, color='g', bottom=percent3F+percent3D, label='$^3$P')\n",
      "pyplot.bar(np.array(points3)-0.045, percent3D, 0.09, color='r', bottom=percent3F, label='$^3$D')\n",
      "pyplot.bar(np.array(points3)-0.045, percent3F, 0.09, color='c', label='$^3$F')\n",
      "pyplot.ylim([0,100])\n",
      "pyplot.legend(loc='upper left', shadow=True)\n",
      "ax = plt.gca()\n",
      "ax.text(0.375, 80, '(b)', fontsize=22, color='white')\n",
      "\n",
      "pyplot.savefig(\"percentage-cross-sections.pdf\", bbox_inches='tight')\n",
      "pyplot.show()"
     ],
     "language": "python",
     "metadata": {},
     "outputs": []
    },
    {
     "cell_type": "code",
     "collapsed": false,
     "input": [
      "percent1SFull = (0.25 * df['Cross1S'] / df['Cross1'] * 100).tolist()\n",
      "percent1PFull = (0.25 * df['Cross1P'] / df['Cross1'] * 100).tolist()\n",
      "percent1DFull = (0.25 * df['Cross1D'] / df['Cross1'] * 100).tolist()\n",
      "percent1FFull = (0.25 * df['Cross1F'] / df['Cross1'] * 100).tolist()\n",
      "\n",
      "percent3SFull = (0.75 * df['Cross3S'] / df['Cross3'] * 100).tolist()\n",
      "percent3PFull = (0.75 * df['Cross3P'] / df['Cross3'] * 100).tolist()\n",
      "percent3DFull = (0.75 * df['Cross3D'] / df['Cross3'] * 100).tolist()\n",
      "percent3FFull = (0.75 * df['Cross3F'] / df['Cross3'] * 100).tolist()"
     ],
     "language": "python",
     "metadata": {},
     "outputs": []
    },
    {
     "cell_type": "code",
     "collapsed": false,
     "input": [
      "colors = ('#52423A', \"#8dd3c7\", '#5F91B7')\n",
      "fig = pyplot.figure(figsize=(14, 5.5))\n",
      "\n",
      "###########\n",
      "# Singlet #\n",
      "###########\n",
      "pyplot.subplot(1, 2, 1)\n",
      "pyplot.plot(df['E'], percent1SFull, marker='.', markersize=0.01, label=r'$^1$S', color=colors[0])\n",
      "pyplot.plot(df['E'], percent1PFull, marker='.', markersize=0.01, label=r'$^1$P', color=colors[1])\n",
      "pyplot.plot(df['E'], percent1DFull, marker='.', markersize=0.01, label=r'$^1$D', color=colors[2], ls='dashed')\n",
      "pyplot.plot(df['E'], percent1FFull, marker='.', markersize=0.01, label=r'$^1$F', color=colors[0], ls='dashed')\n",
      "pyplot.legend(loc='best', shadow=True)\n",
      "pyplot.xlabel(r\"${\\rm{E}}_{\\kappa}$ (eV)\")\n",
      "pyplot.ylabel(r\"Percent (\\%)\")\n",
      "pyplot.xlim([0,5.2])\n",
      "ax = plt.gca()\n",
      "ax.text(2.5, 90, '(a)', fontsize=22)\n",
      "FixPlot(plt)\n",
      "\n",
      "###########\n",
      "# Triplet #\n",
      "###########\n",
      "pyplot.subplot(1, 2, 2)\n",
      "pyplot.plot(df['E'], percent3SFull, marker='.', markersize=0.01, label=r'$^3$S', color=colors[0])\n",
      "pyplot.plot(df['E'], percent3PFull, marker='.', markersize=0.01, label=r'$^3$P', color=colors[1])\n",
      "pyplot.plot(df['E'], percent3DFull, marker='.', markersize=0.01, label=r'$^3$D', color=colors[2], ls='dashed')\n",
      "pyplot.plot(df['E'], percent3FFull, marker='.', markersize=0.01, label=r'$^3$F', color=colors[0], ls='dashed')\n",
      "pyplot.legend(loc='best', shadow=True)\n",
      "pyplot.xlabel(r\"${\\rm{E}}_{\\kappa}$ (eV)\")\n",
      "pyplot.xlim([0,5.2])\n",
      "ax = plt.gca()\n",
      "ax.text(2.5, 90, '(b)', fontsize=22)\n",
      "FixPlot(plt)\n",
      "\n",
      "pyplot.savefig(\"percentage-cross-sections-full.pdf\", bbox_inches='tight')\n",
      "pyplot.show()"
     ],
     "language": "python",
     "metadata": {},
     "outputs": []
    },
    {
     "cell_type": "heading",
     "level": 2,
     "metadata": {},
     "source": [
      "Differential Cross Sections"
     ]
    },
    {
     "cell_type": "markdown",
     "metadata": {},
     "source": [
      "See \"Differential Cross Sections.ipynb\""
     ]
    },
    {
     "cell_type": "heading",
     "level": 2,
     "metadata": {},
     "source": [
      "Scattering Amplitude"
     ]
    },
    {
     "cell_type": "markdown",
     "metadata": {},
     "source": [
      "See \"Differential Cross Sections.ipynb\""
     ]
    },
    {
     "cell_type": "heading",
     "level": 2,
     "metadata": {},
     "source": [
      "Momentum Transfer Cross Sections"
     ]
    },
    {
     "cell_type": "code",
     "collapsed": false,
     "input": [
      "def PercentDiff(a, b):\n",
      "    return abs((a-b)/(a+b)*2) * 100"
     ],
     "language": "python",
     "metadata": {},
     "outputs": []
    },
    {
     "cell_type": "code",
     "collapsed": false,
     "input": [
      "# Singlet\n",
      "interp_phasec1S = np.array(df['Phase1S'].tolist())\n",
      "interp_phasec1P = np.array(df['Phase1P'].tolist())\n",
      "interp_phasec1D = np.array(df['Phase1D'].tolist())\n",
      "interp_phasec1F = np.array(df['Phase1F'].tolist())\n",
      "interp_phasec1G = np.array(df['Phase1G'].tolist())\n",
      "interp_phasec1H = np.array(df['Phase1H'].tolist())\n",
      "interp_phase1 = [interp_phasec1S, interp_phasec1P, interp_phasec1D, interp_phasec1F, interp_phasec1G, interp_phasec1H]\n",
      "# Triplet\n",
      "interp_phasec3S = np.array(df['Phase3S'].tolist())\n",
      "interp_phasec3P = np.array(df['Phase3P'].tolist())\n",
      "interp_phasec3D = np.array(df['Phase3D'].tolist())\n",
      "interp_phasec3F = np.array(df['Phase3F'].tolist())\n",
      "interp_phasec3G = np.array(df['Phase3G'].tolist())\n",
      "interp_phasec3H = np.array(df['Phase3H'].tolist())\n",
      "interp_phase3 = [interp_phasec3S, interp_phasec3P, interp_phasec3D, interp_phasec3F, interp_phasec3G, interp_phasec3H]\n",
      "# Energy and momentum values used\n",
      "kappasub = np.array(df['Kappa'].tolist())\n",
      "Esub = np.array(df['E'].tolist())\n",
      "minK = df['Kappa'].min()\n",
      "maxK = df['Kappa'].max()"
     ],
     "language": "python",
     "metadata": {},
     "outputs": []
    },
    {
     "cell_type": "code",
     "collapsed": false,
     "input": [
      "lmax = 5  # Through the H-wave\n",
      "\n",
      "mom_arrays = []\n",
      "mom_cross1 = []\n",
      "mom_cross3 = []\n",
      "for lm in range(lmax+1):\n",
      "    mom_cross = []\n",
      "    for i in range(np.size(kappasub)):\n",
      "        k = kappasub[i]\n",
      "        m1 = 0\n",
      "        m3 = 0\n",
      "        for l in range(lm):\n",
      "            m1 += 4 / k**2 * (l+1) * (sin(interp_phase1[l][i] - interp_phase1[l+1][i]))**2\n",
      "            m3 += 4 / k**2 * (l+1) * (sin(interp_phase3[l][i] - interp_phase3[l+1][i]))**2\n",
      "        mom_cross1 = np.append(mom_cross1, 0.25*m1)\n",
      "        mom_cross3 = np.append(mom_cross3, 0.75*m3)\n",
      "        mom_cross = np.append(mom_cross, 0.25*m1 + 0.75*m3)\n",
      "    mom_arrays.append(mom_cross)"
     ],
     "language": "python",
     "metadata": {},
     "outputs": []
    },
    {
     "cell_type": "code",
     "collapsed": false,
     "input": [
      "print \"Maximum percent differences\"\n",
      "print \"P-wave: \", PercentDiff(mom_arrays[0], mom_arrays[1]).max()\n",
      "print \"D-wave: \", PercentDiff(mom_arrays[1], mom_arrays[2]).max()\n",
      "print \"F-wave: \", PercentDiff(mom_arrays[2], mom_arrays[3]).max()\n",
      "print \"G-wave: \", PercentDiff(mom_arrays[3], mom_arrays[4]).max()\n",
      "print \"H-wave: \", PercentDiff(mom_arrays[4], mom_arrays[5]).max()\n",
      "print\n",
      "print \"Average percent differences\"\n",
      "print \"P-wave: \", PercentDiff(mom_arrays[0], mom_arrays[1]).mean()\n",
      "print \"D-wave: \", PercentDiff(mom_arrays[1], mom_arrays[2]).mean()\n",
      "print \"F-wave: \", PercentDiff(mom_arrays[2], mom_arrays[3]).mean()\n",
      "print \"G-wave: \", PercentDiff(mom_arrays[3], mom_arrays[4]).mean()\n",
      "print \"H-wave: \", PercentDiff(mom_arrays[4], mom_arrays[5]).mean()"
     ],
     "language": "python",
     "metadata": {},
     "outputs": []
    },
    {
     "cell_type": "code",
     "collapsed": false,
     "input": [
      "plotcol = (singletcolor, tripletcolor, '#52423A')\n",
      "plotsty = ('-', '-', ':')\n",
      "\n",
      "lmax = 5  # Through the H-wave\n",
      "\n",
      "pyplot.xlabel(r\"${\\rm{E}}_{\\kappa}$ (eV)\")\n",
      "pyplot.ylabel(r\"$\\sigma_m$ ($\\pi a_0^2$)\")\n",
      "\n",
      "mom_cross1 = []\n",
      "mom_cross3 = []\n",
      "mom_cross = []\n",
      "for i in range(np.size(kappasub)):\n",
      "    k = kappasub[i]\n",
      "    m1 = 0\n",
      "    m3 = 0\n",
      "    for l in range(lmax):\n",
      "        m1 += 4 / k**2 * (l+1) * (sin(interp_phase1[l][i] - interp_phase1[l+1][i]))**2\n",
      "        m3 += 4 / k**2 * (l+1) * (sin(interp_phase3[l][i] - interp_phase3[l+1][i]))**2\n",
      "    mom_cross1 = np.append(mom_cross1, 0.25*m1)\n",
      "    mom_cross3 = np.append(mom_cross3, 0.75*m3)\n",
      "    mom_cross = np.append(mom_cross, 0.25*m1 + 0.75*m3)\n",
      "pyplot.plot(ktoE(kappasub), mom_cross1, plotsty[0], marker='.', markersize=0.01, label=r\"Singlet\", color=plotcol[0])\n",
      "pyplot.plot(ktoE(kappasub), mom_cross3, plotsty[1], marker='.', markersize=0.01, label=r\"Triplet\", color=plotcol[1])\n",
      "pyplot.plot(ktoE(kappasub), mom_cross, plotsty[1], marker='.', markersize=0.01, label=r\"Spin-weighted\", color=plotcol[2])\n",
      "\n",
      "line, = pyplot.plot(ktoE(datanpthc[0]), datanpthc[1]/pi, label=r'Static exchange $\\sigma_{m}$', color=colors[1])  #, ls = 'dashed'\n",
      "line.set_dashes([7, 2, 3, 2])  # 7 points on, 1 point off, 3 points on, 1 point off\n",
      "\n",
      "pyplot.legend()\n",
      "pyplot.xlim([0,5.15])\n",
      "pyplot.ylim([0,35])\n",
      "FixPlot(plt)\n",
      "pyplot.savefig(\"momentum-cross-sections.pdf\", bbox_inches='tight')\n",
      "pyplot.show()"
     ],
     "language": "python",
     "metadata": {},
     "outputs": []
    },
    {
     "cell_type": "heading",
     "level": 2,
     "metadata": {},
     "source": [
      "Ortho-Para Conversion Cross Sections"
     ]
    },
    {
     "cell_type": "code",
     "collapsed": false,
     "input": [
      "lmax = 5  # Through the H-wave\n",
      "\n",
      "oparrays = []\n",
      "for lm in range(lmax+1):\n",
      "    op_cross = []\n",
      "    for i in range(np.size(kappasub)):\n",
      "        k = kappasub[i]\n",
      "        op = 0\n",
      "        for l in range(lm+1):\n",
      "            op += 1 / (4*k**2) * (2*l+1) * (sin(interp_phase1[l][i] - interp_phase3[l][i]))**2\n",
      "        op_cross = np.append(op_cross, op)\n",
      "    oparrays.append(op_cross)"
     ],
     "language": "python",
     "metadata": {},
     "outputs": []
    },
    {
     "cell_type": "code",
     "collapsed": false,
     "input": [
      "print \"Maximum percent differences\"\n",
      "print \"P-wave: \", PercentDiff(oparrays[0], oparrays[1]).max()\n",
      "print \"D-wave: \", PercentDiff(oparrays[1], oparrays[2]).max()\n",
      "print \"F-wave: \", PercentDiff(oparrays[2], oparrays[3]).max()\n",
      "print \"G-wave: \", PercentDiff(oparrays[3], oparrays[4]).max()\n",
      "print \"H-wave: \", PercentDiff(oparrays[4], oparrays[5]).max()\n",
      "print\n",
      "print \"Average percent differences\"\n",
      "print \"P-wave: \", PercentDiff(oparrays[0], oparrays[1]).mean()\n",
      "print \"D-wave: \", PercentDiff(oparrays[1], oparrays[2]).mean()\n",
      "print \"F-wave: \", PercentDiff(oparrays[2], oparrays[3]).mean()\n",
      "print \"G-wave: \", PercentDiff(oparrays[3], oparrays[4]).mean()\n",
      "print \"H-wave: \", PercentDiff(oparrays[4], oparrays[5]).mean()"
     ],
     "language": "python",
     "metadata": {},
     "outputs": []
    },
    {
     "cell_type": "code",
     "collapsed": false,
     "input": [
      "colors = ('#52423A', \"#8dd3c7\", '#5F91B7')\n",
      "plotsty = ('-', '-', ':')\n",
      "\n",
      "lmax = 5  # Through the H-wave\n",
      "\n",
      "pyplot.xlabel(r\"${\\rm{E}}_{\\kappa}$ (eV)\")\n",
      "pyplot.ylabel(r\"$\\sigma_c$ ($\\pi a_0^2$)\")\n",
      "\n",
      "op_cross = []\n",
      "for i in range(np.size(kappasub)):\n",
      "    k = kappasub[i]\n",
      "    op = 0\n",
      "    for l in range(lmax+1):\n",
      "        op += 1 / (4*k**2) * (2*l+1) * (sin(interp_phase1[l][i] - interp_phase3[l][i]))**2\n",
      "    op_cross = np.append(op_cross, op)\n",
      "\n",
      "pyplot.plot(datanptbc[0], datanptbc[1], label=r'CC $\\sigma_{c}$', color=colors[1])  #, ls = 'dashed'\n",
      "pyplot.plot(datanptc[0], datanptc[1], label=r'CP $\\sigma_{c}$', color=colors[2])  #, ls = 'dashed'\n",
      "pyplot.plot(ktoE(kappasub), op_cross, '-', marker='.', label=r'Complex Kohn', markersize=0.01, color='black')\n",
      "\n",
      "pyplot.legend()\n",
      "pyplot.xlim([0,5.5])\n",
      "FixPlot(plt)\n",
      "pyplot.savefig(\"orthopara-cross-sections.pdf\", bbox_inches='tight')\n",
      "pyplot.show()"
     ],
     "language": "python",
     "metadata": {},
     "outputs": []
    },
    {
     "cell_type": "code",
     "collapsed": false,
     "input": [
      "from scipy.interpolate import spline\n",
      "\n",
      "x = datanptbc[0]\n",
      "y = datanptbc[1]\n",
      "\n",
      "f = interp1d(x, y)\n",
      "f2 = interp1d(x, y, kind='cubic')\n",
      "xnew = np.linspace(x.min(), x.max(), 100)\n",
      "\n",
      "pyplot.xlabel(r\"${\\rm{E}}_{\\kappa}$ (eV)\")\n",
      "pyplot.plot(xnew, f2(xnew), label=r'CC $\\sigma_{c}$', color='black')\n",
      "\n",
      "pyplot.legend()\n",
      "pyplot.xlim([0,5.15])\n",
      "FixPlot(plt)\n",
      "pyplot.show()"
     ],
     "language": "python",
     "metadata": {},
     "outputs": []
    },
    {
     "cell_type": "heading",
     "level": 2,
     "metadata": {},
     "source": [
      "Combined Cross Sections"
     ]
    },
    {
     "cell_type": "code",
     "collapsed": false,
     "input": [
      "colors = ('#52423A', \"#8dd3c7\", '#5F91B7')\n",
      "\n",
      "df.plot(x='E', y='Cross', marker='.', markersize=0.01, label=r'Complex Kohn $\\sigma_{el}$', color=colors[0])\n",
      "pyplot.plot(ktoE(kappasub), mom_cross, plotsty[1], marker='.', markersize=0.01, label=r'Complex Kohn $\\sigma_{m}$', color=colors[1])\n",
      "pyplot.plot(ktoE(kappasub), op_cross, '-', marker='.', markersize=0.01, label=r'Complex Kohn $\\sigma_{c}$', color=colors[2])\n",
      "\n",
      "pyplot.xlabel(r\"${\\rm{E}}_{\\kappa}$ (eV)\")\n",
      "pyplot.ylabel(r\"$\\sigma$ ($\\pi a_0^2$)\")\n",
      "\n",
      "pyplot.legend()\n",
      "pyplot.xlim([0,5.15])\n",
      "pyplot.ylim([0,35])\n",
      "FixPlot(plt)\n",
      "pyplot.savefig(\"cross-section-comparisons.pdf\", bbox_inches='tight')\n",
      "pyplot.show()"
     ],
     "language": "python",
     "metadata": {},
     "outputs": []
    },
    {
     "cell_type": "heading",
     "level": 2,
     "metadata": {},
     "source": [
      "False Triplet Resonance"
     ]
    },
    {
     "cell_type": "code",
     "collapsed": false,
     "input": [
      "kappa3Ssmall10, E3Ssmall10, phase3Ssmall10, cross3Ssmall10 = GetPhaseShifts(cursor, entries3S, 10, 0, kohnmethod)\n",
      "kappa3Ssmall15, E3Ssmall15, phase3Ssmall15, cross3Ssmall15 = GetPhaseShifts(cursor, entries3S, 15, 0, kohnmethod)\n",
      "\n",
      "fig = pyplot.figure()\n",
      "pyplot.plot(E3Ssmall10, phase3Ssmall10, marker='.', markersize=0.01, color=tripletcolor, label='10 short-range terms')\n",
      "pyplot.plot(E3Ssmall15, phase3Ssmall15, marker='.', markersize=0.01, ls='dashed', color=tripletcolor, label='15 short-range terms')\n",
      "pyplot.xlabel(r\"${\\rm{E}}_{\\kappa}$ (eV)\")\n",
      "pyplot.ylabel(r\"$\\delta_0^-$ (radians)\")\n",
      "pyplot.xlim([0,5.15])\n",
      "pyplot.legend()\n",
      "FixPlot(plt)\n",
      "pyplot.savefig(\"triplet-false-resonance.pdf\", bbox_inches='tight')\n",
      "pyplot.show()"
     ],
     "language": "python",
     "metadata": {},
     "outputs": []
    },
    {
     "cell_type": "heading",
     "level": 2,
     "metadata": {},
     "source": [
      "Divergence Plot"
     ]
    },
    {
     "cell_type": "code",
     "collapsed": false,
     "input": [
      "smat  = GetPhaseN(cursor, 'data_phase_swavesinglet_w7k01m09a0586b0580g1093_ap_17_984', 'smatrix')\n",
      "gen01 = GetPhaseN(cursor, 'data_phase_swavesinglet_w7k01m09a0586b0580g1093_ap_17_984', 'gen01')\n",
      "gen02 = GetPhaseN(cursor, 'data_phase_swavesinglet_w7k01m09a0586b0580g1093_ap_17_984', 'gen02')\n",
      "gen03 = GetPhaseN(cursor, 'data_phase_swavesinglet_w7k01m09a0586b0580g1093_ap_17_984', 'gen03')\n",
      "gen04 = GetPhaseN(cursor, 'data_phase_swavesinglet_w7k01m09a0586b0580g1093_ap_17_984', 'gen04')\n",
      "gen05 = GetPhaseN(cursor, 'data_phase_swavesinglet_w7k01m09a0586b0580g1093_ap_17_984', 'gen05')"
     ],
     "language": "python",
     "metadata": {},
     "outputs": []
    },
    {
     "cell_type": "code",
     "collapsed": false,
     "input": [
      "colors = ('#52423A', '#8dd3c7', '#5F91B7')\n",
      "terms = np.array(range(1400,1600))\n",
      "#pyplot.plot(terms,  smat[1400:1600], lw=1, label=r'S-matrix')\n",
      "pyplot.plot(terms, gen01[1400:1600], lw=1, label=r'$\\tau = 0.1$', ls='solid', color=colors[0])\n",
      "pyplot.plot(terms, gen02[1400:1600], lw=1, label=r'$\\tau = 0.2$', ls='solid', color=colors[1])\n",
      "pyplot.plot(terms, gen03[1400:1600], lw=1, label=r'$\\tau = 0.3$', ls='solid', color=colors[2])\n",
      "pyplot.plot(terms, gen04[1400:1600], lw=1, label=r'$\\tau = 0.4$', ls='dashed', color=colors[0])\n",
      "pyplot.plot(terms, gen05[1400:1600], lw=1, label=r'$\\tau = 0.5$', ls='dashed', color=colors[1])\n",
      "pyplot.xlabel(r\"$N$ (number of short-range terms)\")\n",
      "pyplot.ylabel(r\"$\\delta_0^+$ (radians)\")\n",
      "pyplot.xlim([1400, 1600])\n",
      "pyplot.ylim([-0.426855, -0.42655])\n",
      "pyplot.legend()\n",
      "pyplot.gca().get_yaxis().get_major_formatter().set_useOffset(False)\n",
      "FixPlot(plt)\n",
      "pyplot.savefig('swave-phase-divergence.pdf', bbox_inches='tight')\n",
      "pyplot.show()"
     ],
     "language": "python",
     "metadata": {},
     "outputs": []
    },
    {
     "cell_type": "heading",
     "level": 2,
     "metadata": {},
     "source": [
      "Stabilization Plots"
     ]
    },
    {
     "cell_type": "markdown",
     "metadata": {},
     "source": [
      "See 'Stabilization Plots.ipynb'"
     ]
    },
    {
     "cell_type": "heading",
     "level": 2,
     "metadata": {},
     "source": [
      "$N(\\omega)$"
     ]
    },
    {
     "cell_type": "code",
     "collapsed": false,
     "input": [
      "omega = np.array([range(9)])\n",
      "nomega = scipy.special.binom(omega+6,6)\n",
      "\n",
      "figure(figsize=(8, 6))\n",
      "ax = plt.gca()\n",
      "axline = ax.scatter(omega, nomega, color='royalblue', s=25)\n",
      "axline.set_clip_on(False)\n",
      "pyplot.xlabel(r\"$\\omega$\")\n",
      "pyplot.ylabel(r\"$N(\\omega)$ - number of terms\")\n",
      "pyplot.xlim([0,8.2])\n",
      "pyplot.ylim([-10,3500])\n",
      "pyplot.savefig('num-omega.pdf', bbox_inches='tight')\n",
      "pyplot.show()"
     ],
     "language": "python",
     "metadata": {},
     "outputs": []
    },
    {
     "cell_type": "heading",
     "level": 2,
     "metadata": {},
     "source": [
      "Fano Resonance Cross Sections"
     ]
    },
    {
     "cell_type": "code",
     "collapsed": false,
     "input": [
      "def epsilon(E, ERes, GammaRes):\n",
      "    return (E - ERes) / (GammaRes / 2)\n",
      "\n",
      "def q(Xi):\n",
      "    return -1 / np.tan(Xi)\n",
      "\n",
      "def Etokau(E):\n",
      "    return sqrt(E*4.0)\n",
      "\n",
      "def Fano(E, ERes, GammaRes, L, Xi):\n",
      "    return 4 * np.pi / Etokau(E)**2 * (2*L+1) * np.sin(Xi)**2 * (q(Xi) + epsilon(E,ERes,GammaRes))**2 / (1 + epsilon(E,ERes,GammaRes)**2)"
     ],
     "language": "python",
     "metadata": {},
     "outputs": []
    },
    {
     "cell_type": "code",
     "collapsed": false,
     "input": [
      "colors = ('#52423A', '#8dd3c7', '#5F91B7')\n",
      "E = np.arange(1.2, 2.8, 0.01)\n",
      "L = 0\n",
      "cross0 = Fano(E, 2, 0.2, L, 1e-8)\n",
      "cross1 = Fano(E, 2, 0.2, L, np.pi/4)\n",
      "cross2 = Fano(E, 2, 0.2, L, np.pi/2)\n",
      "cross3 = Fano(E, 2, 0.2, L, 3*np.pi/4)\n",
      "pyplot.plot(E, cross0, ls='solid', label=r'$q=\\pm\\infty$', color=colors[0])\n",
      "pyplot.plot(E, cross1, ls='solid', label=r'$q=-1$', color=colors[2])\n",
      "pyplot.plot(E, cross2, ls='dashed', label=r'$q=0$', color=colors[0])\n",
      "pyplot.plot(E, cross3, ls='dashed', label=r'$q=1$', color=colors[2])\n",
      "pyplot.plot(E, (2*L+1)*np.pi*4/Etokau(E)**2, ls='dotted', color=colors[0])\n",
      "pyplot.xlim([1.2, 2.8])\n",
      "pyplot.xlabel(r\"$E$ (au)\")\n",
      "pyplot.ylabel(r\"$\\sigma$ (units of $\\pi a_0^2$)\")\n",
      "pyplot.legend()\n",
      "pyplot.savefig('fano-cross.pdf', bbox_inches='tight')\n",
      "pyplot.show()"
     ],
     "language": "python",
     "metadata": {},
     "outputs": []
    },
    {
     "cell_type": "heading",
     "level": 2,
     "metadata": {},
     "source": [
      "Cusp"
     ]
    },
    {
     "cell_type": "code",
     "collapsed": false,
     "input": [
      "data = numpy.loadtxt('Cusp.csv', dtype=float, delimiter=',')\n",
      "x = np.transpose(data)[0]\n",
      "y = np.transpose(data)[1]"
     ],
     "language": "python",
     "metadata": {},
     "outputs": []
    },
    {
     "cell_type": "code",
     "collapsed": false,
     "input": [
      "pyplot.plot(x, y*1e6, color=singletcolor)\n",
      "pyplot.xlim([13,25])\n",
      "pyplot.ylim([-8, 8])\n",
      "pyplot.axvline(x=18.201, color='black', ls='dotted', lw=1)\n",
      "pyplot.xlabel(r\"$r_2$ (au)\")\n",
      "pyplot.ylabel(r\"$r_2$ integrand (arbitrary units)\")\n",
      "ax = plt.gca()\n",
      "ax.text(18.3, -4, r\"$r_2 = r_1$\", rotation=90, fontsize=18)\n",
      "FixPlot(plt)\n",
      "plt.tight_layout()\n",
      "pyplot.savefig(\"cusp.pdf\", bbox_inches='tight')\n",
      "pyplot.show()"
     ],
     "language": "python",
     "metadata": {},
     "outputs": []
    },
    {
     "cell_type": "heading",
     "level": 2,
     "metadata": {},
     "source": [
      "Extra Exponential $\\lambda$"
     ]
    },
    {
     "cell_type": "code",
     "collapsed": false,
     "input": [
      "lambdadata = np.genfromtxt(\"Lambda.txt\")\n",
      "lambdadata[:,1] = (lambdadata[:,1]+lambdadata[:,2])/100\n",
      "lambdadata = np.delete(lambdadata, 2, 1)\n",
      "\n",
      "lambda0 = lambdadata[0:50]\n",
      "lambda10 = lambdadata[50:100]\n",
      "lambda15 = lambdadata[100:150]\n",
      "lambda20 = lambdadata[150:200]"
     ],
     "language": "python",
     "metadata": {},
     "outputs": []
    },
    {
     "cell_type": "markdown",
     "metadata": {},
     "source": [
      "# Version with just blues\n",
      "colors = ('#52423A', '#8dd3c7', '#5F91B7')\n",
      "terms = np.array(range(1400,1600))\n",
      "pyplot.plot(lambda0[:,0], lambda0[:,1]/1.3, '+', lw=1.5, markersize=8, mew=2, label=r'$\\lambda = 0.0$', ls='solid', color=colors[0])\n",
      "pyplot.plot(lambda10[:,0], lambda10[:,1], 's', lw=1.5, markersize=5, mew=1, label=r'$\\lambda = 1.0$', ls='solid', color=colors[2])\n",
      "pyplot.plot(lambda15[:,0], lambda15[:,1], 'o', lw=1.5, markersize=5, mew=1, label=r'$\\lambda = 1.5$', ls='dashed', color=colors[0])\n",
      "pyplot.plot(lambda20[:,0], lambda20[:,1]/1.2, 'x', lw=1.5, markersize=8, mew=2, label=r'$\\lambda = 2.0$', ls='dashed', color=colors[2])\n",
      "pyplot.xlabel(r\"$r_1$ (au)\")\n",
      "pyplot.ylabel(r\"$(\\bar{\\phi}_6 \\mathcal{L} \\bar{C}_0)$ term (magnitude unimportant)\")\n",
      "pyplot.xlim([0, 18])\n",
      "pyplot.ylim([-5, 43])\n",
      "pyplot.legend()\n",
      "FixPlot(plt)\n",
      "pyplot.savefig('lambda.pdf', bbox_inches='tight')\n",
      "pyplot.show()"
     ]
    },
    {
     "cell_type": "code",
     "collapsed": false,
     "input": [
      "colors = ('#52423A', '#8dd3c7', '#5F91B7')\n",
      "terms = np.array(range(1400,1600))\n",
      "pyplot.plot(lambda0[:,0], lambda0[:,1]/1.3, 'k+', lw=1.5, markersize=8, mew=2, label=r'$\\lambda = 0.0$', ls='solid')#, color=colors[0])\n",
      "pyplot.plot(lambda10[:,0], lambda10[:,1], 'rs', lw=1.5, markersize=5, mew=1, label=r'$\\lambda = 1.0$', ls='solid')#, color=colors[0])\n",
      "pyplot.plot(lambda15[:,0], lambda15[:,1], 'bo', lw=1.5, markersize=5, mew=1, label=r'$\\lambda = 1.5$', ls='solid')#, color=colors[0])\n",
      "pyplot.plot(lambda20[:,0], lambda20[:,1]/1.2, 'gx', lw=1.5, markersize=8, mew=2, label=r'$\\lambda = 2.0$', ls='solid')#, color=colors[0])\n",
      "pyplot.xlabel(r\"$r_1$ (au)\")\n",
      "pyplot.ylabel(r\"$(\\bar{\\phi}_6 \\mathcal{L} \\bar{C}_0)$ term (magnitude unimportant)\")\n",
      "pyplot.xlim([0, 18])\n",
      "pyplot.ylim([-5, 43])\n",
      "pyplot.legend()\n",
      "FixPlot(plt)\n",
      "pyplot.savefig('lambda.pdf', bbox_inches='tight')\n",
      "pyplot.show()"
     ],
     "language": "python",
     "metadata": {},
     "outputs": []
    },
    {
     "cell_type": "heading",
     "level": 2,
     "metadata": {},
     "source": [
      "D-Wave Nonlinear Parameter Optimization"
     ]
    },
    {
     "cell_type": "heading",
     "level": 4,
     "metadata": {},
     "source": [
      "Singlet $\\kappa$ = 0.1"
     ]
    },
    {
     "cell_type": "code",
     "collapsed": false,
     "input": [
      "alpha = [0.2, 0.25, 0.3, 0.359, 0.4, 0.5, 0.6, 0.7, 0.8]\n",
      "delta = [1.0110e-04, 1.0664e-04, 1.0835e-04, 1.0765e-04, 1.0621e-04, 1.0122e-04, 9.5598e-05, 9.0090e-05, 8.4901e-05]\n",
      "cr = [1.030, 0.949, 0.905, 0.877, 0.868, 0.860, 0.857, 0.854, 0.855]"
     ],
     "language": "python",
     "metadata": {},
     "outputs": []
    },
    {
     "cell_type": "code",
     "collapsed": false,
     "input": [
      "colors = ('#52423A', \"#8dd3c7\", '#5F91B7')\n",
      "fig = pyplot.figure(figsize=(14, 5.5))\n",
      "\n",
      "# Alpha phase variation\n",
      "pyplot.subplot(1, 2, 1)\n",
      "pyplot.plot(alpha, delta, color=colors[2])\n",
      "pyplot.xlabel(r\"$\\alpha$\")\n",
      "pyplot.ylabel(r\"$\\delta_2^+$\")\n",
      "\n",
      "# Alpha convergence ratio\n",
      "pyplot.subplot(1, 2, 2)\n",
      "pyplot.plot(alpha, cr, color=colors[2])\n",
      "pyplot.xlabel(r\"$\\alpha$\")\n",
      "pyplot.ylabel(r\"$\\mathcal{R}$\")\n",
      "ax = plt.gca()\n",
      "ax.yaxis.tick_right()\n",
      "ax.yaxis.set_label_position(\"right\")\n",
      "\n",
      "pyplot.savefig('dwave-singlet-alpha-k01-variation.pdf', bbox_inches='tight')\n",
      "pyplot.show()"
     ],
     "language": "python",
     "metadata": {},
     "outputs": []
    },
    {
     "cell_type": "code",
     "collapsed": false,
     "input": [
      "beta = [0.2, 0.3, 0.368, 0.4, 0.5, 0.6, 0.7, 0.8]\n",
      "delta = [1.0285E-04, 1.0895E-04, 1.0765E-04, 1.0640E-04, 1.0145E-04, 9.6620E-05, 1.6527E-04, -2.0694E-03]\n",
      "cr = [1.042, 0.914, 0.877, 0.865, 0.841, 0.874, 5.2131, -128.261]"
     ],
     "language": "python",
     "metadata": {},
     "outputs": []
    },
    {
     "cell_type": "code",
     "collapsed": false,
     "input": [
      "colors = ('#52423A', \"#8dd3c7\", '#5F91B7')\n",
      "fig = pyplot.figure(figsize=(14, 5.5))\n",
      "\n",
      "# Alpha phase variation\n",
      "pyplot.subplot(1, 2, 1)\n",
      "pyplot.plot(beta, delta, color=colors[2])\n",
      "pyplot.xlabel(r\"$\\beta$\")\n",
      "pyplot.ylabel(r\"$\\delta_2^+$\")\n",
      "pyplot.ylim([0.00009, 0.00017])\n",
      "\n",
      "# Alpha convergence ratio\n",
      "pyplot.subplot(1, 2, 2)\n",
      "pyplot.plot(beta, cr, color=colors[2])\n",
      "pyplot.xlabel(r\"$\\beta$\")\n",
      "pyplot.ylabel(r\"$\\mathcal{R}$\")\n",
      "pyplot.ylim([0, 6])\n",
      "ax = plt.gca()\n",
      "ax.yaxis.tick_right()\n",
      "ax.yaxis.set_label_position(\"right\")\n",
      "\n",
      "pyplot.savefig('dwave-singlet-beta-k01-variation.pdf', bbox_inches='tight')\n",
      "pyplot.show()"
     ],
     "language": "python",
     "metadata": {},
     "outputs": []
    },
    {
     "cell_type": "heading",
     "level": 4,
     "metadata": {},
     "source": [
      "Singlet $\\kappa$ = 0.6"
     ]
    },
    {
     "cell_type": "code",
     "collapsed": false,
     "input": [
      "alpha = [0.2, 0.25, 0.3, 0.359, 0.4, 0.5, 0.6, 0.7, 0.8]\n",
      "delta = [1.6154e-01, 1.7647e-01, 1.8475e-01, 1.9076e-01, 1.9360e-01, 1.9773e-01, 1.9940e-01, 1.9976e-01, 1.9935e-01]\n",
      "cr = [0.896, 0.762, 0.719, 0.697, 0.678, 0.620, 0.575, 0.500, 0.413]"
     ],
     "language": "python",
     "metadata": {},
     "outputs": []
    },
    {
     "cell_type": "code",
     "collapsed": false,
     "input": [
      "colors = ('#52423A', \"#8dd3c7\", '#5F91B7')\n",
      "fig = pyplot.figure(figsize=(14, 5.5))\n",
      "\n",
      "# Alpha phase variation\n",
      "pyplot.subplot(1, 2, 1)\n",
      "pyplot.plot(alpha, delta, color=colors[2])\n",
      "pyplot.xlabel(r\"$\\alpha$\")\n",
      "pyplot.ylabel(r\"$\\delta_2^+$\")\n",
      "pyplot.ylim([0.160, 0.205])\n",
      "\n",
      "# Alpha convergence ratio\n",
      "pyplot.subplot(1, 2, 2)\n",
      "pyplot.plot(alpha, cr, color=colors[2])\n",
      "pyplot.xlabel(r\"$\\alpha$\")\n",
      "pyplot.ylabel(r\"$\\mathcal{R}$\")\n",
      "ax = plt.gca()\n",
      "ax.yaxis.tick_right()\n",
      "ax.yaxis.set_label_position(\"right\")\n",
      "\n",
      "pyplot.savefig('dwave-singlet-alpha-k06-variation.pdf', bbox_inches='tight')\n",
      "pyplot.show()"
     ],
     "language": "python",
     "metadata": {},
     "outputs": []
    },
    {
     "cell_type": "code",
     "collapsed": false,
     "input": [
      "beta = [0.2, 0.3, 0.368, 0.4, 0.5, 0.6, 0.7, 0.8]\n",
      "delta = [1.6970E-01, 1.8564E-01, 1.9076E-01, 1.9239E-01, 1.9557E-01, 1.9699E-01, 2.1067E-01, 1.1528E+00]\n",
      "cr = [0.930, 0.740, 0.697, 0.682, 0.643, 0.614, 1.300, 48.316]"
     ],
     "language": "python",
     "metadata": {},
     "outputs": []
    },
    {
     "cell_type": "code",
     "collapsed": false,
     "input": [
      "colors = ('#52423A', \"#8dd3c7\", '#5F91B7')\n",
      "fig = pyplot.figure(figsize=(14, 5.5))\n",
      "\n",
      "# Alpha phase variation\n",
      "pyplot.subplot(1, 2, 1)\n",
      "pyplot.plot(beta, delta, color=colors[2])\n",
      "pyplot.xlabel(r\"$\\beta$\")\n",
      "pyplot.ylabel(r\"$\\delta_2^+$\")\n",
      "pyplot.ylim([0.160, 0.205])\n",
      "\n",
      "# Alpha convergence ratio\n",
      "pyplot.subplot(1, 2, 2)\n",
      "pyplot.plot(beta, cr, color=colors[2])\n",
      "pyplot.xlabel(r\"$\\beta$\")\n",
      "pyplot.ylabel(r\"$\\mathcal{R}$\")\n",
      "pyplot.ylim([0, 3])\n",
      "ax = plt.gca()\n",
      "ax.yaxis.tick_right()\n",
      "ax.yaxis.set_label_position(\"right\")\n",
      "\n",
      "pyplot.savefig('dwave-singlet-beta-k06-variation.pdf', bbox_inches='tight')\n",
      "pyplot.show()"
     ],
     "language": "python",
     "metadata": {},
     "outputs": []
    },
    {
     "cell_type": "heading",
     "level": 4,
     "metadata": {},
     "source": [
      "Triplet $\\kappa$ = 0.1"
     ]
    },
    {
     "cell_type": "code",
     "collapsed": false,
     "input": [
      "alpha = [0.2, 0.3, 0.365, 0.4]\n",
      "delta = [2.6630e-05, 3.1848e-05, 3.0873e-05, 2.9176e-05]\n",
      "cr = [1.091, 0.939, 0.895, 0.874]"
     ],
     "language": "python",
     "metadata": {},
     "outputs": []
    },
    {
     "cell_type": "code",
     "collapsed": false,
     "input": [
      "colors = ('#52423A', \"#8dd3c7\", '#5F91B7')\n",
      "fig = pyplot.figure(figsize=(14, 5.5))\n",
      "\n",
      "# Alpha phase variation\n",
      "pyplot.subplot(1, 2, 1)\n",
      "pyplot.plot(alpha, delta, markersize=10, color=colors[2])\n",
      "pyplot.xlabel(r\"$\\alpha$\")\n",
      "pyplot.ylabel(r\"$\\delta_2^+$\")\n",
      "pyplot.xlim([0.19, 0.41])\n",
      "\n",
      "# Alpha convergence ratio\n",
      "pyplot.subplot(1, 2, 2)\n",
      "pyplot.plot(alpha, cr, markersize=10, color=colors[2])\n",
      "pyplot.xlabel(r\"$\\alpha$\")\n",
      "pyplot.ylabel(r\"$\\mathcal{R}$\")\n",
      "pyplot.xlim([0.19, 0.41])\n",
      "ax = plt.gca()\n",
      "ax.yaxis.tick_right()\n",
      "ax.yaxis.set_label_position(\"right\")\n",
      "\n",
      "pyplot.savefig('dwave-triplet-alpha-k01-variation.pdf', bbox_inches='tight')\n",
      "pyplot.show()"
     ],
     "language": "python",
     "metadata": {},
     "outputs": []
    },
    {
     "cell_type": "heading",
     "level": 4,
     "metadata": {},
     "source": [
      "Triplet $\\kappa$ = 0.6"
     ]
    },
    {
     "cell_type": "code",
     "collapsed": false,
     "input": [
      "alpha = [0.2, 0.3, 0.365, 0.4, 0.5, 0.6, 0.7, 0.8]\n",
      "delta = [-4.4260E-02, -3.4979E-02, -3.2204E-02, -3.0737E-02, -2.8987E-02, -2.8511E-02, -2.8613E-02, -2.9007E-02]\n",
      "cr = [0.978, 0.787, 0.708, 0.646, 0.535, 0.474, 0.447, 0.446]"
     ],
     "language": "python",
     "metadata": {},
     "outputs": []
    },
    {
     "cell_type": "code",
     "collapsed": false,
     "input": [
      "colors = ('#52423A', \"#8dd3c7\", '#5F91B7')\n",
      "fig = pyplot.figure(figsize=(14, 5.5))\n",
      "\n",
      "# Alpha phase variation\n",
      "pyplot.subplot(1, 2, 1)\n",
      "pyplot.plot(alpha, delta, color=colors[2])\n",
      "pyplot.xlabel(r\"$\\alpha$\")\n",
      "pyplot.ylabel(r\"$\\delta_2^+$\")\n",
      "#pyplot.xlim([0.19, 0.41])\n",
      "\n",
      "# Alpha convergence ratio\n",
      "pyplot.subplot(1, 2, 2)\n",
      "pyplot.plot(alpha, cr, color=colors[2])\n",
      "pyplot.xlabel(r\"$\\alpha$\")\n",
      "pyplot.ylabel(r\"$\\mathcal{R}$\")\n",
      "#pyplot.xlim([0.19, 0.41])\n",
      "ax = plt.gca()\n",
      "ax.yaxis.tick_right()\n",
      "ax.yaxis.set_label_position(\"right\")\n",
      "\n",
      "pyplot.savefig('dwave-triplet-alpha-k06-variation.pdf', bbox_inches='tight')\n",
      "pyplot.show()"
     ],
     "language": "python",
     "metadata": {},
     "outputs": []
    },
    {
     "cell_type": "heading",
     "level": 2,
     "metadata": {},
     "source": [
      "Singlet/Triplet Phase Shift Comparisons"
     ]
    },
    {
     "cell_type": "code",
     "collapsed": false,
     "input": [
      "#pyplot.plot(df['E'], PercentDiff(df['Phase1S'], df['Phase3S']).values, label=r'S-wave \\%')\n",
      "#pyplot.plot(df['E'], PercentDiff(df['Phase1P'], df['Phase3P']).values, label=r'P-wave \\%')\n",
      "#pyplot.plot(df['E'], PercentDiff(df['Phase1D'], df['Phase3D']).values, label=r'D-wave \\%')\n",
      "pyplot.plot(df['E'], PercentDiff(df['Phase1F'], df['Phase3F']).values, label=r'F-wave \\%')\n",
      "pyplot.plot(df['E'], PercentDiff(df['Phase1G'], df['Phase3G']).values, label=r'G-wave \\%')\n",
      "pyplot.plot(df['E'], PercentDiff(df['Phase1H'], df['Phase3H']).values, label=r'H-wave \\%')\n",
      "pyplot.xlim([0, 5.2])\n",
      "pyplot.ylim([0, 200])\n",
      "pyplot.legend()\n",
      "FixPlot(plt)\n",
      "pyplot.savefig('singlet-triplet-compare.pdf', bbox_inches='tight')\n",
      "pyplot.show()"
     ],
     "language": "python",
     "metadata": {},
     "outputs": []
    },
    {
     "cell_type": "heading",
     "level": 2,
     "metadata": {},
     "source": [
      "Cleanup"
     ]
    },
    {
     "cell_type": "code",
     "collapsed": false,
     "input": [
      "db.close()"
     ],
     "language": "python",
     "metadata": {},
     "outputs": []
    },
    {
     "cell_type": "code",
     "collapsed": false,
     "input": [
      "EndTime = datetime.datetime.now()\n",
      "TimeDiff = EndTime - StartTime\n",
      "print \"Seconds: \", TimeDiff.seconds\n",
      "print \"Minutes: \", TimeDiff.seconds / 60."
     ],
     "language": "python",
     "metadata": {},
     "outputs": []
    }
   ],
   "metadata": {}
  }
 ]
}